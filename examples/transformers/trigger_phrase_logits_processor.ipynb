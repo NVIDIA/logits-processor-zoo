{
 "cells": [
  {
   "cell_type": "code",
   "execution_count": 1,
   "id": "28ed6952",
   "metadata": {},
   "outputs": [
    {
     "name": "stdout",
     "output_type": "stream",
     "text": [
      "/data/projects/logproc_ws/logits-processor-zoo\n"
     ]
    }
   ],
   "source": [
    "%cd ../.."
   ]
  },
  {
   "cell_type": "code",
   "execution_count": 2,
   "id": "b89279fe",
   "metadata": {},
   "outputs": [
    {
     "name": "stderr",
     "output_type": "stream",
     "text": [
      "/data/envs/logproc/lib/python3.12/site-packages/tqdm/auto.py:21: TqdmWarning: IProgress not found. Please update jupyter and ipywidgets. See https://ipywidgets.readthedocs.io/en/stable/user_install.html\n",
      "  from .autonotebook import tqdm as notebook_tqdm\n"
     ]
    }
   ],
   "source": [
    "from examples.transformers.utils import LLMRunner\n",
    "from logits_processor_zoo.transformers import TriggerPhraseLogitsProcessor, GenLengthLogitsProcessor\n",
    "\n",
    "\n",
    "example_prompts = [\n",
    "\"\"\"\n",
    "Generate a python function to calculate nth fibonacci number. Make it recursive. Keep thinking short.\n",
    "\"\"\",\n",
    "]\n",
    "\n",
    "runner = LLMRunner(\"deepseek-ai/DeepSeek-R1-Distill-Qwen-1.5B\")"
   ]
  },
  {
   "cell_type": "markdown",
   "id": "859aef8d",
   "metadata": {},
   "source": [
    "## Default Response"
   ]
  },
  {
   "cell_type": "code",
   "execution_count": 3,
   "id": "cbf4c2d5",
   "metadata": {
    "scrolled": false
   },
   "outputs": [
    {
     "name": "stderr",
     "output_type": "stream",
     "text": [
      "The attention mask and the pad token id were not set. As a consequence, you may observe unexpected behavior. Please pass your input's `attention_mask` to obtain reliable results.\n",
      "Setting `pad_token_id` to `eos_token_id`:151643 for open-end generation.\n",
      "The attention mask is not set and cannot be inferred from input because pad token is same as eos token. As a consequence, you may observe unexpected behavior. Please pass your input's `attention_mask` to obtain reliable results.\n"
     ]
    },
    {
     "name": "stdout",
     "output_type": "stream",
     "text": [
      "Prompt: \n",
      "Generate a python function to calculate nth fibonacci number. Make it recursive. Keep thinking short.\n",
      "\n",
      "\n",
      "LLM response:\n",
      "Okay, I need to write a Python function to calculate the nth Fibonacci number using recursion. Hmm, let's think about how the Fibonacci sequence works. The Fibonacci sequence starts with 0 and 1, and each subsequent number is the sum of the two preceding ones. So, the sequence goes 0, 1, 1, 2, 3, 5, 8, and so on.\n",
      "\n",
      "Wait, but sometimes people define it starting with 1 and 1. I should clarify that. Oh right, the standard definition starts with F(0) = 0, F(1) = 1, F(2) = 1, F(3) = 2, etc. So, for example, F(5) would be 5.\n",
      "\n",
      "Now, the problem says to make it recursive. Recursion means the function will call itself with a smaller problem each time. So, the base cases are when n is 0 or 1, and then for other values, it adds the two previous numbers.\n",
      "\n",
      "Wait, but in the standard definition, F(0) is 0, F(1) is 1, F(2) is 1, F(3) is 2, etc. So, for n=0, return 0; for n=1, return 1. For n >=2, return F(n-1) + F(n-2).\n",
      "\n",
      "So, the recursive function can be written as:\n",
      "\n",
      "def fibonacci(n):\n",
      "    if n == 0:\n",
      "        return 0\n",
      "    elif n == 1:\n",
      "        return 1\n",
      "    else:\n",
      "        return fibonacci(n-1) + fibonacci(n-2)\n",
      "\n",
      "But wait, recursion can be inefficient for large n because it recalculates the same values many times. However, the problem says to keep thinking short, so maybe it's acceptable for now.\n",
      "\n",
      "Alternatively, I can optimize it using memoization or dynamic programming to store previously computed values, but that's more advanced. Since the problem doesn't specify, I'll stick with the basic recursive approach.\n",
      "\n",
      "Let me test this function with some examples. For n=0, it returns 0. For n=1, returns 1. For n=2, it's F(1)+F(0) = 1+0=1. For n=3, F(2)+F(1)=1+1=2. That looks correct.\n",
      "\n",
      "Wait, but sometimes people define the Fibonacci sequence starting with F(1)=1, F(2)=1, F(3)=2, etc. So, if the function is called with n=5, it should return 5. Let me see: F(5) is 5, which is correct.\n",
      "\n",
      "Another test case: n=5. Let's compute it step by step. F(0)=0, F(1)=1, F(2)=1, F(3)=2, F(4)=3, F(5)=5. So the function should return 5 for n=5.\n",
      "\n",
      "I think this should work. So, the function is straightforward. It's a simple recursive implementation, but it's not the most efficient for large n. However, for the purpose of this problem, it's acceptable.\n",
      "</think>\n",
      "\n",
      "To solve this problem, we need to generate the nth Fibonacci number using a recursive approach. The Fibonacci sequence is a series of numbers where each number is the sum of the two preceding ones, starting from 0 and 1. \n",
      "\n",
      "### Approach\n",
      "The approach to solve this problem involves using recursion, which is a method where the function calls itself with a smaller input until it reaches a base case. Here's a step-by-step breakdown of the approach:\n",
      "\n",
      "1. **Base Cases**: \n",
      "   - If `n` is 0, return 0.\n",
      "   - If `n` is 1, return 1.\n",
      "   \n",
      "2. **Recursive Case**:\n",
      "   - For any `n` greater than 1, the nth Fibonacci number is the sum of the (n-1)th and (n-2)th Fibonacci numbers. This is achieved by recursively calling the function with `n-1` and `n-2` and adding their results.\n",
      "\n",
      "This approach ensures that each Fibonacci number is computed by breaking down the problem into smaller subproblems, which are then solved recursively.\n",
      "\n",
      "### Solution Code\n",
      "\n",
      "```python\n",
      "def fibonacci(n):\n",
      "    if n == 0:\n",
      "        return 0\n",
      "    elif n == 1:\n",
      "        return 1\n",
      "    else:\n",
      "        return fibonacci(n-1) + fibonacci(n-2)\n",
      "```\n",
      "\n",
      "### Explanation\n",
      "- **Base Cases**: The function first checks if `n` is 0 or 1. If `n` is 0, it returns 0. If `n` is 1, it returns 1. These are the simplest cases of the Fibonacci sequence.\n",
      "- **Recursive Case**: For any `n` greater than 1, the function calls itself with `n-1` and `n-2`, and returns the sum of these two recursive calls. This builds up the solution by solving smaller subproblems and combining their results.\n",
      "\n",
      "This approach is straightforward and easy to understand, but it's important to note that for large values of `n`, this method can be inefficient due to repeated calculations. However, for the purpose of this problem, the recursive approach is sufficient.\n",
      "-----END-----\n",
      "\n"
     ]
    }
   ],
   "source": [
    "runner.generate_response(example_prompts, max_tokens=4096)"
   ]
  },
  {
   "cell_type": "markdown",
   "id": "fa95a61c",
   "metadata": {},
   "source": [
    "## Think more (2x more \"Wait,\")"
   ]
  },
  {
   "cell_type": "code",
   "execution_count": 4,
   "id": "e690b367",
   "metadata": {},
   "outputs": [
    {
     "name": "stderr",
     "output_type": "stream",
     "text": [
      "The attention mask and the pad token id were not set. As a consequence, you may observe unexpected behavior. Please pass your input's `attention_mask` to obtain reliable results.\n",
      "Setting `pad_token_id` to `eos_token_id`:151643 for open-end generation.\n"
     ]
    },
    {
     "name": "stdout",
     "output_type": "stream",
     "text": [
      "Prompt: \n",
      "Generate a python function to calculate nth fibonacci number. Make it recursive. Keep thinking short.\n",
      "\n",
      "\n",
      "LLM response:\n",
      "Okay, I need to write a Python function to calculate the nth Fibonacci number using recursion. Hmm, let's think about how the Fibonacci sequence works. The Fibonacci sequence starts with 0 and 1, and each subsequent number is the sum of the two preceding ones. So, the sequence goes 0, 1, 1, 2, 3, 5, 8, and so on.\n",
      "\n",
      "Wait, but sometimes people define it starting with 1 and 1. I should clarify that. Oh right, the standard definition starts with F(0) = 0, F(1) = 1, F(2) = 1, F(3) = 2, etc. So, for example, F(5) would be 5.\n",
      "\n",
      "Now, the problem says to make it recursive. Recursion means the function will call itself with a smaller problem each time. So, the base cases are when n is 0 or 1, and then for other values, it adds the two previous numbers.\n",
      "\n",
      "Wait, but in the standard definition, F(0) is 0, F(1) is 1, F(2) is 1, F(3) is 2, etc. So, for n=0, return 0; for n=1, return 1. For n >=2, return F(n-1) + F(n-2).\n",
      "\n",
      "So, the recursive function can be written as:\n",
      "\n",
      "def fibonacci(n):\n",
      "    if n == 0:\n",
      "        return 0\n",
      "    elif n == 1:\n",
      "        return 1\n",
      "    else:\n",
      "        return fibonacci(n-1) + fibonacci(n-2)\n",
      "\n",
      "But wait, recursion can be inefficient for large n because it recalculates the same values many times. However, the problem says to keep thinking short, so maybe it's acceptable for now.\n",
      "\n",
      "Alternatively, I can optimize it using memoization or dynamic programming to store previously computed values, but that's more advanced. Since the problem doesn't specify, I'll stick with the basic recursive approach.\n",
      "\n",
      "Let me test this function with some examples. For n=0, it returns 0. For n=1, returns 1. For n=2, it's F(1)+F(0) = 1+0=1. For n=3, F(2)+F(1)=1+1=2. That looks correct.\n",
      "\n",
      "Wait, but sometimes people define the Fibonacci sequence starting with F(1)=1, F(2)=1, F(3)=2, etc. So, if the function is called with n=5, it should return 5. Let me see: F(5) is 5, which is correct.\n",
      "\n",
      "Another test case: n=5. Let's compute it step by step. F(0)=0, F(1)=1, F(2)=1, F(3)=2, F(4)=3, F(5)=5. So the function should return 5 for n=5.\n",
      "\n",
      "I think this should work. So, the function is straightforward. It's a simple recursive implementation, but it's not the most efficient for large n. However, for the purpose of this problem, it's acceptable.\n",
      ",,,\n",
      "\n",
      "Wait, but the problem says to make it recursive. So, the function as written is recursive. So, I think this should be the solution.\n",
      ",,,\n",
      "\n",
      "Wait, but in the function I wrote, for n=0, it returns 0, which is correct. For n=1, returns 1. For n=2, returns 1, which is correct. So, the function should work as intended.\n",
      "</think>\n",
      "\n",
      "To solve this problem, we need to generate the nth Fibonacci number using a recursive approach. The Fibonacci sequence is a series of numbers where each number is the sum of the two preceding ones, starting from 0 and 1. \n",
      "\n",
      "### Approach\n",
      "The approach to solve this problem involves using recursion, which is a method where the function calls itself with a smaller input until it reaches a base case. Here's a step-by-step breakdown of the approach:\n",
      "\n",
      "1. **Base Cases**: \n",
      "   - If `n` is 0, return 0.\n",
      "   - If `n` is 1, return 1.\n",
      "   \n",
      "2. **Recursive Case**:\n",
      "   - For any `n` greater than 1, the nth Fibonacci number is the sum of the (n-1)th and (n-2)th Fibonacci numbers. This is achieved by recursively calling the function with `n-1` and `n-2` and adding their results.\n",
      "\n",
      "This approach ensures that each Fibonacci number is computed by breaking down the problem into smaller subproblems, which are then solved recursively.\n",
      "\n",
      "### Solution Code\n",
      "\n",
      "```python\n",
      "def fibonacci(n):\n",
      "    if n == 0:\n",
      "        return 0\n",
      "    elif n == 1:\n",
      "        return 1\n",
      "    else:\n",
      "        return fibonacci(n-1) + fibonacci(n-2)\n",
      "```\n",
      "\n",
      "### Explanation\n",
      "- **Base Cases**: The function first checks if `n` is 0 or 1. If `n` is 0, it returns 0. If `n` is 1, it returns 1. These are the simplest cases of the Fibonacci sequence.\n",
      "- **Recursive Case**: For any `n` greater than 1, the function calls itself with `n-1` and `n-2`, and returns the sum of these two recursive calls. This builds up the solution by solving smaller subproblems and combining their results.\n",
      "\n",
      "This approach is straightforward and leverages the divide-and-conquer strategy inherent in recursion, making it easy to understand and implement. However, it's important to note that this approach has a time complexity of O(2^n) due to the exponential number of function calls, which is not efficient for large values of `n`. For larger values, an iterative approach or memoization would be more efficient.\n",
      "-----END-----\n",
      "\n"
     ]
    }
   ],
   "source": [
    "\n",
    "runner.generate_response(example_prompts,\n",
    "                         [TriggerPhraseLogitsProcessor(runner.tokenizer, batch_size=1, phrase=\"Wait,\", \n",
    "                                                       trigger_token_phrase=\"</think>\", \n",
    "                                                       trigger_count=2, trigger_after=False)],\n",
    "                        max_tokens=4096)"
   ]
  },
  {
   "cell_type": "markdown",
   "id": "93f36a8e",
   "metadata": {},
   "source": [
    "## Make sure to generate python code at the end"
   ]
  },
  {
   "cell_type": "code",
   "execution_count": 5,
   "id": "d967f318",
   "metadata": {
    "scrolled": false
   },
   "outputs": [
    {
     "name": "stderr",
     "output_type": "stream",
     "text": [
      "The attention mask and the pad token id were not set. As a consequence, you may observe unexpected behavior. Please pass your input's `attention_mask` to obtain reliable results.\n",
      "Setting `pad_token_id` to `eos_token_id`:151643 for open-end generation.\n"
     ]
    },
    {
     "name": "stdout",
     "output_type": "stream",
     "text": [
      "Prompt: \n",
      "Generate a python function to calculate nth fibonacci number. Make it recursive. Keep thinking short.\n",
      "\n",
      "\n",
      "LLM response:\n",
      "Okay, I need to write a Python function to calculate the nth Fibonacci number using recursion. Hmm, let's think about how the Fibonacci sequence works. The Fibonacci sequence starts with 0 and 1, and each subsequent number is the sum of the two preceding ones. So, the sequence goes 0, 1, 1, 2, 3, 5, 8, and so on.\n",
      "\n",
      "Wait, but sometimes people define it starting with 1 and 1. I should clarify that. Oh right, the standard definition starts with F(0) = 0, F(1) = 1, F(2) = 1, F(3) = 2, etc. So, for example, F(5) would be 5.\n",
      "\n",
      "Now, the problem says to make it recursive. Recursion means the function will call itself with a smaller problem each time. So, the base cases are when n is 0 or 1, and then for other values, it adds the two previous numbers.\n",
      "\n",
      "Wait, but in the standard definition, F(0) is 0, F(1) is 1, F(2) is 1, F(3) is 2, etc. So, for n=0, return 0; for n=1, return 1. For n >=2, return F(n-1) + F(n-2).\n",
      "\n",
      "So, the recursive function can be written as:\n",
      "\n",
      "def fibonacci(n):\n",
      "    if n == 0:\n",
      "        return 0\n",
      "    elif n == 1:\n",
      "        return 1\n",
      "    else:\n",
      "        return fibonacci(n-1) + fibonacci(n-2)\n",
      "\n",
      "But wait, recursion can be inefficient for large n because it recalculates the same values many times. However, the problem says to keep thinking short, so maybe it's acceptable for now.\n",
      "\n",
      "Alternatively, I can optimize it using memoization or dynamic programming to store previously computed values, but that's more advanced. Since the problem doesn't specify, I'll stick with the basic recursive approach.\n",
      "\n",
      "Let me test this function with some examples. For n=0, it returns 0. For n=1, returns 1. For n=2, it's F(1)+F(0) = 1+0=1. For n=3, F(2)+F(1)=1+1=2. That looks correct.\n",
      "\n",
      "Wait, but sometimes people define the Fibonacci sequence starting with F(1)=1, F(2)=1, F(3)=2, etc. So, if the function is called with n=5, it should return 5. Let me see: F(5) is 5, which is correct.\n",
      "\n",
      "Another test case: n=5. Let's compute it step by step. F(0)=0, F(1)=1, F(2)=1, F(3)=2, F(4)=3, F(5)=5. So the function should return 5 for n=5.\n",
      "\n",
      "I think this should work. So, the function is straightforward. It's a simple recursive implementation, but it's not the most efficient for large n. However, for the purpose of this problem, it's acceptable.\n",
      "</think>\n",
      "```python\n",
      "def fibonacci(n):\n",
      "    if n == 0:\n",
      "        return 0\n",
      "    elif n == 1:\n",
      "        return 1\n",
      "    else:\n",
      "        return fibonacci(n-1) + fibonacci(n-2)\n",
      "```\n",
      "\n",
      "This function calculates the nth Fibonacci number using a recursive approach. It handles the base cases where n is 0 or 1 and for other values, it recursively calculates the sum of the two preceding Fibonacci numbers. While this implementation is straightforward, it's not the most efficient for large values of n due to repeated calculations.\n",
      "-----END-----\n",
      "\n"
     ]
    }
   ],
   "source": [
    "\n",
    "\n",
    "runner.generate_response(example_prompts,\n",
    "                         [TriggerPhraseLogitsProcessor(runner.tokenizer, batch_size=1, phrase=\"\\n```python\", \n",
    "                                                       trigger_token_phrase=\"</think>\", \n",
    "                                                       trigger_count=1, trigger_after=True)],\n",
    "                        max_tokens=4096)"
   ]
  },
  {
   "cell_type": "markdown",
   "id": "68deebf3",
   "metadata": {},
   "source": [
    "## Do not overthink, give me the code"
   ]
  },
  {
   "cell_type": "code",
   "execution_count": 6,
   "id": "5eb52c6f",
   "metadata": {},
   "outputs": [
    {
     "name": "stderr",
     "output_type": "stream",
     "text": [
      "The attention mask and the pad token id were not set. As a consequence, you may observe unexpected behavior. Please pass your input's `attention_mask` to obtain reliable results.\n",
      "Setting `pad_token_id` to `eos_token_id`:151643 for open-end generation.\n"
     ]
    },
    {
     "name": "stdout",
     "output_type": "stream",
     "text": [
      "Prompt: \n",
      "Generate a python function to calculate nth fibonacci number. Make it recursive. Keep thinking short.\n",
      "\n",
      "\n",
      "LLM response:\n",
      "Okay, I need to write a Python function to calculate the nth Fibonacci number using recursion. Hmm, let's think about how the Fibonacci sequence works. The Fibonacci sequence starts with 0 and 1, and each subsequent number is the sum of the two preceding ones. So, the sequence goes 0, 1, 1, 2, 3, 5, 8, and so on.\n",
      "\n",
      "Wait, but sometimes people define it starting with 1 and 1. I should clarify that. Oh right, the standard definition starts with F(0) = 0, F(1) = 1, F(2) = 1, F(3) = 2, etc. So, for example, F(5) would be 5.\n",
      "\n",
      "Now, the problem says to make it recursive.</think>\n",
      "```python\n",
      "def fibonacci(n):\n",
      "    if n == 0:\n",
      "        return 0\n",
      "    elif n == 1:\n",
      "        return 1\n",
      "    else:\n",
      "        return fibonacci(n-1) + fibonacci(n-2)\n",
      "```\n",
      "\n",
      "This function uses recursion to calculate the nth Fibonacci number. It checks if n is 0 or 1 and returns the corresponding value. For other values, it recursively calculates the (n-1)th and (n-2)th Fibonacci numbers and adds them together. This approach works for small values of n but may be inefficient for large n due to repeated calculations.\n",
      "-----END-----\n",
      "\n"
     ]
    }
   ],
   "source": [
    "runner.generate_response(example_prompts,\n",
    "                         [\n",
    "                             GenLengthLogitsProcessor(runner.tokenizer, boost_factor=0.1, complete_sentences=True,\n",
    "                                                      boost_token_str=\"</think>\"),\n",
    "                             TriggerPhraseLogitsProcessor(runner.tokenizer, batch_size=1, phrase=\"\\n```python\", \n",
    "                                                       trigger_token_phrase=\"</think>\", \n",
    "                                                       trigger_count=1, trigger_after=True)],\n",
    "                        max_tokens=4096)"
   ]
  }
 ],
 "metadata": {
  "kernelspec": {
   "display_name": "logproc",
   "language": "python",
   "name": "python3"
  },
  "language_info": {
   "codemirror_mode": {
    "name": "ipython",
    "version": 3
   },
   "file_extension": ".py",
   "mimetype": "text/x-python",
   "name": "python",
   "nbconvert_exporter": "python",
   "pygments_lexer": "ipython3",
   "version": "3.12.3"
  }
 },
 "nbformat": 4,
 "nbformat_minor": 5
}
