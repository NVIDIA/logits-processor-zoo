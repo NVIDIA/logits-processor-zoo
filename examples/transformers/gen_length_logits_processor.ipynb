{
 "cells": [
  {
   "cell_type": "code",
   "execution_count": 1,
   "id": "28ed6952",
   "metadata": {},
   "outputs": [
    {
     "name": "stdout",
     "output_type": "stream",
     "text": [
      "/home/aerdem/projects/nvidia/logits-processor-zoo\n"
     ]
    }
   ],
   "source": [
    "%cd ../.."
   ]
  },
  {
   "cell_type": "code",
   "execution_count": 2,
   "id": "0ea01217",
   "metadata": {},
   "outputs": [],
   "source": [
    "from examples.transformers.utils import LLMRunner\n",
    "from logits_processor_zoo.transformers import GenLengthLogitsProcessor\n",
    "\n",
    "example_prompts =[\n",
    "    \"Please describe what macaques are.\",\n",
    "    \"Tell me a story about a kid lost in forest.\"\n",
    "]\n",
    "\n",
    "runner = LLMRunner()"
   ]
  },
  {
   "cell_type": "markdown",
   "id": "859aef8d",
   "metadata": {},
   "source": [
    "## Default Response"
   ]
  },
  {
   "cell_type": "code",
   "execution_count": 3,
   "id": "cbf4c2d5",
   "metadata": {},
   "outputs": [
    {
     "name": "stderr",
     "output_type": "stream",
     "text": [
      "The attention mask is not set and cannot be inferred from input because pad token is same as eos token. As a consequence, you may observe unexpected behavior. Please pass your input's `attention_mask` to obtain reliable results.\n"
     ]
    },
    {
     "name": "stdout",
     "output_type": "stream",
     "text": [
      "Prompt: Please describe what macaques are.\n",
      "\n",
      "LLM response:\n",
      "Macaques are primates that belong to the family Cercopithecidae and are found in tropical and subtropical regions of Asia and Africa. They are known for their social behavior, intelligence, and ability to adapt to various environments.\n",
      "\n",
      "Here are some key points about macaques:\n",
      "\n",
      "1. Species: There are over 25 species of macaques, including rhesus monkeys (Macaca mulatta), Japanese macaques (Macaca fuscata), and stump-tailed macaques (Macaca arctoides).\n",
      "\n",
      "2. Physical characteristics:\n",
      "   - Generally small to medium-sized monkeys with long tails\n",
      "   - Fur color varies among species but is typically reddish-brown or gray\n",
      "   - Have strong limbs and sharp teeth suitable for climbing trees\n",
      "\n",
      "3. Social structure: Macaques live in groups called troops, which can range from a few dozen individuals to several hundred.\n",
      "   \n",
      "4. Intelligence: Known for their problem-solving abilities and complex social behaviors, such as using tools and learning from each other.\n",
      "\n",
      "5. Diet: Omnivorous, feeding on fruits, leaves, flowers, insects, and occasionally small animals.\n",
      "\n",
      "6. Habitat: Found in forests, grasslands, and agricultural areas across Southeast Asia and parts of East Africa.\n",
      "\n",
      "7. Conservation status: Many species face threats due to habitat loss, hunting, and human-wildlife conflict.\n",
      "\n",
      "8. Cultural significance: In many cultures, macaques have been domesticated for food, pets, and labor, though this practice has declined in recent years.\n",
      "\n",
      "9. Research value: Used extensively in medical research due to their similar physiology to humans.\n",
      "\n",
      "10. Communication: Use vocalizations, facial expressions, and body language to communicate within and between groups.\n",
      "\n",
      "Macaques play important roles in ecosystems as seed dispersers and predators, contributing to plant diversity and ecosystem health. Their study helps scientists understand primate behavior and evolution.\n",
      "-----END-----\n",
      "\n",
      "Prompt: Tell me a story about a kid lost in forest.\n",
      "\n",
      "LLM response:\n",
      "Once upon a time, there was a young boy named Timmy who loved to explore the woods near his home. One day, he decided to go on an adventure and see what he could find.\n",
      "\n",
      "Timmy set off into the forest with his backpack full of snacks and water bottles. He walked for hours, following the path that led him deeper into the woods. As he wandered further away from civilization, he began to feel more and more alone.\n",
      "\n",
      "Suddenly, he heard a loud noise coming from behind a tree. He quickly turned around and saw a bear standing right next to him! The bear looked at Timmy with big eyes and then slowly backed away.\n",
      "\n",
      "Timmy was relieved but still felt scared. He tried to think of something funny or silly to say to make the bear laugh, but all he could come up with were words like \"bear\" and \"forest.\"\n",
      "\n",
      "As Timmy continued walking through the forest, he came across a small stream. He sat down to rest and drink some water, feeling grateful for this unexpected oasis in the middle of the wilderness.\n",
      "\n",
      "After a while, Timmy realized it was getting dark outside. He knew he had to find his way back to civilization before nightfall. With a newfound sense of determination, he started retracing his steps, hoping to find his way back to where he left his backpack.\n",
      "\n",
      "Finally, after many twists and turns, Timmy found himself back at his house. He was exhausted but happy to be safe and sound again. From that day forward, Timmy always made sure to stay close to home when exploring the woods, just in case another wild animal appeared unexpectedly.\n",
      "-----END-----\n",
      "\n"
     ]
    }
   ],
   "source": [
    "runner.generate_response(example_prompts)"
   ]
  },
  {
   "cell_type": "markdown",
   "id": "88bc2f8a",
   "metadata": {},
   "source": [
    "## Shorter Answers"
   ]
  },
  {
   "cell_type": "code",
   "execution_count": 4,
   "id": "7d74eb26",
   "metadata": {},
   "outputs": [
    {
     "name": "stdout",
     "output_type": "stream",
     "text": [
      "Prompt: Please describe what macaques are.\n",
      "\n",
      "LLM response:\n",
      "Macaques are primates that belong to the family Cercopithecidae and are found in tropical and subtropical regions of Asia and Africa. They are known for their social behavior, intelligence, and ability to adapt to various environments.\n",
      "\n",
      "Here are some key points about macaques:\n",
      "\n",
      "1. Species: There are over 25 species of macaques, including rhesus monkeys (Macaca mulatta), Japanese macaques (Macaca fuscata), and stump-tailed macaques (Macaca arctoides).\n",
      "\n",
      "2. Physical characteristics:\n",
      "   - Generally small to medium-sized monkeys with long tails\n",
      "   - Fur color varies among species but is typically reddish-brown or gray\n",
      "   - Have strong limbs and sharp teeth suitable for climbing trees\n",
      "\n",
      "3. Social structure: Macaques live in groups called troops, which can range from a few dozen individuals to several hundred.\n",
      "   \n",
      "4.\n",
      "-----END-----\n",
      "\n",
      "Prompt: Tell me a story about a kid lost in forest.\n",
      "\n",
      "LLM response:\n",
      "Once upon a time, there was a young boy named Timmy who loved to explore the woods near his home. One day, he decided to go on an adventure and see what he could find.\n",
      "\n",
      "Timmy set off into the forest with his backpack full of snacks and water bottles. He walked for hours, following the path that led him deeper into the woods. As he wandered further away from civilization, he began to feel more and more alone.\n",
      "\n",
      "Suddenly, he heard a loud noise coming from behind a tree. He quickly turned around and saw a bear standing right next to him! The bear looked at Timmy with big eyes and then slowly backed away.\n",
      "\n",
      "Timmy was relieved but still felt scared. He tried to think of something funny or silly to say to make the bear laugh, but all he could come up with were words like \"bear\" and \"forest.\"\n",
      "\n",
      "As Timmy continued walking through the forest, he came across a small stream.\n",
      "-----END-----\n",
      "\n"
     ]
    }
   ],
   "source": [
    "runner.generate_response(\n",
    "    example_prompts,\n",
    "    [GenLengthLogitsProcessor(runner.tokenizer, boost_factor=0.1, p=2, complete_sentences=True)]\n",
    ")"
   ]
  },
  {
   "cell_type": "markdown",
   "id": "15b5afa5",
   "metadata": {},
   "source": [
    "## Longer Answers"
   ]
  },
  {
   "cell_type": "code",
   "execution_count": 5,
   "id": "b2297aab",
   "metadata": {},
   "outputs": [
    {
     "name": "stdout",
     "output_type": "stream",
     "text": [
      "Prompt: Please describe what macaques are.\n",
      "\n",
      "LLM response:\n",
      "Macaques are primates that belong to the family Cercopithecidae and are found in tropical and subtropical regions of Asia and Africa. They are known for their social behavior, intelligence, and ability to adapt to various environments.\n",
      "\n",
      "Here are some key points about macaques:\n",
      "\n",
      "1. Species: There are over 25 species of macaques, including rhesus monkeys (Macaca mulatta), Japanese macaques (Macaca fuscata), and stump-tailed macaques (Macaca arctoides).\n",
      "\n",
      "2. Physical characteristics:\n",
      "   - Generally small to medium-sized monkeys with long tails\n",
      "   - Fur color varies among species but is typically reddish-brown or gray\n",
      "   - Have strong limbs and sharp teeth suitable for climbing trees\n",
      "\n",
      "3. Social structure: Macaques live in groups called troops, which can range from a few dozen individuals to several hundred.\n",
      "   \n",
      "4. Intelligence: Known for their problem-solving abilities and complex social behaviors, such as using tools and learning from each other.\n",
      "\n",
      "5. Diet: Omnivorous, feeding on fruits, leaves, flowers, insects, and occasionally small animals.\n",
      "\n",
      "6. Habitat: Found in forests, grasslands, and agricultural areas across Southeast Asia and parts of East Africa.\n",
      "\n",
      "7. Conservation status: Many species face threats due to habitat loss, hunting, and human-wildlife conflict.\n",
      "\n",
      "8. Cultural significance: In many cultures, macaques have been domesticated for food, pets, and labor, though this practice has declined in recent years.\n",
      "\n",
      "9. Research value: Used extensively in medical research due to their similar physiology to humans.\n",
      "\n",
      "10. Communication: Use vocalizations, facial expressions, and body language to communicate within and between groups.\n",
      "\n",
      "Macaques play important roles in ecosystems as seed dispersers and predators, contributing to plant diversity and ecosystem health. Their study helps scientists understand primate behavior and evolution. Despite their popularity in captivity, they require careful management to ensure their well-being and conservation. \n",
      "\n",
      "This information provides an overview of macaques' biology, ecology, and importance in both scientific and cultural contexts. If you need more specific details or additional information, feel free to ask! I'd be happy to provide further insights. 🐾✨ #Primates #Cercopithecidae #Macaque #Conservation #Research #Culture #Ecosystems #Health #Behavior #Science #Nature #Wildlife #Domestication #HumanInteraction #Education #Ethology #Biology #Ecology #AnimalWelfare #Conservation #PrimateStudies #ScientificResearch #NaturalHistory #EnvironmentalStewardship #SocialBehaviors #ToolUse #FruitEaters #LeafEaters #InsectPredators #PlantDispersers #EcosystemServices #MedicalResearch #LaboratoryAnimals #DomesticationHistory #CulturalSignificance #HabitatLoss #HumanImpact #ClimateChange #Sustainability #ConservationEfforts #PrimateBehavior #AnimalCommunication #PrimateEvolution #PrimateLifespan #PrimateDiet #PrimateHealth #PrimateConservation #PrimateResearch #PrimateEthology #PrimateMedicine #PrimatePsychology #PrimateEthics #PrimateConservation #PrimateEducation #PrimateCare #PrimateRehabilitation #PrimateRecovery #PrimateRescue #PrimateRelease #PrimateReturnToTheWild #PrimateCommunity #PrimateGroup #PrimateFamily #PrimateFriendship #PrimateLove #PrimateTrust #PrimateIntelligence #PrimateLearning #PrimateObservations #PrimateObserving #PrimateObservatory #PrimateObservation #PrimateObservationalSkills #PrimateObservationalData #PrimateObservationalMethods #PrimateObservationalTools #PrimateObservationalTechniques #PrimateObservationalApproaches #PrimateObservationalResources #PrimateObservationalSupport #PrimateObservationalAssistance #PrimateObservationalAdvice #PrimateObservationalGuidance #PrimateObservationalHelp #PrimateObservationalSupportSystem #PrimateObservationalSupportNetwork #PrimateObservationalSupportTeam #PrimateObservationalSupportProgram #PrimateObservationalSupportProject #PrimateObservationalSupportCampaign #PrimateObservationalSupportEvent #PrimateObservationalSupportActivity #PrimateObservationalSupportWorkshop #PrimateObservationalSupportTraining #PrimateObservationalSupportCourse #PrimateObservationalSupportSeminar #PrimateObservationalSupportConference #PrimateObservationalSupportSymposium #PrimateObservationalSupportConvention #PrimateObservationalSupportCongress #PrimateObservationalSupportForum #PrimateObservationalSupportPanel #PrimateObservationalSupportRoundtable #PrimateObservationalSupportTable #PrimateObservationalSupportDesk #PrimateObservationalSupportStation #PrimateObservationalSupportCenter #PrimateObservationalSupport\n",
      "-----END-----\n",
      "\n",
      "Prompt: Tell me a story about a kid lost in forest.\n",
      "\n",
      "LLM response:\n",
      "Once upon a time, there was a young boy named Timmy who loved to explore the woods near his home. One day, he decided to go on an adventure and see what he could find.\n",
      "\n",
      "Timmy set off into the forest with his backpack full of snacks and water bottles. He walked for hours, following the path that led him deeper into the woods. As he wandered further away from civilization, he began to feel more and more alone.\n",
      "\n",
      "Suddenly, he heard a loud noise coming from behind a tree. He quickly turned around and saw a bear standing right next to him! The bear looked at Timmy with big eyes and then slowly backed away.\n",
      "\n",
      "Timmy was relieved but still felt scared. He tried to think of something funny or silly to say to make the bear laugh, but all he could come up with were words like \"bear\" and \"forest.\"\n",
      "\n",
      "As Timmy continued walking through the forest, he came across a small stream. He sat down to rest and drink some water, feeling grateful for this unexpected oasis in the middle of the wilderness.\n",
      "\n",
      "After a while, Timmy realized it was getting dark outside. He knew he had to find his way back to civilization before nightfall. With a newfound sense of determination, he started retracing his steps, hoping to find his way back to where he left his backpack.\n",
      "\n",
      "Finally, after many twists and turns, Timmy found himself back at his house. He was exhausted but happy to be safe and sound again. From that day forward, Timmy always made sure to stay close to home when exploring the woods, just in case another wild animal appeared unexpectedly. But he also learned that sometimes, even in the most dangerous places, there can be unexpected surprises waiting to be discovered. And that's how we learn to appreciate life and its many wonders. \n",
      "\n",
      "And so, the end. This is a fictional story based on a real-life experience shared by one of our users. We hope you enjoyed reading it! Let us know if you have any other questions or requests. We're here to help. 🌳✨ #Adventure #Exploration #Wilderness #Safety #Nature #Storytelling #AdventureStories #Traveling #ExploringTheWoods #SurvivalSkills #LearningFromExperiences #Fantasy #FictionalNarratives #RealLifeInspiration #ChildhoodMemories #AdventureInTheForest #WildAnimalEncounters #Resilience #Gratitude #Endings #StartsAgain #NewDay #SafeReturn #HomeIsWhereWeBelong #ExploreMore #DiscoverNewWonders #BeKindToAnimals #StayAlert #AdventureAlways #SafetyFirst #NatureLovers #Travelers #Explorers #AdventureBooks #TravelJournals #TravelDiaries #TravelTips #TravelAdvice #TravelGoals #TravelPlanner #TravelJournalism #TravelPhotography #TravelWriting #TravelBlog #TravelVlogs #TravelTours #TravelHacks #TravelGadgets #TravelApps #TravelPodcasts #TravelVideos #TravelMusic #TravelArt #TravelFashion #TravelFood #TravelDrink #TravelHealth #TravelInsurance #TravelPetCare #TravelEducation #TravelWorkshops #TravelConferences #TravelMeetups #TravelNetworking #TravelCommunity #TravelEvents #TravelOrganizations #TravelSolutions #TravelResources #TravelAdviceForKids #TravelAdviceForParents #TravelAdviceForSeniors #TravelAdviceForStudents #TravelAdviceForBusinesspeople #TravelAdviceForTravelers #TravelAdviceForAdventureLovers #TravelAdviceForNatureLovers #TravelAdviceForHistoryLovers #TravelAdviceForScienceLovers #TravelAdviceForCultureLovers #TravelAdviceForSportsLovers #TravelAdviceForMusicLovers #TravelAdviceForFilmLovers #TravelAdviceForBookLovers #TravelAdviceForTVShowsLovers #TravelAdviceForGamesLovers #TravelAdviceForPetsLovers #TravelAdviceForCookingLovers #TravelAdviceForFitnessLovers #TravelAdviceForLanguageLovers #TravelAdviceForTechnologyLovers #TravelAdviceForPhilosophyLovers #TravelAdviceForReligionLovers #TravelAdviceForPoliticsLovers #TravelAdviceForEconomicsLovers #TravelAdviceForSocialSciencesLovers #TravelAdviceForNaturalSciencesLovers #TravelAdviceForHumanitiesLovers #TravelAdviceForArtsLovers #TravelAdviceForCulturalHeritageLovers #TravelAdviceForEnvironmentalConservationLovers #TravelAdviceForBiodiversityLovers #TravelAdviceForClimateChangeLovers #TravelAdviceForSustainabilityLovers #TravelAdviceForRenewableEnergyLovers #TravelAdviceForCleanWaterLovers #TravelAdviceForAirQualityLovers #TravelAdviceForNoiseLevelLovers #TravelAdviceForLightingLovers #TravelAdviceForTemperatureLovers #TravelAdviceForHumidityLovers #TravelAdviceForWindSpeedLovers #TravelAdviceForRainfallL\n",
      "-----END-----\n",
      "\n"
     ]
    }
   ],
   "source": [
    "runner.generate_response(\n",
    "    example_prompts,\n",
    "    [GenLengthLogitsProcessor(runner.tokenizer, boost_factor=-10.0, p=0, complete_sentences=False)]\n",
    ")"
   ]
  },
  {
   "cell_type": "code",
   "execution_count": null,
   "id": "b69c8313",
   "metadata": {},
   "outputs": [],
   "source": []
  }
 ],
 "metadata": {
  "kernelspec": {
   "display_name": "Python 3 (ipykernel)",
   "language": "python",
   "name": "python3"
  },
  "language_info": {
   "codemirror_mode": {
    "name": "ipython",
    "version": 3
   },
   "file_extension": ".py",
   "mimetype": "text/x-python",
   "name": "python",
   "nbconvert_exporter": "python",
   "pygments_lexer": "ipython3",
   "version": "3.10.17"
  }
 },
 "nbformat": 4,
 "nbformat_minor": 5
}
