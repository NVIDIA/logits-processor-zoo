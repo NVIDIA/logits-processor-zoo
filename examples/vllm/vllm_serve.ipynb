{
 "cells": [
  {
   "cell_type": "code",
   "execution_count": 1,
   "id": "59f98cf9",
   "metadata": {},
   "outputs": [
    {
     "name": "stdout",
     "output_type": "stream",
     "text": [
      "/home/aerdem/projects/nvidia/logits-processor-zoo\n"
     ]
    }
   ],
   "source": [
    "%cd ../.."
   ]
  },
  {
   "cell_type": "code",
   "execution_count": 2,
   "id": "f2a86616",
   "metadata": {},
   "outputs": [],
   "source": [
    "# Run vllm serve like this:\n",
    "# vllm serve Qwen/Qwen2.5-1.5B-Instruct --dtype auto --api-key lpz-test --logits-processor-pattern \"logits_processor_zoo.vllm\""
   ]
  },
  {
   "cell_type": "code",
   "execution_count": 3,
   "id": "13f407ff",
   "metadata": {},
   "outputs": [
    {
     "name": "stdout",
     "output_type": "stream",
     "text": [
      "Fried rice chicken is a popular Chinese dish that combines the flavors of fried rice with the tender texture and juicy meat of chicken. Here's a basic recipe to help you make it at home:\n",
      "\n",
      "### Ingredients:\n",
      "- 1 pound boneless skinless chicken breast or thighs (cut into bite-sized pieces)\n",
      "- 2 tablespoons vegetable oil\n",
      "- 3 cloves garlic, minced\n",
      "- 1 tablespoon ginger, grated\n",
      "- 1/4 cup soy sauce\n",
      "- 1/4 cup oyster sauce\n",
      "- 1 teaspoon sugar\n",
      "- 1/2 teaspoon salt\n",
      "- 1/4 teaspoon black pepper\n",
      "- 1 can (8 oz) condensed cream of mushroom soup\n",
      "- 1 cup frozen mixed vegetables (such as peas, carrots, corn)\n",
      "- 1/2 cup chopped green onions\n",
      "- 1/4 cup chopped cilantro\n",
      "\n",
      "### Instructions:\n",
      "\n",
      "#### Step 1: Prepare the Chicken\n",
      "1. **Marinate the Chicken:** In a bowl, mix together the chicken, soy sauce, oyster sauce, sugar, salt, and black pepper.\n",
      "2. **Cook the Chicken:** Heat the vegetable oil in a large skillet over medium-high heat. Add the marinated chicken and cook until browned on all sides, about 5 minutes per side. Remove from the pan and set aside.\n",
      "\n",
      "#### Step 2: Cook the Vegetables\n",
      "1. **Sauté the Vegetables:** In the same skillet, add the remaining 1 tablespoon of oil. Sauté the minced garlic and grated ginger for about 30 seconds until fragrant.\n",
      "2. **Add the Mixed Vegetables:** Stir in the frozen mixed vegetables and sauté until they start to soften, about 2-3 minutes.\n",
      "3. **Combine Everything:** Return the cooked chicken to the skillet along with the sautéed vegetables. Pour in the condensed cream of mushroom soup and stir well to combine everything.\n",
      "\n",
      "#### Step 3: Finish Cooking\n",
      "1. **Simmer the Sauce:** Bring the mixture to a simmer over low heat. Let it cook for about 5 minutes, stirring occasionally, until the sauce thickens slightly.\n",
      "2. **Serve:** Garnish with chopped green onions and cilantro before serving. This dish can be served hot or cold depending on your preference.\n",
      "\n",
      "Enjoy your homemade fried rice chicken! Adjust the seasoning according to your taste preferences.\n"
     ]
    }
   ],
   "source": [
    "from openai import OpenAI\n",
    "\n",
    "model_name = \"Qwen/Qwen2.5-1.5B-Instruct\"\n",
    "\n",
    "client = OpenAI(\n",
    "    base_url=\"http://localhost:8000/v1\",\n",
    "    api_key=\"lpz-test\",\n",
    ")\n",
    "\n",
    "completion = client.chat.completions.create(\n",
    "    model=model_name,\n",
    "    messages=[\n",
    "        {\"role\": \"user\", \"content\": \"Can you explain how fried rice chicken is cooked?\"}\n",
    "    ],    \n",
    "    temperature=0,\n",
    "    top_p=1\n",
    ")\n",
    "\n",
    "print(completion.choices[0].message.content)"
   ]
  },
  {
   "cell_type": "code",
   "execution_count": 4,
   "id": "6227231c",
   "metadata": {},
   "outputs": [
    {
     "name": "stdout",
     "output_type": "stream",
     "text": [
      "Fried rice chicken is a popular Chinese dish that combines the flavors of fried rice with the tender texture and juicy meat of chicken. Here's a basic recipe to help you make it at home:\n",
      "\n",
      "### Ingredients:\n",
      "- 1 pound boneless skinless chicken breast or thighs (cut into bite-sized pieces)\n",
      "- 2 tablespoons vegetable oil\n",
      "- 3 cloves garlic, minced\n",
      "- 1 tablespoon ginger, grated\n",
      "- 1/4 cup soy sauce\n",
      "- 1/4 cup oyster sauce\n",
      "- 1 teaspoon sugar\n",
      "- 1/2 teaspoon salt\n",
      "- 1/4 teaspoon black pepper\n",
      "- 1 can (8 oz) condensed cream of mushroom soup\n",
      "\n"
     ]
    }
   ],
   "source": [
    "completion = client.chat.completions.create(\n",
    "    model=model_name,\n",
    "    messages=[\n",
    "        {\"role\": \"user\", \"content\": \"Can you explain how fried rice chicken is cooked?\"}\n",
    "    ],\n",
    "    temperature=0,\n",
    "    top_p=1,\n",
    "    extra_body={\n",
    "        \"logits_processors\": [{\n",
    "            \"qualname\": \"logits_processor_zoo.vllm.GenLengthLogitsProcessor\",\n",
    "            \"kwargs\": {\"tokenizer\": model_name, \"boost_factor\": 0.2, \"complete_sentences\": True}\n",
    "        }]\n",
    "    }\n",
    ")\n",
    "\n",
    "print(completion.choices[0].message.content)"
   ]
  },
  {
   "cell_type": "code",
   "execution_count": null,
   "id": "96544ec2",
   "metadata": {},
   "outputs": [],
   "source": []
  }
 ],
 "metadata": {
  "kernelspec": {
   "display_name": "Python 3 (ipykernel)",
   "language": "python",
   "name": "python3"
  },
  "language_info": {
   "codemirror_mode": {
    "name": "ipython",
    "version": 3
   },
   "file_extension": ".py",
   "mimetype": "text/x-python",
   "name": "python",
   "nbconvert_exporter": "python",
   "pygments_lexer": "ipython3",
   "version": "3.10.17"
  }
 },
 "nbformat": 4,
 "nbformat_minor": 5
}
