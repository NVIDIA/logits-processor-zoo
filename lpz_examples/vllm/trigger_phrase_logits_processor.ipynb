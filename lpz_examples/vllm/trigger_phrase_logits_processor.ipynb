{
 "cells": [
  {
   "cell_type": "code",
   "execution_count": 1,
   "id": "28ed6952",
   "metadata": {},
   "outputs": [
    {
     "name": "stdout",
     "output_type": "stream",
     "text": [
      "/data/projects/logproc_ws/logits-processor-zoo\n"
     ]
    }
   ],
   "source": [
    "%cd ../.."
   ]
  },
  {
   "cell_type": "code",
   "execution_count": 2,
   "id": "b89279fe",
   "metadata": {},
   "outputs": [
    {
     "name": "stderr",
     "output_type": "stream",
     "text": [
      "/data/envs/logproc/lib/python3.12/site-packages/tqdm/auto.py:21: TqdmWarning: IProgress not found. Please update jupyter and ipywidgets. See https://ipywidgets.readthedocs.io/en/stable/user_install.html\n",
      "  from .autonotebook import tqdm as notebook_tqdm\n"
     ]
    },
    {
     "name": "stdout",
     "output_type": "stream",
     "text": [
      "INFO 07-08 11:01:41 [__init__.py:244] Automatically detected platform cuda.\n"
     ]
    },
    {
     "name": "stderr",
     "output_type": "stream",
     "text": [
      "2025-07-08 11:01:49,020\tINFO util.py:154 -- Missing packages: ['ipywidgets']. Run `pip install -U ipywidgets`, then restart the notebook server for rich notebook output.\n"
     ]
    },
    {
     "name": "stdout",
     "output_type": "stream",
     "text": [
      "INFO 07-08 11:02:04 [config.py:823] This model supports multiple tasks: {'generate', 'score', 'classify', 'embed', 'reward'}. Defaulting to 'generate'.\n",
      "WARNING 07-08 11:02:04 [config.py:3271] Casting torch.bfloat16 to torch.float16.\n",
      "WARNING 07-08 11:02:04 [cuda.py:91] To see benefits of async output processing, enable CUDA graph. Since, enforce-eager is enabled, async output processor cannot be used\n",
      "INFO 07-08 11:02:04 [llm_engine.py:230] Initializing a V0 LLM engine (v0.9.1) with config: model='deepseek-ai/DeepSeek-R1-Distill-Qwen-1.5B', speculative_config=None, tokenizer='deepseek-ai/DeepSeek-R1-Distill-Qwen-1.5B', skip_tokenizer_init=False, tokenizer_mode=auto, revision=None, override_neuron_config={}, tokenizer_revision=None, trust_remote_code=True, dtype=torch.float16, max_seq_len=16384, download_dir=None, load_format=LoadFormat.AUTO, tensor_parallel_size=1, pipeline_parallel_size=1, disable_custom_all_reduce=False, quantization=None, enforce_eager=True, kv_cache_dtype=auto,  device_config=cuda, decoding_config=DecodingConfig(backend='auto', disable_fallback=False, disable_any_whitespace=False, disable_additional_properties=False, reasoning_backend=''), observability_config=ObservabilityConfig(show_hidden_metrics_for_version=None, otlp_traces_endpoint=None, collect_detailed_traces=None), seed=None, served_model_name=deepseek-ai/DeepSeek-R1-Distill-Qwen-1.5B, num_scheduler_steps=1, multi_step_stream_outputs=True, enable_prefix_caching=None, chunked_prefill_enabled=False, use_async_output_proc=False, pooler_config=None, compilation_config={\"level\":0,\"debug_dump_path\":\"\",\"cache_dir\":\"\",\"backend\":\"\",\"custom_ops\":[],\"splitting_ops\":[],\"use_inductor\":true,\"compile_sizes\":[],\"inductor_compile_config\":{\"enable_auto_functionalized_v2\":false},\"inductor_passes\":{},\"use_cudagraph\":true,\"cudagraph_num_of_warmups\":0,\"cudagraph_capture_sizes\":[],\"cudagraph_copy_inputs\":false,\"full_cuda_graph\":false,\"max_capture_size\":0,\"local_cache_dir\":null}, use_cached_outputs=False, \n",
      "INFO 07-08 11:02:06 [cuda.py:327] Using Flash Attention backend.\n",
      "INFO 07-08 11:02:07 [parallel_state.py:1065] rank 0 in world size 1 is assigned as DP rank 0, PP rank 0, TP rank 0, EP rank 0\n",
      "INFO 07-08 11:02:07 [model_runner.py:1171] Starting to load model deepseek-ai/DeepSeek-R1-Distill-Qwen-1.5B...\n",
      "INFO 07-08 11:02:07 [weight_utils.py:292] Using model weights format ['*.safetensors']\n",
      "INFO 07-08 11:02:07 [weight_utils.py:345] No model.safetensors.index.json found in remote.\n"
     ]
    },
    {
     "name": "stderr",
     "output_type": "stream",
     "text": [
      "Loading safetensors checkpoint shards:   0% Completed | 0/1 [00:00<?, ?it/s]\n",
      "Loading safetensors checkpoint shards: 100% Completed | 1/1 [00:04<00:00,  4.94s/it]\n",
      "Loading safetensors checkpoint shards: 100% Completed | 1/1 [00:04<00:00,  4.94s/it]\n"
     ]
    },
    {
     "name": "stdout",
     "output_type": "stream",
     "text": [
      "INFO 07-08 11:02:12 [default_loader.py:272] Loading weights took 5.04 seconds\n"
     ]
    },
    {
     "name": "stderr",
     "output_type": "stream",
     "text": [
      "\n"
     ]
    },
    {
     "name": "stdout",
     "output_type": "stream",
     "text": [
      "INFO 07-08 11:02:13 [model_runner.py:1203] Model loading took 3.3461 GiB and 5.468352 seconds\n",
      "INFO 07-08 11:02:13 [worker.py:294] Memory profiling takes 0.50 seconds\n",
      "INFO 07-08 11:02:13 [worker.py:294] the current vLLM instance can use total_gpu_memory (79.19GiB) x gpu_memory_utilization (0.90) = 71.27GiB\n",
      "INFO 07-08 11:02:13 [worker.py:294] model weights take 3.35GiB; non_torch_memory takes 0.16GiB; PyTorch activation peak memory takes 1.46GiB; the rest of the memory reserved for KV Cache is 66.31GiB.\n",
      "INFO 07-08 11:02:13 [executor_base.py:113] # cuda blocks: 155208, # CPU blocks: 9362\n",
      "INFO 07-08 11:02:13 [executor_base.py:118] Maximum concurrency for 16384 tokens per request: 151.57x\n",
      "INFO 07-08 11:02:16 [llm_engine.py:428] init engine (profile, create kv cache, warmup model) took 2.89 seconds\n"
     ]
    }
   ],
   "source": [
    "from lpz_examples.vllm.utils import vLLMRunner\n",
    "from logits_processor_zoo.vllm import TriggerPhraseLogitsProcessor, GenLengthLogitsProcessor\n",
    "\n",
    "\n",
    "example_prompts = [\n",
    "\"\"\"\n",
    "Generate a python function to calculate nth fibonacci number. Make it recursive. Keep thinking short.\n",
    "\"\"\",\n",
    "]\n",
    "\n",
    "runner = vLLMRunner(\"deepseek-ai/DeepSeek-R1-Distill-Qwen-1.5B\")"
   ]
  },
  {
   "cell_type": "markdown",
   "id": "859aef8d",
   "metadata": {},
   "source": [
    "## Default Response"
   ]
  },
  {
   "cell_type": "code",
   "execution_count": 3,
   "id": "cbf4c2d5",
   "metadata": {
    "scrolled": false
   },
   "outputs": [
    {
     "name": "stdout",
     "output_type": "stream",
     "text": [
      "Prompt: \n",
      "Generate a python function to calculate nth fibonacci number. Make it recursive. Keep thinking short.\n",
      "\n",
      "Okay, I need to write a Python function to calculate the nth Fibonacci number using recursion. Hmm, let's think about how the Fibonacci sequence works. The Fibonacci sequence starts with 0 and 1, and each subsequent number is the sum of the two preceding ones. So, the sequence goes 0, 1, 1, 2, 3, 5, 8, and so on.\n",
      "\n",
      "Wait, but sometimes people define it starting with 1 and 1. I should clarify that. Oh right, the standard definition starts with F(0) = 0, F(1) = 1, F(2) = 1, F(3) = 2, etc. So, for example, F(5) would be 5.\n",
      "\n",
      "Now, the problem says to make it recursive. Recursion means the function will call itself with a smaller problem each time. So, the base cases are when n is 0 or 1, and then for other values, it adds the two previous numbers.\n",
      "\n",
      "Wait, but in the standard definition, F(0) is 0, F(1) is 1, F(2) is 1, F(3) is 2, etc. So, for n=0, return 0; for n=1, return 1. For n >=2, return F(n-1) + F(n-2).\n",
      "\n",
      "So, the recursive function can be written as:\n",
      "\n",
      "def fibonacci(n):\n",
      "    if n == 0:\n",
      "        return 0\n",
      "    elif n == 1:\n",
      "        return 1\n",
      "    else:\n",
      "        return fibonacci(n-1) + fibonacci(n-2)\n",
      "\n",
      "But wait, recursion can be inefficient for large n because it recalculates the same values many times. However, the problem says to keep thinking short, so maybe it's acceptable for now.\n",
      "\n",
      "Alternatively, I can optimize it using memoization or dynamic programming to store previously computed values, but that's more advanced. Since the problem doesn't specify, I'll stick with the basic recursive approach.\n",
      "\n",
      "Let me test this function with some examples. For n=0, it returns 0. For n=1, returns 1. For n=2, it's F(1)+F(0) = 1+0=1. For n=3, F(2)+F(1)=1+1=2. That looks correct.\n",
      "\n",
      "Wait, but sometimes people define the Fibonacci sequence starting with F(1)=1, F(2)=1, F(3)=2, etc. So, if the function is called with n=5, it should return 5. Let me see: F(5) is 5, which is correct.\n",
      "\n",
      "Another test case: n=5. Let's compute it step by step. F(0)=0, F(1)=1, F(2)=1, F(3)=2, F(4)=3, F(5)=5. So the function should return 5 for n=5.\n",
      "\n",
      "I think this should work. So, the function is straightforward. It's a simple recursive implementation, but it's not the most efficient for large n. However, for the purpose of this problem, it's acceptable.\n",
      "</think>\n",
      "\n",
      "To solve this problem, we need to generate the nth Fibonacci number using a recursive approach. The Fibonacci sequence is a series of numbers where each number is the sum of the two preceding ones, starting from 0 and 1. \n",
      "\n",
      "### Approach\n",
      "The approach to solve this problem involves using recursion, which is a method where the function calls itself with a smaller input until it reaches a base case. Here's a step-by-step breakdown of the approach:\n",
      "\n",
      "1. **Base Cases**: \n",
      "   - If `n` is 0, return 0.\n",
      "   - If `n` is 1, return 1.\n",
      "   \n",
      "2. **Recursive Case**:\n",
      "   - For any `n` greater than 1, the nth Fibonacci number is the sum of the (n-1)th and (n-2)th Fibonacci numbers. This is achieved by recursively calling the function with `n-1` and `n-2` and adding their results.\n",
      "\n",
      "This approach ensures that each Fibonacci number is computed by breaking down the problem into smaller subproblems, which are then solved recursively.\n",
      "\n",
      "### Solution Code\n",
      "\n",
      "```python\n",
      "def fibonacci(n):\n",
      "    if n == 0:\n",
      "        return 0\n",
      "    elif n == 1:\n",
      "        return 1\n",
      "    else:\n",
      "        return fibonacci(n-1) + fibonacci(n-2)\n",
      "```\n",
      "\n",
      "### Explanation\n",
      "- **Base Cases**: The function first checks if `n` is 0 or 1. If `n` is 0, it returns 0. If `n` is 1, it returns 1. These are the simplest cases of the Fibonacci sequence.\n",
      "- **Recursive Case**: For any `n` greater than 1, the function calls itself with `n-1` and `n-2`, and returns the sum of these two recursive calls. This builds up the solution by solving smaller subproblems and combining their results.\n",
      "\n",
      "This approach is straightforward and easy to understand, but it's important to note that for large values of `n`, this method can be inefficient due to repeated calculations. However, for the purpose of this problem, the recursive approach is sufficient.\n",
      "-----END-----\n",
      "\n"
     ]
    }
   ],
   "source": [
    "runner.generate_response(example_prompts, max_tokens=4096)"
   ]
  },
  {
   "cell_type": "markdown",
   "id": "fa95a61c",
   "metadata": {},
   "source": [
    "## Think more (2x more \"Wait,\")"
   ]
  },
  {
   "cell_type": "code",
   "execution_count": 4,
   "id": "e690b367",
   "metadata": {},
   "outputs": [
    {
     "name": "stdout",
     "output_type": "stream",
     "text": [
      "Prompt: \n",
      "Generate a python function to calculate nth fibonacci number. Make it recursive. Keep thinking short.\n",
      "\n",
      "Okay, I need to write a Python function to calculate the nth Fibonacci number using recursion. Hmm, let's think about how the Fibonacci sequence works. The Fibonacci sequence starts with 0 and 1, and each subsequent number is the sum of the two preceding ones. So, the sequence goes 0, 1, 1, 2, 3, 5, 8, and so on.\n",
      "\n",
      "Wait, but sometimes people define it starting with 1 and 1. I should clarify that. Oh right, the standard definition starts with F(0) = 0, F(1) = 1, F(2) = 1, F(3) = 2, etc. So, for example, F(5) would be 5.\n",
      "\n",
      "Now, the problem says to make it recursive. Recursion means the function will call itself with a smaller problem each time. So, the base cases are when n is 0 or 1, and then for other values, it adds the two previous numbers.\n",
      "\n",
      "Wait, but in the standard definition, F(0) is 0, F(1) is 1, F(2) is 1, F(3) is 2, etc. So, for n=0, return 0; for n=1, return 1. For n >=2, return F(n-1) + F(n-2).\n",
      "\n",
      "So, the recursive function can be written as:\n",
      "\n",
      "def fibonacci(n):\n",
      "    if n == 0:\n",
      "        return 0\n",
      "    elif n == 1:\n",
      "        return 1\n",
      "    else:\n",
      "        return fibonacci(n-1) + fibonacci(n-2)\n",
      "\n",
      "But wait, recursion can be inefficient for large n because it recalculates the same values many times. However, the problem says to keep thinking short, so maybe it's acceptable for now.\n",
      "\n",
      "Alternatively, I can optimize it using memoization or dynamic programming to store previously computed values, but that's more advanced. Since the problem doesn't specify, I'll stick with the basic recursive approach.\n",
      "\n",
      "Let me test this function with some examples. For n=0, it returns 0. For n=1, returns 1. For n=2, it's F(1)+F(0) = 1+0=1. For n=3, F(2)+F(1)=1+1=2. That looks correct.\n",
      "\n",
      "Wait, but sometimes people define the Fibonacci sequence starting with F(1)=1, F(2)=1, F(3)=2, etc. So, if the function is called with n=5, it should return 5. Let me see: F(5) is 5, which is correct.\n",
      "\n",
      "Another test case: n=5. Let's compute it step by step. F(0)=0, F(1)=1, F(2)=1, F(3)=2, F(4)=3, F(5)=5. So the function should return 5 for n=5.\n",
      "\n",
      "I think this should work. So, the function is straightforward. It's a simple recursive implementation, but it's not the most efficient for large n. However, for the purpose of this problem, it's acceptable.\n",
      "\n",
      "Wait, but in the problem statement, it says to make it recursive. So, the function as written is recursive, but perhaps it's better to memoize it for better performance. But that's beyond the scope here. So, I'll proceed with the basic recursive approach.\n",
      "\n",
      "Wait, but in the function I wrote, for n=0, it returns 0, which is correct. For n=1, returns 1. For n=2, returns 1, which is correct. So, the function seems to handle all cases correctly.\n",
      "\n",
      "I think that's a solid approach. So, the function is as written above.\n",
      "</think>\n",
      "\n",
      "To solve this problem, we need to generate the nth Fibonacci number using a recursive approach. The Fibonacci sequence is a series of numbers where each number is the sum of the two preceding ones, starting from 0 and 1. \n",
      "\n",
      "### Approach\n",
      "The approach to solve this problem involves using recursion, which is a method where the function calls itself with a smaller input until it reaches a base case. Here's a step-by-step breakdown of the approach:\n",
      "\n",
      "1. **Base Cases**: \n",
      "   - If `n` is 0, return 0.\n",
      "   - If `n` is 1, return 1.\n",
      "   \n",
      "2. **Recursive Case**:\n",
      "   - For any `n` greater than 1, the nth Fibonacci number is the sum of the (n-1)th and (n-2)th Fibonacci numbers. This is achieved by recursively calling the function for these two smaller values and adding their results.\n",
      "\n",
      "This approach ensures that each Fibonacci number is computed by breaking down the problem into smaller subproblems, which are then solved recursively.\n",
      "\n",
      "### Solution Code\n",
      "\n",
      "```python\n",
      "def fibonacci(n):\n",
      "    if n == 0:\n",
      "        return 0\n",
      "    elif n == 1:\n",
      "        return 1\n",
      "    else:\n",
      "        return fibonacci(n - 1) + fibonacci(n - 2)\n",
      "```\n",
      "\n",
      "### Explanation\n",
      "- **Base Cases**: The function first checks if `n` is 0 or 1. If `n` is 0, it returns 0. If `n` is 1, it returns 1. These are the simplest cases of the Fibonacci sequence.\n",
      "- **Recursive Case**: For any `n` greater than 1, the function calls itself with `n-1` and `n-2` and returns the sum of these two recursive calls. This builds up the solution by solving smaller subproblems and combining their results.\n",
      "\n",
      "This approach is straightforward and easy to understand, but it's important to note that for large values of `n`, this method can be inefficient due to repeated calculations. However, for the purpose of this problem, the recursive approach is sufficient.\n",
      "-----END-----\n",
      "\n"
     ]
    }
   ],
   "source": [
    "runner.generate_response(example_prompts,\n",
    "                         [TriggerPhraseLogitsProcessor(runner.tokenizer, \"\\nWait,\", \"</think>\", \n",
    "                                                       trigger_count=2, trigger_after=False)],\n",
    "                        max_tokens=4096)"
   ]
  },
  {
   "cell_type": "markdown",
   "id": "93f36a8e",
   "metadata": {},
   "source": [
    "## Make sure to generate python code at the end"
   ]
  },
  {
   "cell_type": "code",
   "execution_count": 5,
   "id": "d967f318",
   "metadata": {
    "scrolled": false
   },
   "outputs": [
    {
     "name": "stdout",
     "output_type": "stream",
     "text": [
      "Prompt: \n",
      "Generate a python function to calculate nth fibonacci number. Make it recursive. Keep thinking short.\n",
      "\n",
      "Okay, I need to write a Python function to calculate the nth Fibonacci number using recursion. Hmm, let's think about how the Fibonacci sequence works. The Fibonacci sequence starts with 0 and 1, and each subsequent number is the sum of the two preceding ones. So, the sequence goes 0, 1, 1, 2, 3, 5, 8, and so on.\n",
      "\n",
      "Wait, but sometimes people define it starting with 1 and 1. I should clarify that. Oh right, the standard definition starts with F(0) = 0, F(1) = 1, F(2) = 1, F(3) = 2, etc. So, for example, F(5) would be 5.\n",
      "\n",
      "Now, the problem says to make it recursive. Recursion means the function will call itself with a smaller problem each time. So, the base cases are when n is 0 or 1, and then for other values, it adds the two previous numbers.\n",
      "\n",
      "Wait, but in the standard definition, F(0) is 0, F(1) is 1, F(2) is 1, F(3) is 2, etc. So, for n=0, return 0; for n=1, return 1. For n >=2, return F(n-1) + F(n-2).\n",
      "\n",
      "So, the recursive function can be written as:\n",
      "\n",
      "def fibonacci(n):\n",
      "    if n == 0:\n",
      "        return 0\n",
      "    elif n == 1:\n",
      "        return 1\n",
      "    else:\n",
      "        return fibonacci(n-1) + fibonacci(n-2)\n",
      "\n",
      "But wait, recursion can be inefficient for large n because it recalculates the same values many times. However, the problem says to keep thinking short, so maybe it's acceptable for now.\n",
      "\n",
      "Alternatively, I can optimize it using memoization or dynamic programming to store previously computed values, but that's more advanced. Since the problem doesn't specify, I'll stick with the basic recursive approach.\n",
      "\n",
      "Let me test this function with some examples. For n=0, it returns 0. For n=1, returns 1. For n=2, it's F(1)+F(0) = 1+0=1. For n=3, F(2)+F(1)=1+1=2. That looks correct.\n",
      "\n",
      "Wait, but sometimes people define the Fibonacci sequence starting with F(1)=1, F(2)=1, F(3)=2, etc. So, if the function is called with n=5, it should return 5. Let me see: F(5) is 5, which is correct.\n",
      "\n",
      "Another test case: n=5. Let's compute it step by step. F(0)=0, F(1)=1, F(2)=1, F(3)=2, F(4)=3, F(5)=5. So the function should return 5 for n=5.\n",
      "\n",
      "I think this should work. So, the function is straightforward. It's a simple recursive implementation, but it's not the most efficient for large n. However, for the purpose of this problem, it's acceptable.\n",
      "</think>\n",
      "```python\n",
      "def fibonacci(n):\n",
      "    if n == 0:\n",
      "        return 0\n",
      "    elif n == 1:\n",
      "        return 1\n",
      "    else:\n",
      "        return fibonacci(n-1) + fibonacci(n-2)\n",
      "```\n",
      "\n",
      "This function calculates the nth Fibonacci number using a recursive approach. It handles the base cases where n is 0 or 1 and for other values, it recursively calculates the sum of the two preceding Fibonacci numbers. While this implementation is straightforward, it's not the most efficient for large values of n due to repeated calculations.\n",
      "-----END-----\n",
      "\n"
     ]
    }
   ],
   "source": [
    "trigger_python = TriggerPhraseLogitsProcessor(runner.tokenizer, \"\\n```python\", \"</think>\", \n",
    "                                              trigger_count=1, trigger_after=True)\n",
    "\n",
    "runner.generate_response(example_prompts,\n",
    "                         [trigger_python],\n",
    "                        max_tokens=4096)"
   ]
  },
  {
   "cell_type": "markdown",
   "id": "68deebf3",
   "metadata": {},
   "source": [
    "## Do not overthink, give me the code"
   ]
  },
  {
   "cell_type": "code",
   "execution_count": 6,
   "id": "5eb52c6f",
   "metadata": {},
   "outputs": [
    {
     "name": "stdout",
     "output_type": "stream",
     "text": [
      "Prompt: \n",
      "Generate a python function to calculate nth fibonacci number. Make it recursive. Keep thinking short.\n",
      "\n",
      "Okay, I need to write a Python function to calculate the nth Fibonacci number using recursion. Hmm, let's think about how the Fibonacci sequence works. The Fibonacci sequence starts with 0 and 1, and each subsequent number is the sum of the two preceding ones. So, the sequence goes 0, 1, 1, 2, 3, 5, 8, and so on.\n",
      "\n",
      "Wait, but sometimes people define it starting with 1 and 1. I should clarify that. Oh right, the standard definition starts with F(0) = 0, F(1) = 1, F(2) = 1, F(3) = 2, etc. So, for example, F(5) would be 5.\n",
      "\n",
      "Now, the problem says to make it recursive.</think>\n",
      "```python\n",
      "def fibonacci(n):\n",
      "    if n == 0:\n",
      "        return 0\n",
      "    elif n == 1:\n",
      "        return 1\n",
      "    else:\n",
      "        return fibonacci(n-1) + fibonacci(n-2)\n",
      "```\n",
      "\n",
      "This function uses recursion to calculate the nth Fibonacci number. It checks if n is 0 or 1 and returns the corresponding value. For other values, it recursively calculates the (n-1)th and (n-2)th Fibonacci numbers and adds them together. This approach works for small values of n but may be inefficient for large n due to repeated calculations.\n",
      "-----END-----\n",
      "\n"
     ]
    }
   ],
   "source": [
    "keep_thinking_short = GenLengthLogitsProcessor(runner.tokenizer, boost_factor=0.1, complete_sentences=True,\n",
    "                                               boost_token_str=\"</think>\")\n",
    "\n",
    "runner.generate_response(example_prompts,\n",
    "                         [\n",
    "                             keep_thinking_short,\n",
    "                             trigger_python\n",
    "                         ],\n",
    "                        max_tokens=4096)"
   ]
  }
 ],
 "metadata": {
  "kernelspec": {
   "display_name": "logproc",
   "language": "python",
   "name": "python3"
  },
  "language_info": {
   "codemirror_mode": {
    "name": "ipython",
    "version": 3
   },
   "file_extension": ".py",
   "mimetype": "text/x-python",
   "name": "python",
   "nbconvert_exporter": "python",
   "pygments_lexer": "ipython3",
   "version": "3.12.3"
  }
 },
 "nbformat": 4,
 "nbformat_minor": 5
}
