{
 "cells": [
  {
   "cell_type": "code",
   "execution_count": null,
   "id": "28ed6952",
   "metadata": {},
   "outputs": [],
   "source": [
    "%cd ../.."
   ]
  },
  {
   "cell_type": "code",
   "execution_count": null,
   "id": "a85f8503",
   "metadata": {},
   "outputs": [],
   "source": [
    "from example_notebooks.transformers.utils import LLMRunner\n",
    "from logits_processor_zoo.transformers import MultipleChoiceLogitsProcessor\n",
    "\n",
    "\n",
    "example_prompts = [\n",
    "\"\"\"\n",
    "I am getting a lot of calls during the day. What is more important for me to consider when I buy a new phone?\n",
    "0. Camera\n",
    "1. Screen resolution\n",
    "2. Operating System\n",
    "3. Battery\n",
    "\"\"\",\n",
    "\n",
    "\"\"\"\n",
    "Which user review doesn't belong to a summer dress?\n",
    "a) Looks good\n",
    "b) Keeps warm\n",
    "c) Too long\n",
    "d) Liked the color\n",
    "\"\"\"\n",
    "]\n",
    "\n",
    "runner = LLMRunner()"
   ]
  },
  {
   "cell_type": "markdown",
   "id": "859aef8d",
   "metadata": {},
   "source": [
    "## Default Response"
   ]
  },
  {
   "cell_type": "code",
   "execution_count": 3,
   "id": "cbf4c2d5",
   "metadata": {},
   "outputs": [
    {
     "name": "stdout",
     "output_type": "stream",
     "text": [
      "Prompt: \n",
      "I am getting a lot of calls during the day. What is more important for me to consider when I buy a new phone?\n",
      "0. Camera\n",
      "1. Screen resolution\n",
      "2. Operating System\n",
      "3. Battery\n",
      "\n",
      "\n",
      "LLM response:\n",
      "When\n",
      "-----END-----\n",
      "\n",
      "\n",
      "Prompt: \n",
      "Which user review doesn't belong to a summer dress?\n",
      "a) Looks good\n",
      "b) Keeps warm\n",
      "c) Too long\n",
      "d) Liked the color\n",
      "\n",
      "\n",
      "LLM response:\n",
      "The\n",
      "-----END-----\n",
      "\n",
      "\n"
     ]
    }
   ],
   "source": [
    "runner.generate_response(example_prompts, max_tokens=1)"
   ]
  },
  {
   "cell_type": "markdown",
   "id": "88bc2f8a",
   "metadata": {},
   "source": [
    "## Multiple Choice Answer"
   ]
  },
  {
   "cell_type": "code",
   "execution_count": null,
   "id": "7d74eb26",
   "metadata": {},
   "outputs": [
    {
     "name": "stdout",
     "output_type": "stream",
     "text": [
      "Prompt: \n",
      "I am getting a lot of calls during the day. What is more important for me to consider when I buy a new phone?\n",
      "0. Camera\n",
      "1. Screen resolution\n",
      "2. Operating System\n",
      "3. Battery\n",
      "\n",
      "\n",
      "LLM response:\n",
      "1\n",
      "-----END-----\n",
      "\n",
      "\n",
      "Prompt: \n",
      "Which user review doesn't belong to a summer dress?\n",
      "a) Looks good\n",
      "b) Keeps warm\n",
      "c) Too long\n",
      "d) Liked the color\n",
      "\n",
      "\n",
      "LLM response:\n",
      "b\n",
      "-----END-----\n",
      "\n",
      "\n"
     ]
    }
   ],
   "source": [
    "mclp = MultipleChoiceLogitsProcessor(runner.tokenizer, choices=[\"0\", \"1\", \"2\", \"3\"], delimiter=\".\")\n",
    "\n",
    "runner.generate_response(example_prompts[:1], [mclp], max_tokens=1)\n",
    "\n",
    "mclp = MultipleChoiceLogitsProcessor(runner.tokenizer, choices=[\"a\", \"b\", \"c\", \"d\"], delimiter=\")\")\n",
    "\n",
    "runner.generate_response(example_prompts[1:], [mclp], max_tokens=1)"
   ]
  },
  {
   "cell_type": "markdown",
   "id": "15b5afa5",
   "metadata": {},
   "source": [
    "## Multiple Choice Answer by boosting first words of options"
   ]
  },
  {
   "cell_type": "code",
   "execution_count": null,
   "id": "b2297aab",
   "metadata": {},
   "outputs": [
    {
     "name": "stdout",
     "output_type": "stream",
     "text": [
      "Prompt: \n",
      "I am getting a lot of calls during the day. What is more important for me to consider when I buy a new phone?\n",
      "0. Camera\n",
      "1. Screen resolution\n",
      "2. Operating System\n",
      "3. Battery\n",
      "\n",
      "\n",
      "LLM response:\n",
      "1\n",
      "-----END-----\n",
      "\n",
      "\n",
      "Prompt: \n",
      "Which user review doesn't belong to a summer dress?\n",
      "a) Looks good\n",
      "b) Keeps warm\n",
      "c) Too long\n",
      "d) Liked the color\n",
      "\n",
      "\n",
      "LLM response:\n",
      "b\n",
      "-----END-----\n",
      "\n",
      "\n"
     ]
    }
   ],
   "source": [
    "mclp = MultipleChoiceLogitsProcessor(\n",
    "    runner.tokenizer, choices=[\"0\", \"1\", \"2\", \"3\"], delimiter=\".\", boost_first_words=1.0\n",
    ")\n",
    "\n",
    "runner.generate_response(example_prompts[:1], [mclp], max_tokens=1)\n",
    "\n",
    "mclp = MultipleChoiceLogitsProcessor(\n",
    "    runner.tokenizer, choices=[\"a\", \"b\", \"c\", \"d\"], delimiter=\")\", boost_first_words=1.0\n",
    ")\n",
    "\n",
    "runner.generate_response(example_prompts[1:], [mclp], max_tokens=1)"
   ]
  }
 ],
 "metadata": {
  "kernelspec": {
   "display_name": ".venv",
   "language": "python",
   "name": "python3"
  },
  "language_info": {
   "codemirror_mode": {
    "name": "ipython",
    "version": 3
   },
   "file_extension": ".py",
   "mimetype": "text/x-python",
   "name": "python",
   "nbconvert_exporter": "python",
   "pygments_lexer": "ipython3",
   "version": "3.12.7"
  }
 },
 "nbformat": 4,
 "nbformat_minor": 5
}
