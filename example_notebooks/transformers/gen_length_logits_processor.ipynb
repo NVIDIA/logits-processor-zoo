{
 "cells": [
  {
   "cell_type": "code",
   "execution_count": 1,
   "id": "28ed6952",
   "metadata": {},
   "outputs": [
    {
     "name": "stdout",
     "output_type": "stream",
     "text": [
      "/home/aerdem/projects/logits-processor-zoo\n"
     ]
    }
   ],
   "source": [
    "%cd ../.."
   ]
  },
  {
   "cell_type": "code",
   "execution_count": 2,
   "id": "0ea01217",
   "metadata": {},
   "outputs": [
    {
     "data": {
      "application/vnd.jupyter.widget-view+json": {
       "model_id": "de41f583d2b64e75af92d1ab8eb2c406",
       "version_major": 2,
       "version_minor": 0
      },
      "text/plain": [
       "Loading checkpoint shards:   0%|          | 0/2 [00:00<?, ?it/s]"
      ]
     },
     "metadata": {},
     "output_type": "display_data"
    }
   ],
   "source": [
    "from example_notebooks.transformers.utils import LLMRunner\n",
    "from logits_processor_zoo.transformers import GenLengthLogitsProcessor\n",
    "\n",
    "example_prompts =[\n",
    "    \"Please describe what macaques are.\",\n",
    "    \"Tell me a story about a kid lost in forest.\"\n",
    "]\n",
    "\n",
    "runner = LLMRunner()"
   ]
  },
  {
   "cell_type": "markdown",
   "id": "859aef8d",
   "metadata": {},
   "source": [
    "## Default Response"
   ]
  },
  {
   "cell_type": "code",
   "execution_count": 3,
   "id": "cbf4c2d5",
   "metadata": {},
   "outputs": [
    {
     "name": "stdout",
     "output_type": "stream",
     "text": [
      "Prompt: Please describe what macaques are.\n",
      "\n",
      "LLM response:\n",
      "**Characteristics of Macaques:**\n",
      "\n",
      "- Small to medium-sized primates\n",
      "- Short, curved tails\n",
      "- Hairless or lightly haired bodies\n",
      "- Large eyes and ears\n",
      "- Sharp teeth and claws\n",
      "- Social animals that live in groups\n",
      "- Diverse diet of fruits, leaves, and insects\n",
      "\n",
      "**Additional Information:**\n",
      "\n",
      "- Macaques are native to tropical forests in Southeast Asia\n",
      "- They are closely related to humans and share a significant amount of our DNA\n",
      "- Macaques are considered to be intelligent animals, capable of complex problem-solving and tool use\n",
      "\n",
      "**Uses of Macaques:**\n",
      "\n",
      "- Traditional medicine\n",
      "- Cosmetic products\n",
      "- Pet pets\n",
      "- Research and conservation\n",
      "-----END-----\n",
      "\n",
      "\n",
      "Prompt: Tell me a story about a kid lost in forest.\n",
      "\n",
      "LLM response:\n",
      "The sun beat down relentlessly, casting long shadows across the tangled undergrowth. Ten-year-old Maya shivered, her bare feet sinking into the damp earth. She had wandered away from the familiar path, lured by the promise of adventure in the whispering woods. Now, the path was nowhere in sight.\n",
      "\n",
      "Panic gnawed at her stomach. She called out for her mother, but only the rustling leaves answered her. The dense forest swallowed her whole, the sunlight fading into an oppressive gloom. Fear turned her legs to lead, and she stumbled, falling and scraping her knees.\n",
      "\n",
      "Suddenly, a flicker of green caught her eye. A small clearing, bathed in sunlight. A girl lay there, her face pale and drawn. Maya approached cautiously, her heart pounding.\n",
      "\n",
      "\"Are you lost?\" the girl asked softly.\n",
      "\n",
      "Maya nodded, her voice barely a whisper.\n",
      "\n",
      "The girl smiled gently. \"Come, follow me.\"\n",
      "\n",
      "Together, they walked out of the forest, the girl pointing Maya towards the path. As they walked, the sunlight returned, and the shadows faded away.\n",
      "\n",
      "\"Thank you,\" Maya whispered, her voice thick with gratitude.\n",
      "\n",
      "The girl smiled. \"You're welcome. Remember, the woods always know the way home.\"\n",
      "\n",
      "As Maya walked back towards her home, she felt a newfound sense of confidence. She had faced her fear and found her way out. And she knew that even in the darkest of forests, kindness could always guide her back to the light.\n",
      "-----END-----\n",
      "\n",
      "\n"
     ]
    }
   ],
   "source": [
    "runner.generate_response(example_prompts)"
   ]
  },
  {
   "cell_type": "markdown",
   "id": "88bc2f8a",
   "metadata": {},
   "source": [
    "## Shorter Answers"
   ]
  },
  {
   "cell_type": "code",
   "execution_count": 4,
   "id": "7d74eb26",
   "metadata": {},
   "outputs": [
    {
     "name": "stdout",
     "output_type": "stream",
     "text": [
      "Prompt: Please describe what macaques are.\n",
      "\n",
      "LLM response:\n",
      "**Characteristics of Macaques:**\n",
      "\n",
      "- Small to medium-sized primates\n",
      "- Short, curved tails\n",
      "- Hairless or lightly haired bodies\n",
      "- Large eyes and ears\n",
      "- Sharp teeth and claws\n",
      "- Social animals that live in groups\n",
      "- Diverse diet of fruits, leaves, and insects\n",
      "\n",
      "**Additional Information:**\n",
      "\n",
      "- Macaques are native to tropical forests in Southeast Asia\n",
      "- They are closely related to humans and share a significant amount of our DNA\n",
      "-----END-----\n",
      "\n",
      "\n",
      "Prompt: Tell me a story about a kid lost in forest.\n",
      "\n",
      "LLM response:\n",
      "The sun beat down relentlessly, casting long shadows across the tangled undergrowth. Ten-year-old Maya shivered, her bare feet sinking into the damp earth. She had wandered away from the familiar path, lured by the promise of adventure in the whispering woods. Now, the path was nowhere in sight.\n",
      "\n",
      "Panic gnawed at her stomach. She called out for her mother, but only the rustling leaves answered her. The dense forest swallowed her whole, the sunlight fading into an oppressive gloom. Fear turned her legs to lead, and she stumbled, falling and scraping her knees.\n",
      "\n",
      "Suddenly, a flicker of green caught her eye. A small clearing, bathed in sunlight. A girl lay there, her face pale and drawn.\n",
      "-----END-----\n",
      "\n",
      "\n"
     ]
    }
   ],
   "source": [
    "runner.generate_response(example_prompts,\n",
    "                         [GenLengthLogitsProcessor(runner.tokenizer, boost_factor=0.1, p=2, \n",
    "                                                   complete_sentences=True)])"
   ]
  },
  {
   "cell_type": "markdown",
   "id": "15b5afa5",
   "metadata": {},
   "source": [
    "## Longer Answers"
   ]
  },
  {
   "cell_type": "code",
   "execution_count": 5,
   "id": "b2297aab",
   "metadata": {},
   "outputs": [
    {
     "name": "stdout",
     "output_type": "stream",
     "text": [
      "Prompt: Please describe what macaques are.\n",
      "\n",
      "LLM response:\n",
      "**Characteristics of Macaques:**\n",
      "\n",
      "- Small to medium-sized primates\n",
      "- Short, curved tails\n",
      "- Hairless or lightly haired bodies\n",
      "- Large eyes and ears\n",
      "- Sharp teeth and claws\n",
      "- Social animals that live in groups\n",
      "- Diverse diet of fruits, leaves, and insects\n",
      "\n",
      "**Additional Information:**\n",
      "\n",
      "- Macaques are native to tropical forests in Southeast Asia\n",
      "- They are closely related to humans and share a significant amount of our DNA\n",
      "- Macaques are considered to be intelligent animals, capable of complex problem-solving and tool use\n",
      "\n",
      "**Uses of Macaques:**\n",
      "\n",
      "- Traditional medicine\n",
      "- Cosmetic products\n",
      "- Pet pets\n",
      "- Research and conservation efforts\n",
      "\n",
      "**Importance of Macaques:**\n",
      "\n",
      "- Macaques play a vital role in the ecosystem as seed dispersers and pollinators\n",
      "- They are also important sources of food and income for local communities in Southeast Asia\n",
      "\n",
      "**Conclusion:**\n",
      "\n",
      "Macaques are small to medium-sized primates with distinctive characteristics, including short tails, hairless or lightly haired bodies, large eyes and ears, and sharp teeth and claws. They are social animals that live in groups and have a diverse diet. Macaques are native to tropical forests in Southeast Asia and are closely related to humans. They have significant cultural and medicinal importance in the region.\n",
      "-----END-----\n",
      "\n",
      "\n",
      "Prompt: Tell me a story about a kid lost in forest.\n",
      "\n",
      "LLM response:\n",
      "The sun beat down relentlessly, casting long shadows across the tangled undergrowth. Ten-year-old Maya shivered, her bare feet sinking into the damp earth. She had wandered away from the familiar path, lured by the promise of adventure in the whispering woods. Now, the path was nowhere in sight.\n",
      "\n",
      "Panic gnawed at her stomach. She called out for her mother, but only the rustling leaves answered her. The dense forest swallowed her whole, the sunlight fading into an oppressive gloom. Fear turned her legs to lead, and she stumbled, falling and scraping her knees.\n",
      "\n",
      "Suddenly, a flicker of green caught her eye. A small clearing, bathed in sunlight. A girl lay there, her face pale and drawn. Maya approached cautiously, her heart pounding.\n",
      "\n",
      "\"Are you lost?\" the girl asked softly.\n",
      "\n",
      "Maya nodded, her voice barely a whisper.\n",
      "\n",
      "The girl smiled gently. \"Come, follow me.\"\n",
      "\n",
      "Together, they walked out of the forest, the girl pointing Maya towards the path. As they walked, the sunlight returned, and the shadows faded away.\n",
      "\n",
      "\"Thank you,\" Maya whispered, her voice thick with gratitude.\n",
      "\n",
      "The girl smiled. \"You're welcome. Remember, the woods always know the way home.\"\n",
      "\n",
      "As Maya walked back towards her home, she felt a newfound sense of confidence. She had faced her fear and found her way out. And she knew that even in the darkest of forests, kindness could always guide her back to the light.\n",
      "\n",
      "**Moral of the story:**\n",
      "\n",
      "* Fear is a natural response to uncertainty, but it can be overcome with courage and determination.\n",
      "* The woods can be dangerous, but they can also be a place of beauty and wonder.\n",
      "* Kindness is always a powerful force that can help us find our way out of difficult situations.\n",
      "\n",
      "**Themes:**\n",
      "\n",
      "* Overcoming fear\n",
      "* Finding your way\n",
      "* The power of kindness\n",
      "* Confidence\n",
      "* The beauty of nature\n",
      "* The importance of following directions.\n",
      "\n",
      "**Additional elements:**\n",
      "\n",
      "* The story could be enhanced with descriptions of the forest, the girl's kindness, and the girl's words of wisdom.\n",
      "* The story could be made more relatable by adding elements of personal struggle or loss.\n",
      "* The story could be concluded with a message of hope and resilience.\n",
      "-----END-----\n",
      "\n",
      "\n"
     ]
    }
   ],
   "source": [
    "runner.generate_response(example_prompts,\n",
    "                         [GenLengthLogitsProcessor(runner.tokenizer, boost_factor=-10.0, p=0, \n",
    "                                                   complete_sentences=False)])"
   ]
  },
  {
   "cell_type": "code",
   "execution_count": null,
   "id": "f6a9bacf",
   "metadata": {},
   "outputs": [],
   "source": []
  }
 ],
 "metadata": {
  "kernelspec": {
   "display_name": "Python 3 (ipykernel)",
   "language": "python",
   "name": "python3"
  },
  "language_info": {
   "codemirror_mode": {
    "name": "ipython",
    "version": 3
   },
   "file_extension": ".py",
   "mimetype": "text/x-python",
   "name": "python",
   "nbconvert_exporter": "python",
   "pygments_lexer": "ipython3",
   "version": "3.10.13"
  }
 },
 "nbformat": 4,
 "nbformat_minor": 5
}
