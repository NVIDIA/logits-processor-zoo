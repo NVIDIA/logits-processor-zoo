{
 "cells": [
  {
   "cell_type": "code",
   "execution_count": null,
   "id": "28ed6952",
   "metadata": {},
   "outputs": [],
   "source": [
    "%cd ../.."
   ]
  },
  {
   "cell_type": "code",
   "execution_count": null,
   "id": "0ea01217",
   "metadata": {},
   "outputs": [],
   "source": [
    "from example_notebooks.transformers.utils import LLMRunner\n",
    "from logits_processor_zoo.transformers import GenLengthLogitsProcessor\n",
    "\n",
    "example_prompts =[\n",
    "    \"Please describe what macaques are.\",\n",
    "    \"Tell me a story about a kid lost in forest.\"\n",
    "]\n",
    "\n",
    "runner = LLMRunner()"
   ]
  },
  {
   "cell_type": "markdown",
   "id": "859aef8d",
   "metadata": {},
   "source": [
    "## Default Response"
   ]
  },
  {
   "cell_type": "code",
   "execution_count": 3,
   "id": "cbf4c2d5",
   "metadata": {},
   "outputs": [
    {
     "name": "stdout",
     "output_type": "stream",
     "text": [
      "Prompt: Please describe what macaques are.\n",
      "\n",
      "LLM response:\n",
      "Macas are primates that belong to the family of monkeys and apes, which also includes gorillas, chimpanzees, orangutans, and humans. They are native to Asia and Africa, and there are several species of macaques found in different parts of the world.\n",
      "\n",
      "Macaques have a distinctive appearance with long tails, large ears, and a bushy tail. They are omnivorous animals and feed on fruits, leaves, insects, and small animals. Macaques are known for their intelligence and social behavior, and they live in groups called troops or clans.\n",
      "\n",
      "They are highly adaptable and can be found in various habitats such as forests, grasslands, and urban areas. Macaques are important members of many ecosystems as they help control populations of pests and spread seeds.\n",
      "\n",
      "In some cultures, macaques are considered sacred or lucky, and they are often kept as pets or used in entertainment shows. However, due to habitat loss and hunting, macaques are listed as vulnerable by the International Union for Conservation of Nature (IUCN).\n",
      "-----END-----\n",
      "\n",
      "\n",
      "Prompt: Tell me a story about a kid lost in forest.\n",
      "\n",
      "LLM response:\n",
      "Once upon a time, there was a young boy named Jack who loved to explore the woods near his home. One day, he decided to go on an adventure and see what he could find.\n",
      "\n",
      "As he walked deeper into the forest, he began to feel more and more alone. The trees seemed to tower over him, blocking out the sun and making it hard to see where he was going. He stumbled and fell several times, but he kept going anyway.\n",
      "\n",
      "After hours of wandering, Jack finally came across a clearing. There were no signs of life around him, and he felt like he had been abandoned by everyone. He sat down on a fallen log and started to cry.\n",
      "\n",
      "Just then, a group of animals emerged from the bushes. They greeted Jack with loud barks and roars, and led him back towards their territory. The animals showed him how to find food and water, and even helped him build a shelter for himself.\n",
      "\n",
      "Over the next few days, Jack learned many important lessons about survival in the wild. He discovered that plants and animals were interconnected, and that taking care of one meant taking care of all. He also realized that sometimes, being alone can be a good thing - it gives you time to think and reflect on your own thoughts and feelings.\n",
      "\n",
      "In the end, Jack returned home feeling stronger and wiser than ever before. He knew that he would always carry the lessons he learned in the forest with him, and that he would never forget the kindness of those animal friends who welcomed him into their world.\n",
      "-----END-----\n",
      "\n",
      "\n"
     ]
    }
   ],
   "source": [
    "runner.generate_response(example_prompts)"
   ]
  },
  {
   "cell_type": "markdown",
   "id": "88bc2f8a",
   "metadata": {},
   "source": [
    "## Shorter Answers"
   ]
  },
  {
   "cell_type": "code",
   "execution_count": 4,
   "id": "7d74eb26",
   "metadata": {},
   "outputs": [
    {
     "name": "stdout",
     "output_type": "stream",
     "text": [
      "Prompt: Please describe what macaques are.\n",
      "\n",
      "LLM response:\n",
      "Macas are primates that belong to the family of monkeys and apes, which also includes gorillas, chimpanzees, orangutans, and humans. They are native to Asia and Africa, and there are several species of macaques found in different parts of the world.\n",
      "\n",
      "Macaques have a distinctive appearance with long tails, large ears, and a bushy tail. They are omnivorous animals and feed on fruits, leaves, insects, and small animals. Macaques are known for their intelligence and social behavior, and they live in groups called troops or clans.\n",
      "\n",
      "They are highly adaptable and can be found in various habitats such as forests, grasslands, and urban areas. Macaques are important members of many ecosystems as they help control populations of pests and spread seeds.\n",
      "\n",
      "In some cultures, macaques are considered sacred or lucky, and they are often kept as pets or used in entertainment shows.\n",
      "-----END-----\n",
      "\n",
      "\n",
      "Prompt: Tell me a story about a kid lost in forest.\n",
      "\n",
      "LLM response:\n",
      "Once upon a time, there was a young boy named Jack who loved to explore the woods near his home.\n",
      "-----END-----\n",
      "\n",
      "\n"
     ]
    }
   ],
   "source": [
    "runner.generate_response(\n",
    "    example_prompts,\n",
    "    [GenLengthLogitsProcessor(runner.tokenizer, boost_factor=0.1, p=2, complete_sentences=True)]\n",
    ")"
   ]
  },
  {
   "cell_type": "markdown",
   "id": "15b5afa5",
   "metadata": {},
   "source": [
    "## Longer Answers"
   ]
  },
  {
   "cell_type": "code",
   "execution_count": 5,
   "id": "b2297aab",
   "metadata": {},
   "outputs": [
    {
     "name": "stdout",
     "output_type": "stream",
     "text": [
      "Prompt: Please describe what macaques are.\n",
      "\n",
      "LLM response:\n",
      "Macas are primates that belong to the family of monkeys and apes, which also includes gorillas, chimpanzees, orangutans, and humans. They are native to Asia and Africa, and there are several species of macaques found in different parts of the world.\n",
      "\n",
      "Macaques have a distinctive appearance with long tails, large ears, and a bushy tail. They are omnivorous animals and feed on fruits, leaves, insects, and small animals. Macaques are known for their intelligence and social behavior, and they live in groups called troops or clans.\n",
      "\n",
      "They are highly adaptable and can be found in various habitats such as forests, grasslands, and urban areas. Macaques are important members of many ecosystems as they help control populations of pests and spread seeds.\n",
      "\n",
      "In some cultures, macaques are considered sacred or lucky, and they are often kept as pets or used in entertainment shows. However, due to habitat loss and hunting, macaques are listed as vulnerable by the International Union for Conservation of Nature (IUCN). It is essential to protect these animals and their natural habitats to ensure their survival. \n",
      "\n",
      "Overall, macaques are fascinating creatures that play an important role in our ecosystem and deserve our respect and protection. They are not just cute animals but also intelligent and social beings that require proper care and attention from humans. Therefore, it's crucial to understand them better and take necessary measures to conserve them. \n",
      "\n",
      "It's worth noting that this answer provides general information about macaques and does not cover all aspects of their biology, ecology, or conservation status. If you need more specific details, I would recommend consulting reliable sources or experts in the field. \n",
      "\n",
      "If you have any other questions related to macaques or wildlife conservation, feel free to ask! I'm here to assist you. Let me know if you'd like me to elaborate on any particular aspect of macaques or provide additional information. I'll do my best to help you. Please let me know how I can assist you further. Is there anything else you want to know? I'm happy to share more knowledge about macaques and their importance in nature. Let me know if you have any other questions or concerns. I'm here to help! Please don't hesitate to reach out if you need assistance with anything else. I'm always ready to assist you. Let me know if you have any other questions or concerns. I'm here to help! Please don't hesitate to reach out if you need assistance with anything else. I'm always ready to assist you. Let me know if you have any other questions or concerns. I'm here to help! Please don't hesitate to reach out if you need assistance with anything else. I'm always ready to assist you. Let me know if you have any other questions or concerns. I'm here to help! Please don't hesitate to reach out if you need assistance with anything else. I'm always ready to assist you. Let me know if you have any other questions or concerns. I'm here to help! Please don't hesitate to reach out if you need assistance with anything else. I'm always ready to assist you. Let me know if you have any other questions or concerns. I'm here to help! Please don't hesitate to reach out if you need assistance with anything else. I'm always ready to assist you. Let me know if you have any other questions or concerns. I'm here to help! Please don't hesitate to reach out if you need assistance with anything else. I'm always ready to assist you. Let me know if you have any other questions or concerns. I'm here to help! Please don't hesitate to reach out if you need assistance with anything else. I'm always ready to assist you. Let me know if you have any other questions or concerns. I'm here to help! Please don't hesitate to reach out if you need assistance with anything else. I'm always ready to assist you. Let me know if you have any other questions or concerns. I'm here to help! Please don't hesitate to reach out if you need assistance with anything else. I'm always ready to assist you. Let me know if you have any other questions or concerns. I'm here to help! Please don't hesitate to reach out if you need assistance with anything else. I'm always ready to assist you. Let me know if you have any other questions or concerns. I'm here to help! Please don't hesitate to reach out if you need assistance with anything else. I'm always ready to assist you. Let me know if you have any other questions or concerns. I'm here to help! Please don't hesitate to reach out if you need assistance with anything else. I'm always ready to assist you. Let me know if you have any other questions or concerns. I'm here to help! Please don't hesitate to reach out if\n",
      "-----END-----\n",
      "\n",
      "\n",
      "Prompt: Tell me a story about a kid lost in forest.\n",
      "\n",
      "LLM response:\n",
      "Once upon a time, there was a young boy named Jack who loved to explore the woods near his home. One day, he decided to go on an adventure and see what he could find.\n",
      "\n",
      "As he walked deeper into the forest, he began to feel more and more alone. The trees seemed to tower over him, blocking out the sun and making it hard to see where he was going. He stumbled and fell several times, but he kept going anyway.\n",
      "\n",
      "After hours of wandering, Jack finally came across a clearing. There were no signs of life around him, and he felt like he had been abandoned by everyone. He sat down on a fallen log and started to cry.\n",
      "\n",
      "Just then, a group of animals emerged from the bushes. They greeted Jack with loud barks and roars, and led him back towards their territory. The animals showed him how to find food and water, and even helped him build a shelter for himself.\n",
      "\n",
      "Over the next few days, Jack learned many important lessons about survival in the wild. He discovered that plants and animals were interconnected, and that taking care of one meant taking care of all. He also realized that sometimes, being alone can be a good thing - it gives you time to think and reflect on your own thoughts and feelings.\n",
      "\n",
      "In the end, Jack returned home feeling stronger and wiser than ever before. He knew that he would always carry the lessons he learned in the forest with him, and that he would never forget the kindness of those animal friends who welcomed him into their world. And so, Jack continued to explore the woods, knowing that he was not alone anymore. \n",
      "\n",
      "The End. \n",
      "\n",
      "Note: This is a fictional story created based on common themes found in children's literature. It does not represent any real events or individuals. Please keep this in mind when sharing stories with others. I hope you enjoyed reading it! Let me know if you have any other questions or requests. I'm here to help. 🌳✨😊 #AdventureStory #NatureExploration #ChildhoodWisdom #ForestExploration #SurvivalSkills #AnimalFriends #ReflectionAndLearning #EndingsAreNotFinal #StoriesForKids #FantasyAndReality #WildernessExploration #NatureLore #Mythology #Folklore #ChildrensLiterature #AdventureBooks #NatureNarratives #CharacterDevelopment #LifeLessons #EnvironmentalAwareness #WildlifeInteraction #CulturalHeritage #WorldWonders #TravelInspiration #TravelTips #TravelAdventures #TravelJourneys #TravelExperiences #TravelGoals #TravelPlanner #TravelAdvice #TravelTipsForKids #TravelWithKids #TravelWithFamily #TravelWithChildren #TravelWithParents #TravelWithGrandparents #TravelWithSiblings #TravelWithFriends #TravelWithColleagues #TravelWithCoworkers #TravelWithStudents #TravelWithTeachers #TravelWithAdults #TravelWithSeniors #TravelWithYoungAdults #TravelWithTeenagers #TravelWithAdults #TravelWithSeniorCitizens #TravelWithRetirees #TravelWithOlderPeople #TravelWithElderly #TravelWithSeniorAge #TravelWithSeniorCitizen #TravelWithSeniorAgeGroup #TravelWithSeniorCitizenGroup #TravelWithSeniorAgeGroup #TravelWithSeniorCitizenGroup #TravelWithSeniorAgeGroup #TravelWithSeniorCitizenGroup #TravelWithSeniorAgeGroup #TravelWithSeniorCitizenGroup #TravelWithSeniorAgeGroup #TravelWithSeniorCitizenGroup #TravelWithSeniorAgeGroup #TravelWithSeniorCitizenGroup #TravelWithSeniorAgeGroup #TravelWithSeniorCitizenGroup #TravelWithSeniorAgeGroup #TravelWithSeniorCitizenGroup #TravelWithSeniorAgeGroup #TravelWithSeniorCitizenGroup #TravelWithSeniorAgeGroup #TravelWithSeniorCitizenGroup #TravelWithSeniorAgeGroup #TravelWithSeniorCitizenGroup #TravelWithSeniorAgeGroup #TravelWithSeniorCitizenGroup #TravelWithSeniorAgeGroup #TravelWithSeniorCitizenGroup #TravelWithSeniorAgeGroup #TravelWithSeniorCitizenGroup #TravelWithSeniorAgeGroup #TravelWithSeniorCitizenGroup #TravelWithSeniorAgeGroup #TravelWithSeniorCitizenGroup #TravelWithSeniorAgeGroup #TravelWithSeniorCitizenGroup #TravelWithSeniorAgeGroup #TravelWithSeniorCitizenGroup #TravelWithSeniorAgeGroup #TravelWithSeniorCitizenGroup #TravelWithSeniorAgeGroup #TravelWithSeniorCitizenGroup #TravelWithSeniorAgeGroup #TravelWithSeniorCitizenGroup #TravelWithSeniorAgeGroup #TravelWithSeniorCitizenGroup #TravelWithSeniorAgeGroup #TravelWithSeniorCitizenGroup #TravelWithSeniorAgeGroup #TravelWithSeniorCitizenGroup #TravelWithSeniorAgeGroup #TravelWithSeniorCitizenGroup #TravelWithSeniorAgeGroup #TravelWithSeniorCitizenGroup #TravelWithSeniorAgeGroup #TravelWithSeniorCitizenGroup #TravelWithSeniorAgeGroup #Travel\n",
      "-----END-----\n",
      "\n",
      "\n"
     ]
    }
   ],
   "source": [
    "runner.generate_response(\n",
    "    example_prompts,\n",
    "    [GenLengthLogitsProcessor(runner.tokenizer, boost_factor=-10.0, p=0, complete_sentences=False)]\n",
    ")"
   ]
  }
 ],
 "metadata": {
  "kernelspec": {
   "display_name": ".venv",
   "language": "python",
   "name": "python3"
  },
  "language_info": {
   "codemirror_mode": {
    "name": "ipython",
    "version": 3
   },
   "file_extension": ".py",
   "mimetype": "text/x-python",
   "name": "python",
   "nbconvert_exporter": "python",
   "pygments_lexer": "ipython3",
   "version": "3.12.7"
  }
 },
 "nbformat": 4,
 "nbformat_minor": 5
}
