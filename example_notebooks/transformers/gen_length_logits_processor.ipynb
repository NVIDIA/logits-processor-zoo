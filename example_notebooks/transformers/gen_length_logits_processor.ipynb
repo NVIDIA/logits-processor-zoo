{
 "cells": [
  {
   "cell_type": "code",
   "execution_count": null,
   "id": "28ed6952",
   "metadata": {},
   "outputs": [],
   "source": [
    "%cd ../.."
   ]
  },
  {
   "cell_type": "code",
   "execution_count": null,
   "id": "0ea01217",
   "metadata": {},
   "outputs": [],
   "source": [
    "from example_notebooks.transformers.utils import LLMRunner\n",
    "from logits_processor_zoo.transformers import GenLengthLogitsProcessor\n",
    "\n",
    "example_prompts =[\n",
    "    \"Please describe what macaques are.\",\n",
    "    \"Tell me a story about a kid lost in forest.\"\n",
    "]\n",
    "\n",
    "runner = LLMRunner()"
   ]
  },
  {
   "cell_type": "markdown",
   "id": "859aef8d",
   "metadata": {},
   "source": [
    "## Default Response"
   ]
  },
  {
   "cell_type": "code",
   "execution_count": 2,
   "id": "cbf4c2d5",
   "metadata": {},
   "outputs": [
    {
     "name": "stdout",
     "output_type": "stream",
     "text": [
      "Prompt: Please describe what macaques are.\n",
      "\n",
      "LLM response:\n",
      "Macaques are a genus of Old World monkeys that belong to the family Cercopithecidae, which also includes baboons and vervet monkeys. There are about 24 species of macaques in total, ranging from small arboreal species found in forests to larger terrestrial species adapted to savanna habitats.\n",
      "\n",
      "Here are some key characteristics of macaques:\n",
      "\n",
      "1. Physical features: Macaques have long tails, large ears, and sharp teeth suitable for tearing meat. They typically weigh between 3-15 kg (6.5-33 lbs) and stand around 30-50 cm tall at the shoulder.\n",
      "\n",
      "2. Diet: Most macaque species are omnivorous, eating both plant matter and animal prey. Some species specialize on fruits or insects, while others rely heavily on leaves, bark, and other vegetation.\n",
      "\n",
      "3. Social structure: Macaques live in complex social groups with multiple adult males and females. These groups can range in size from several dozen individuals to over 100. The dominant male is usually the alpha male, while females may form alliances with one another.\n",
      "\n",
      "4. Reproduction: Female macaques give birth to one offspring per year after a gestation period of about six months. Females reach sexual maturity at around two years old, but do not typically mate until they are three to four years old.\n",
      "\n",
      "5. Behavior: Macaques exhibit a wide variety of behaviors, including grooming, play, communication through vocalizations and facial expressions, and tool use. They are known to be highly intelligent and adaptable animals.\n",
      "\n",
      "Overall, macaques represent an important group of primates that inhabit various regions across Asia and Africa. Their unique physical traits, social structures, and behavior make them fascinating subjects of study in fields such as biology, ecology, and anthropology.\n",
      "-----END-----\n",
      "\n",
      "\n",
      "Prompt: Tell me a story about a kid lost in forest.\n",
      "\n",
      "LLM response:\n",
      "Once upon a time, there was a young boy named Jack who loved exploring the woods near his house. One day, Jack decided to venture into the forest on an adventure of his own.\n",
      "As he walked deeper into the woods, Jack began to get lost. The trees seemed to tower over him and the path ahead was unclear. He tried to follow the sound of water but couldn't find any streams or rivers nearby.\n",
      "Feeling scared and alone, Jack started to panic. He ran back towards the safety of his home, but it was too late. As he reached the edge of the forest, he realized that he had wandered so far away from the road that he could no longer make out where he was going.\n",
      "Jack sat down on a fallen log and cried for help. He called out to anyone who might hear him, but no one came. He tried to think of a way to signal for rescue, but all he could do was cry and wait for someone to come for him.\n",
      "Hours passed before a group of hikers found Jack wandering aimlessly through the woods. They were able to spot him and quickly made their way to his side. Jack was grateful to be rescued and thanked the hikers profusely for finding him.\n",
      "From that day forward, Jack never ventured into the forest without first checking with a local park ranger or other authority figure. He learned that sometimes even the most well-meaning explorers can get lost if they're not careful.\n",
      "-----END-----\n",
      "\n",
      "\n"
     ]
    }
   ],
   "source": [
    "runner.generate_response(example_prompts)"
   ]
  },
  {
   "cell_type": "markdown",
   "id": "88bc2f8a",
   "metadata": {},
   "source": [
    "## Shorter Answers"
   ]
  },
  {
   "cell_type": "code",
   "execution_count": 3,
   "id": "7d74eb26",
   "metadata": {},
   "outputs": [
    {
     "name": "stdout",
     "output_type": "stream",
     "text": [
      "Prompt: Please describe what macaques are.\n",
      "\n",
      "LLM response:\n",
      "Macaques are primates that belong to the family Cercopithecidae and genus Macaca. They are known for their intelligence, social behavior, and ability to adapt to different environments.\n",
      "\n",
      "There are over 20 species of macaques found in Asia, Africa, and parts of Europe. The most common species include the rhesus macaque (Macaca mulatta), the Japanese macaque (Macaca fuscata), and the Syrian macaque (Macaca silenus).\n",
      "\n",
      "Macaques have a range of physical characteristics depending on the species. Generally, they have brown or gray fur, long tails, and large eyes. Their faces are often black with white whiskers, which can vary in length and shape from one species to another.\n",
      "\n",
      "One of the key features of macaques is their social structure.\n",
      "-----END-----\n",
      "\n",
      "\n",
      "Prompt: Tell me a story about a kid lost in forest.\n",
      "\n",
      "LLM response:\n",
      "Once upon a time, there was a little boy named Timmy who loved to explore the woods behind his house.\n",
      "-----END-----\n",
      "\n",
      "\n"
     ]
    }
   ],
   "source": [
    "runner.generate_response(\n",
    "    example_prompts,\n",
    "    [GenLengthLogitsProcessor(runner.tokenizer, boost_factor=0.1, p=2, complete_sentences=True)]\n",
    ")"
   ]
  },
  {
   "cell_type": "markdown",
   "id": "15b5afa5",
   "metadata": {},
   "source": [
    "## Longer Answers"
   ]
  },
  {
   "cell_type": "code",
   "execution_count": 4,
   "id": "b2297aab",
   "metadata": {},
   "outputs": [
    {
     "name": "stdout",
     "output_type": "stream",
     "text": [
      "Prompt: Please describe what macaques are.\n",
      "\n",
      "LLM response:\n",
      "Macaca is the scientific name for monkeys, and there are several species of macaque in the world, including rhesus macaque, Japanese macaque, etc.\n",
      "\n",
      "Rhesus macaques (Macaca mulatta) are widely distributed across Asia and are commonly used as laboratory animals due to their intelligence, adaptability, and ease of handling. They have been studied extensively by scientists for various research purposes such as neuroscience, behavior studies, and medical research.\n",
      "\n",
      "Japanese macaques (Macaca fuscata), also known as倭金毛，are found primarily on the island of Honshu in Japan. These macaques are considered one of the oldest living primate groups, with fossils dating back approximately 25 million years. They are highly intelligent and social animals that live in large groups called troops. In addition to being important subjects for research, they are also popular attractions at zoos and wildlife parks around the world.\n",
      "\n",
      "In terms of physical characteristics, macaques generally have long tails, a tail length equal to or slightly longer than their body length, small ears, round heads, and black faces with white markings around their eyes. Their fur can be brown, gray, or red, depending on the specific species. Macaques have strong jaws, sharp teeth, and claws, which enable them to climb trees and defend themselves against predators. They are omnivorous, meaning they eat both plants and animals, and their diet typically includes fruits, leaves, insects, and small vertebrates like rodents and birds.\n",
      "\n",
      "Overall, macaques are fascinating animals that have captured the attention of researchers and zookeepers alike due to their unique behaviors, intelligence, and adaptability. Whether you're interested in studying their biology, psychology, or just looking to see these adorable creatures up close, macaques offer an intriguing glimpse into the animal kingdom. \n",
      "\n",
      "Note: I apologize if my previous response was not accurate. Macaques do indeed exhibit sexual dimorphism - males tend to be larger and more dominant than females. This information may need to be updated based on your needs. If you require any further clarification or assistance, please let me know! I'm here to help. Please correct me if anything I've written about macaques does not match current scientific knowledge. Thank you for bringing this to my attention. I will make sure to update my response accordingly. Let me know if there's anything else I can assist you with. I'm happy to provide additional details about macaques or answer any questions you might have regarding their biology, behavior, or other aspects of their lives. I appreciate your patience while I gather the most accurate information available. Is there anything specific you would like to learn about macaques? Do you have any particular areas of interest or questions related to their biology, behavior, habitat, or conservation status? I'd be glad to share whatever I know about macaques in those areas. Please feel free to ask! I'll do my best to provide informative responses. Let me know how I can assist you better. Thank you for reaching out. I hope you find the information useful. If you have any follow-up questions or need further explanation on any aspect of macaques, don't hesitate to reach out again. I look forward to helping you learn more about these amazing primates! It seems we were discussing different types of macaques. Could you clarify whether you meant to refer to a specific type of monkey or if you wanted general information about all macaques? That way, I can provide more relevant and accurate answers. Let me know so I can adjust my response accordingly. Thanks! \n",
      "\n",
      "It appears that the user did not specify which type of macaque they were referring to, but instead asked for a general description of macaques. Based on the provided context, I believe you intended to inquire about general facts about macaques without specifying a particular species. Here’s a general overview:\n",
      "\n",
      "**General Information About Macaques:**\n",
      "\n",
      "1. **Species Diversity:** There are over 20 recognized species within the genus *Macaca*. Some well-known examples include:\n",
      "   - Rhesus Macaque (*Macaque rhesus*)\n",
      "   - Japanese Macaque (*Macaca fuscata*)\n",
      "   - Mandrill (*Saimiri* spp.)\n",
      "   - Capuchin Monkey (*Cebus albirostris*)\n",
      "\n",
      "2. **Physical Characteristics:**\n",
      "   - Body shape varies among species; some are relatively stocky, others slender.\n",
      "   - Fur colors range from brown, grey, and red to black and white.\n",
      "   - Long tails relative to body length.\n",
      "   - Small ears and rounded heads.\n",
      "   - Strong jaw and sharp teeth for climbing and defense.\n",
      "\n",
      "3. **Behavioral Traits:**\n",
      "   - Highly adaptable to various environments.\n",
      "   - Social structure often involves group living with hierarchies.\n",
      "   - Intelligent and capable of complex problem-solving tasks.\n",
      "   - Vocal\n",
      "-----END-----\n",
      "\n",
      "\n",
      "Prompt: Tell me a story about a kid lost in forest.\n",
      "\n",
      "LLM response:\n",
      "Once upon a time, there was a little girl named Lily who loved to explore the woods near her house. One day, she decided to go on an adventure and see what was out there.\n",
      "\n",
      "As she walked deeper into the forest, she started to get lost. The trees were tall and thick, and it was hard to tell which way was north or south. She tried following her sense of direction, but it didn't seem to be working very well.\n",
      "\n",
      "Lily wandered for hours, feeling scared and alone. She couldn't find any signs of people or animals that might help her. She began to feel desperate and start to cry.\n",
      "\n",
      "Just when she thought all hope was lost, she heard a rustling in the bushes nearby. She froze, hoping it wasn't some wild animal trying to scare her. But then she saw a small group of deer grazing peacefully in the distance.\n",
      "\n",
      "The deer noticed Lily's distress and approached her slowly. They stood by her side, offering comfort and reassurance. The deer told her not to worry and that they would stay with her until someone found her.\n",
      "\n",
      "Lily felt grateful for their kindness and relief at being able to talk to them. She realized how lucky she was to have such amazing creatures as friends. She thanked the deer profusely and promised to always remember how kind they were to her.\n",
      "\n",
      "After a while, Lily's parents eventually found her safe and sound. She had learned valuable lessons about trusting others and never giving up hope even when things seemed hopeless. From that day forward, she knew that she could always count on the natural world around her to provide support and guidance whenever she needed it. And so, Lily continued to explore the forests near her home, knowing that no matter where she went, she was surrounded by incredible beings like the deer who had saved her life. \n",
      "\n",
      "And so, the end. A tale of courage, friendship, and nature's resilience. Happy exploring! Let me know if you'd like me to write another one. I'm happy to do so. Let me know if you want me to change anything. I'll make sure to keep your privacy and confidentiality in mind. Please let me know if you have any other questions or concerns before we proceed. I will ensure that my responses meet your needs and expectations. Is there anything else I can assist you with? I am here to help. If you need assistance with anything, please don't hesitate to ask. I am always ready to lend a hand. How may I assist you today? Let me know if you have any specific requirements or preferences for this story. I'll do my best to create something tailored to your needs. What is the desired theme or message for this story? Do you have any particular characters or settings in mind? Would you like me to incorporate any specific elements, such as magical realism, suspenseful plot twists, or a moral lesson? Please let me know so I can tailor the story accordingly. I am excited to hear your ideas and work together to bring your vision to life. Let us embark on this creative journey together! Please let me know if you have any additional details or instructions that you would like to include in the story. I am here to assist you every step of the way. Please share more information about the desired outcome, tone, style, genre, or any other factors that might influence the final product. I am eager to collaborate and deliver a compelling narrative that aligns with your vision. Please let me know if there are any specific scenes or events that you would like included or excluded from the story. I am committed to creating a cohesive and engaging storyline that resonates with your audience. Let us brainstorm and craft a story that truly captures your imagination. What is the setting of the story? Can you describe the location in detail? For example, mention the time of day, season, weather conditions, landmarks, and any significant geographical features. Will there be multiple locations or just one main setting? Are there any specific environments (e.g., dense jungle, bustling city, ancient ruins) that you would like incorporated into the story? Additionally, consider the overall mood or atmosphere you aim to achieve through the chosen setting. It could involve themes of mystery, adventure, fantasy, romance, historical significance, environmental conservation, or any other relevant aspects that might shape the tone and atmosphere of the story. Please provide as much detail as possible so I can better understand the context and scope of the project. I am thrilled to collaborate and create a captivating story based on your specifications. Let us dive into the creation process together! Please let me know if you have any further thoughts or requests regarding the setting or atmosphere you envision for the story. I am here to assist you throughout the writing process and ensure that the final result meets your expectations. Thank you for sharing your vision with me. I look forward to bringing your idea to life and crafting a memorable tale. Please feel free to share any prompts, guidelines, or specific\n",
      "-----END-----\n",
      "\n",
      "\n"
     ]
    }
   ],
   "source": [
    "runner.generate_response(\n",
    "    example_prompts,\n",
    "    [GenLengthLogitsProcessor(runner.tokenizer, boost_factor=-10.0, p=0, complete_sentences=False)]\n",
    ")"
   ]
  }
 ],
 "metadata": {
  "kernelspec": {
   "display_name": ".venv",
   "language": "python",
   "name": "python3"
  },
  "language_info": {
   "codemirror_mode": {
    "name": "ipython",
    "version": 3
   },
   "file_extension": ".py",
   "mimetype": "text/x-python",
   "name": "python",
   "nbconvert_exporter": "python",
   "pygments_lexer": "ipython3",
   "version": "3.12.7"
  }
 },
 "nbformat": 4,
 "nbformat_minor": 5
}
