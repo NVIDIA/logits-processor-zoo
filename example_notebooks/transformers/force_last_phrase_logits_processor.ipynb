{
 "cells": [
  {
   "cell_type": "code",
   "execution_count": 1,
   "id": "28ed6952",
   "metadata": {},
   "outputs": [
    {
     "name": "stdout",
     "output_type": "stream",
     "text": [
      "/home/aerdem/projects/logits-processor-zoo\n"
     ]
    }
   ],
   "source": [
    "%cd ../.."
   ]
  },
  {
   "cell_type": "code",
   "execution_count": 2,
   "id": "a85f8503",
   "metadata": {},
   "outputs": [
    {
     "data": {
      "application/vnd.jupyter.widget-view+json": {
       "model_id": "480834797c6c488e9d64572232578dd0",
       "version_major": 2,
       "version_minor": 0
      },
      "text/plain": [
       "Loading checkpoint shards:   0%|          | 0/2 [00:00<?, ?it/s]"
      ]
     },
     "metadata": {},
     "output_type": "display_data"
    }
   ],
   "source": [
    "from example_notebooks.transformers.utils import LLMRunner\n",
    "from logits_processor_zoo.transformers import ForceLastPhraseLogitsProcessor\n",
    "\n",
    "\n",
    "example_prompts = [\n",
    "    \"\"\"\n",
    "    Retrieved information from: https://en.wikipedia.org/wiki/Bulbasaur\n",
    "    Bulbasaur is a fictional Pokémon species in Nintendo and Game Freak's Pokémon franchise. \n",
    "    Designed by Atsuko Nishida, Bulbasaur is a Grass and Poison-type, first appearing in Pocket Monsters: Red and Green (Pokémon Red and Blue outside Japan) as a starter Pokémon. \n",
    "    Since then, it has reappeared in sequels, spin-off games, related merchandise, and animated and printed adaptations of the franchise. \n",
    "    It is a central character in the Pokémon anime, being one of Ash Ketchum's main Pokémon for the first season, with a different one later being obtained by supporting character May. \n",
    "    It is featured in various manga and is owned by protagonist Red in Pokémon Adventures.\n",
    "    \n",
    "    What is Bulbasaur?\n",
    "    \"\"\",\n",
    "]\n",
    "\n",
    "runner = LLMRunner()"
   ]
  },
  {
   "cell_type": "markdown",
   "id": "859aef8d",
   "metadata": {},
   "source": [
    "## Default Response"
   ]
  },
  {
   "cell_type": "code",
   "execution_count": 3,
   "id": "cbf4c2d5",
   "metadata": {},
   "outputs": [
    {
     "name": "stdout",
     "output_type": "stream",
     "text": [
      "Prompt: \n",
      "    Retrieved information from: https://en.wikipedia.org/wiki/Bulbasaur\n",
      "    Bulbasaur is a fictional Pokémon species in Nintendo and Game Freak's Pokémon franchise. \n",
      "    Designed by Atsuko Nishida, Bulbasaur is a Grass and Poison-type, first appearing in Pocket Monsters: Red and Green (Pokémon Red and Blue outside Japan) as a starter Pokémon. \n",
      "    Since then, it has reappeared in sequels, spin-off games, related merchandise, and animated and printed adaptations of the franchise. \n",
      "    It is a central character in the Pokémon anime, being one of Ash Ketchum's main Pokémon for the first season, with a different one later being obtained by supporting character May. \n",
      "    It is featured in various manga and is owned by protagonist Red in Pokémon Adventures.\n",
      "    \n",
      "    What is Bulbasaur?\n",
      "    \n",
      "\n",
      "LLM response:\n",
      "- A fictional Pokémon species\n",
      "    - A Grass and Poison-type\n",
      "    - A starter Pokémon\n",
      "    - A central character in the Pokémon anime\n",
      "-----END-----\n",
      "\n",
      "\n"
     ]
    }
   ],
   "source": [
    "runner.generate_response(example_prompts)"
   ]
  },
  {
   "cell_type": "markdown",
   "id": "88bc2f8a",
   "metadata": {},
   "source": [
    "## Provide references"
   ]
  },
  {
   "cell_type": "code",
   "execution_count": 4,
   "id": "7d74eb26",
   "metadata": {},
   "outputs": [
    {
     "name": "stdout",
     "output_type": "stream",
     "text": [
      "Prompt: \n",
      "    Retrieved information from: https://en.wikipedia.org/wiki/Bulbasaur\n",
      "    Bulbasaur is a fictional Pokémon species in Nintendo and Game Freak's Pokémon franchise. \n",
      "    Designed by Atsuko Nishida, Bulbasaur is a Grass and Poison-type, first appearing in Pocket Monsters: Red and Green (Pokémon Red and Blue outside Japan) as a starter Pokémon. \n",
      "    Since then, it has reappeared in sequels, spin-off games, related merchandise, and animated and printed adaptations of the franchise. \n",
      "    It is a central character in the Pokémon anime, being one of Ash Ketchum's main Pokémon for the first season, with a different one later being obtained by supporting character May. \n",
      "    It is featured in various manga and is owned by protagonist Red in Pokémon Adventures.\n",
      "    \n",
      "    What is Bulbasaur?\n",
      "    \n",
      "\n",
      "LLM response:\n",
      "- A fictional Pokémon species\n",
      "    - A Grass and Poison-type\n",
      "    - A starter Pokémon\n",
      "    - A central character in the Pokémon anime\n",
      "\n",
      "References:\n",
      "- https://en.wikipedia.org/wiki/Bulbasaur\n",
      "- https://bulbasaur.fandom.com/wiki/Bulbasaur\n",
      "-----END-----\n",
      "\n",
      "\n"
     ]
    }
   ],
   "source": [
    "phrase = \"\\n\\nReferences:\"\n",
    "batch_size = len(example_prompts)\n",
    "\n",
    "runner.generate_response(example_prompts,\n",
    "                         [ForceLastPhraseLogitsProcessor(phrase, runner.tokenizer, batch_size)])"
   ]
  },
  {
   "cell_type": "markdown",
   "id": "15b5afa5",
   "metadata": {},
   "source": [
    "## Thank you message"
   ]
  },
  {
   "cell_type": "code",
   "execution_count": 5,
   "id": "b2297aab",
   "metadata": {},
   "outputs": [
    {
     "name": "stdout",
     "output_type": "stream",
     "text": [
      "Prompt: \n",
      "    Retrieved information from: https://en.wikipedia.org/wiki/Bulbasaur\n",
      "    Bulbasaur is a fictional Pokémon species in Nintendo and Game Freak's Pokémon franchise. \n",
      "    Designed by Atsuko Nishida, Bulbasaur is a Grass and Poison-type, first appearing in Pocket Monsters: Red and Green (Pokémon Red and Blue outside Japan) as a starter Pokémon. \n",
      "    Since then, it has reappeared in sequels, spin-off games, related merchandise, and animated and printed adaptations of the franchise. \n",
      "    It is a central character in the Pokémon anime, being one of Ash Ketchum's main Pokémon for the first season, with a different one later being obtained by supporting character May. \n",
      "    It is featured in various manga and is owned by protagonist Red in Pokémon Adventures.\n",
      "    \n",
      "    What is Bulbasaur?\n",
      "    \n",
      "\n",
      "LLM response:\n",
      "- A fictional Pokémon species\n",
      "    - A Grass and Poison-type\n",
      "    - A starter Pokémon\n",
      "    - A central character in the Pokémon anime\n",
      "\n",
      "Thanks for trying our RAG application! If you have more questions about Bulbasaur, please feel free to ask.\n",
      "-----END-----\n",
      "\n",
      "\n"
     ]
    }
   ],
   "source": [
    "phrase = \"\\n\\nThanks for trying our RAG application! If you have more questions about\"\n",
    "\n",
    "runner.generate_response(example_prompts,\n",
    "                         [ForceLastPhraseLogitsProcessor(phrase, runner.tokenizer, batch_size)])"
   ]
  },
  {
   "cell_type": "code",
   "execution_count": null,
   "id": "afeeef2c",
   "metadata": {},
   "outputs": [],
   "source": []
  }
 ],
 "metadata": {
  "kernelspec": {
   "display_name": "Python 3 (ipykernel)",
   "language": "python",
   "name": "python3"
  },
  "language_info": {
   "codemirror_mode": {
    "name": "ipython",
    "version": 3
   },
   "file_extension": ".py",
   "mimetype": "text/x-python",
   "name": "python",
   "nbconvert_exporter": "python",
   "pygments_lexer": "ipython3",
   "version": "3.10.13"
  }
 },
 "nbformat": 4,
 "nbformat_minor": 5
}
