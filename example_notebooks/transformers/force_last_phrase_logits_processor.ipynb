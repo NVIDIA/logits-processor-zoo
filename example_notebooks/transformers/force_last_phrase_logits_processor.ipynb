{
 "cells": [
  {
   "cell_type": "code",
   "execution_count": 1,
   "id": "28ed6952",
   "metadata": {},
   "outputs": [
    {
     "name": "stdout",
     "output_type": "stream",
     "text": [
      "/home/aerdem/projects/nvidia/logits-processor-zoo\n"
     ]
    }
   ],
   "source": [
    "%cd ../.."
   ]
  },
  {
   "cell_type": "code",
   "execution_count": 2,
   "id": "a85f8503",
   "metadata": {},
   "outputs": [],
   "source": [
    "from example_notebooks.transformers.utils import LLMRunner\n",
    "from logits_processor_zoo.transformers import ForceLastPhraseLogitsProcessor\n",
    "\n",
    "\n",
    "example_prompts = [\n",
    "    \"\"\"\n",
    "    Retrieved information from: https://en.wikipedia.org/wiki/Bulbasaur\n",
    "    Bulbasaur is a fictional Pokémon species in Nintendo and Game Freak's Pokémon franchise. \n",
    "    Designed by Atsuko Nishida, Bulbasaur is a Grass and Poison-type, first appearing in Pocket Monsters: Red and Green (Pokémon Red and Blue outside Japan) as a starter Pokémon. \n",
    "    Since then, it has reappeared in sequels, spin-off games, related merchandise, and animated and printed adaptations of the franchise. \n",
    "    It is a central character in the Pokémon anime, being one of Ash Ketchum's main Pokémon for the first season, with a different one later being obtained by supporting character May. \n",
    "    It is featured in various manga and is owned by protagonist Red in Pokémon Adventures.\n",
    "    \n",
    "    What is Bulbasaur?\n",
    "    \"\"\",\n",
    "]\n",
    "\n",
    "runner = LLMRunner()"
   ]
  },
  {
   "cell_type": "markdown",
   "id": "859aef8d",
   "metadata": {},
   "source": [
    "## Default Response"
   ]
  },
  {
   "cell_type": "code",
   "execution_count": 3,
   "id": "cbf4c2d5",
   "metadata": {},
   "outputs": [
    {
     "name": "stderr",
     "output_type": "stream",
     "text": [
      "The attention mask is not set and cannot be inferred from input because pad token is same as eos token. As a consequence, you may observe unexpected behavior. Please pass your input's `attention_mask` to obtain reliable results.\n"
     ]
    },
    {
     "name": "stdout",
     "output_type": "stream",
     "text": [
      "Prompt: \n",
      "    Retrieved information from: https://en.wikipedia.org/wiki/Bulbasaur\n",
      "    Bulbasaur is a fictional Pokémon species in Nintendo and Game Freak's Pokémon franchise. \n",
      "    Designed by Atsuko Nishida, Bulbasaur is a Grass and Poison-type, first appearing in Pocket Monsters: Red and Green (Pokémon Red and Blue outside Japan) as a starter Pokémon. \n",
      "    Since then, it has reappeared in sequels, spin-off games, related merchandise, and animated and printed adaptations of the franchise. \n",
      "    It is a central character in the Pokémon anime, being one of Ash Ketchum's main Pokémon for the first season, with a different one later being obtained by supporting character May. \n",
      "    It is featured in various manga and is owned by protagonist Red in Pokémon Adventures.\n",
      "    \n",
      "    What is Bulbasaur?\n",
      "    \n",
      "\n",
      "LLM response:\n",
      "Bulbasaur is a fictional Pokémon species that appears in the Pokémon franchise. It was designed by Atsuko Nishida and first appeared in the original Pokémon games, specifically in Pokémon Red and Blue outside of Japan. As a Grass and Poison-type Pokémon, Bulbasaur serves as the starting Pokémon for players to catch and train.\n",
      "\n",
      "Throughout the series, Bulbasaur has been featured in numerous sequels, spin-offs, related merchandise, and animated and printed adaptations of the franchise. It plays an important role in the Pokémon anime, where it is one of Ash Ketchum's main Pokémon during the first season. Later on, another Pokémon named May obtains a different version of Bulbasaur as her own.\n",
      "\n",
      "In addition to its appearances in the anime, Bulbasaur also features prominently in various manga stories and is owned by the protagonist Red in the Pokémon Adventures game. The Pokémon has become a beloved character within the franchise due to its enduring popularity across multiple platforms and generations of fans.\n",
      "-----END-----\n",
      "\n"
     ]
    }
   ],
   "source": [
    "runner.generate_response(example_prompts)"
   ]
  },
  {
   "cell_type": "markdown",
   "id": "88bc2f8a",
   "metadata": {},
   "source": [
    "## Provide references"
   ]
  },
  {
   "cell_type": "code",
   "execution_count": 4,
   "id": "7d74eb26",
   "metadata": {},
   "outputs": [
    {
     "name": "stdout",
     "output_type": "stream",
     "text": [
      "Prompt: \n",
      "    Retrieved information from: https://en.wikipedia.org/wiki/Bulbasaur\n",
      "    Bulbasaur is a fictional Pokémon species in Nintendo and Game Freak's Pokémon franchise. \n",
      "    Designed by Atsuko Nishida, Bulbasaur is a Grass and Poison-type, first appearing in Pocket Monsters: Red and Green (Pokémon Red and Blue outside Japan) as a starter Pokémon. \n",
      "    Since then, it has reappeared in sequels, spin-off games, related merchandise, and animated and printed adaptations of the franchise. \n",
      "    It is a central character in the Pokémon anime, being one of Ash Ketchum's main Pokémon for the first season, with a different one later being obtained by supporting character May. \n",
      "    It is featured in various manga and is owned by protagonist Red in Pokémon Adventures.\n",
      "    \n",
      "    What is Bulbasaur?\n",
      "    \n",
      "\n",
      "LLM response:\n",
      "Bulbasaur is a fictional Pokémon species that appears in the Pokémon franchise. It was designed by Atsuko Nishida and first appeared in the original Pokémon games, specifically in Pokémon Red and Blue outside of Japan. As a Grass and Poison-type Pokémon, Bulbasaur serves as the starting Pokémon for players to catch and train.\n",
      "\n",
      "Throughout the series, Bulbasaur has been featured in numerous sequels, spin-offs, related merchandise, and animated and printed adaptations of the franchise. It plays an important role in the Pokémon anime, where it is one of Ash Ketchum's main Pokémon during the first season. Later on, another Pokémon named May obtains a different version of Bulbasaur as her own.\n",
      "\n",
      "In addition to its appearances in the anime, Bulbasaur also features prominently in various manga stories and is owned by the protagonist Red in the Pokémon Adventures game. The Pokémon has become a beloved character within the franchise due to its enduring popularity across multiple platforms and generations of fans.\n",
      "\n",
      "References: Wikipedia article on Bulbasaur.\n",
      "-----END-----\n",
      "\n"
     ]
    }
   ],
   "source": [
    "phrase = \"\\n\\nReferences:\"\n",
    "batch_size = len(example_prompts)\n",
    "\n",
    "runner.generate_response(\n",
    "    example_prompts,\n",
    "    [ForceLastPhraseLogitsProcessor(phrase, runner.tokenizer, batch_size)]\n",
    ")"
   ]
  },
  {
   "cell_type": "markdown",
   "id": "15b5afa5",
   "metadata": {},
   "source": [
    "## Thank you message"
   ]
  },
  {
   "cell_type": "code",
   "execution_count": 5,
   "id": "b2297aab",
   "metadata": {},
   "outputs": [
    {
     "name": "stdout",
     "output_type": "stream",
     "text": [
      "Prompt: \n",
      "    Retrieved information from: https://en.wikipedia.org/wiki/Bulbasaur\n",
      "    Bulbasaur is a fictional Pokémon species in Nintendo and Game Freak's Pokémon franchise. \n",
      "    Designed by Atsuko Nishida, Bulbasaur is a Grass and Poison-type, first appearing in Pocket Monsters: Red and Green (Pokémon Red and Blue outside Japan) as a starter Pokémon. \n",
      "    Since then, it has reappeared in sequels, spin-off games, related merchandise, and animated and printed adaptations of the franchise. \n",
      "    It is a central character in the Pokémon anime, being one of Ash Ketchum's main Pokémon for the first season, with a different one later being obtained by supporting character May. \n",
      "    It is featured in various manga and is owned by protagonist Red in Pokémon Adventures.\n",
      "    \n",
      "    What is Bulbasaur?\n",
      "    \n",
      "\n",
      "LLM response:\n",
      "Bulbasaur is a fictional Pokémon species that appears in the Pokémon franchise. It was designed by Atsuko Nishida and first appeared in the original Pokémon games, specifically in Pokémon Red and Blue outside of Japan. As a Grass and Poison-type Pokémon, Bulbasaur serves as the starting Pokémon for players to catch and train.\n",
      "\n",
      "Throughout the series, Bulbasaur has been featured in numerous sequels, spin-offs, related merchandise, and animated and printed adaptations of the franchise. It plays an important role in the Pokémon anime, where it is one of Ash Ketchum's main Pokémon during the first season. Later on, another Pokémon named May obtains a different version of Bulbasaur as her own.\n",
      "\n",
      "In addition to its appearances in the anime, Bulbasaur also features prominently in various manga stories and is owned by the protagonist Red in the Pokémon Adventures game. The Pokémon has become a beloved character within the franchise due to its enduring popularity across multiple platforms and generations of fans.\n",
      "\n",
      "Thanks for trying our RAG application! If you have more questions about Bulbasaur or any other topic, feel free to ask!\n",
      "-----END-----\n",
      "\n"
     ]
    }
   ],
   "source": [
    "phrase = \"\\n\\nThanks for trying our RAG application! If you have more questions about\"\n",
    "\n",
    "runner.generate_response(\n",
    "    example_prompts,\n",
    "    [ForceLastPhraseLogitsProcessor(phrase, runner.tokenizer, batch_size)]\n",
    ")"
   ]
  }
 ],
 "metadata": {
  "kernelspec": {
   "display_name": "Python 3 (ipykernel)",
   "language": "python",
   "name": "python3"
  },
  "language_info": {
   "codemirror_mode": {
    "name": "ipython",
    "version": 3
   },
   "file_extension": ".py",
   "mimetype": "text/x-python",
   "name": "python",
   "nbconvert_exporter": "python",
   "pygments_lexer": "ipython3",
   "version": "3.10.13"
  }
 },
 "nbformat": 4,
 "nbformat_minor": 5
}
