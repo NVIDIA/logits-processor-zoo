{
 "cells": [
  {
   "cell_type": "code",
   "execution_count": null,
   "id": "28ed6952",
   "metadata": {},
   "outputs": [],
   "source": [
    "%cd ../.."
   ]
  },
  {
   "cell_type": "code",
   "execution_count": null,
   "id": "a85f8503",
   "metadata": {},
   "outputs": [],
   "source": [
    "from example_notebooks.transformers.utils import LLMRunner\n",
    "from logits_processor_zoo.transformers import ForceLastPhraseLogitsProcessor\n",
    "\n",
    "\n",
    "example_prompts = [\n",
    "    \"\"\"\n",
    "    Retrieved information from: https://en.wikipedia.org/wiki/Bulbasaur\n",
    "    Bulbasaur is a fictional Pokémon species in Nintendo and Game Freak's Pokémon franchise. \n",
    "    Designed by Atsuko Nishida, Bulbasaur is a Grass and Poison-type, first appearing in Pocket Monsters: Red and Green (Pokémon Red and Blue outside Japan) as a starter Pokémon. \n",
    "    Since then, it has reappeared in sequels, spin-off games, related merchandise, and animated and printed adaptations of the franchise. \n",
    "    It is a central character in the Pokémon anime, being one of Ash Ketchum's main Pokémon for the first season, with a different one later being obtained by supporting character May. \n",
    "    It is featured in various manga and is owned by protagonist Red in Pokémon Adventures.\n",
    "    \n",
    "    What is Bulbasaur?\n",
    "    \"\"\",\n",
    "]\n",
    "\n",
    "runner = LLMRunner()"
   ]
  },
  {
   "cell_type": "markdown",
   "id": "859aef8d",
   "metadata": {},
   "source": [
    "## Default Response"
   ]
  },
  {
   "cell_type": "code",
   "execution_count": 2,
   "id": "cbf4c2d5",
   "metadata": {},
   "outputs": [
    {
     "name": "stdout",
     "output_type": "stream",
     "text": [
      "Prompt: \n",
      "    Retrieved information from: https://en.wikipedia.org/wiki/Bulbasaur\n",
      "    Bulbasaur is a fictional Pokémon species in Nintendo and Game Freak's Pokémon franchise. \n",
      "    Designed by Atsuko Nishida, Bulbasaur is a Grass and Poison-type, first appearing in Pocket Monsters: Red and Green (Pokémon Red and Blue outside Japan) as a starter Pokémon. \n",
      "    Since then, it has reappeared in sequels, spin-off games, related merchandise, and animated and printed adaptations of the franchise. \n",
      "    It is a central character in the Pokémon anime, being one of Ash Ketchum's main Pokémon for the first season, with a different one later being obtained by supporting character May. \n",
      "    It is featured in various manga and is owned by protagonist Red in Pokémon Adventures.\n",
      "    \n",
      "    What is Bulbasaur?\n",
      "    \n",
      "\n",
      "LLM response:\n",
      "Bulbasaur is a fictional Pokémon species that belongs to the Grass and Poison types. It was designed by Atsuko Nishida and first appeared in Nintendo and Game Freak's Pokémon franchise in 1996. \n",
      "\n",
      "Bulbasaur is the first Pokémon encountered when players begin their journey in the Pokémon world, making it a crucial element of the franchise. It is known for its ability to evolve into a stronger form called Ivysaur, which can further evolve into Venusaur.\n",
      "\n",
      "Throughout the Pokémon franchise, Bulbasaur appears in multiple games, spin-offs, and adaptations, including the anime series. It also features prominently in various manga publications and serves as an important character in the Pokémon Adventures comic book series.\n",
      "-----END-----\n",
      "\n",
      "\n"
     ]
    }
   ],
   "source": [
    "runner.generate_response(example_prompts)"
   ]
  },
  {
   "cell_type": "markdown",
   "id": "88bc2f8a",
   "metadata": {},
   "source": [
    "## Provide references"
   ]
  },
  {
   "cell_type": "code",
   "execution_count": 3,
   "id": "7d74eb26",
   "metadata": {},
   "outputs": [
    {
     "name": "stdout",
     "output_type": "stream",
     "text": [
      "Prompt: \n",
      "    Retrieved information from: https://en.wikipedia.org/wiki/Bulbasaur\n",
      "    Bulbasaur is a fictional Pokémon species in Nintendo and Game Freak's Pokémon franchise. \n",
      "    Designed by Atsuko Nishida, Bulbasaur is a Grass and Poison-type, first appearing in Pocket Monsters: Red and Green (Pokémon Red and Blue outside Japan) as a starter Pokémon. \n",
      "    Since then, it has reappeared in sequels, spin-off games, related merchandise, and animated and printed adaptations of the franchise. \n",
      "    It is a central character in the Pokémon anime, being one of Ash Ketchum's main Pokémon for the first season, with a different one later being obtained by supporting character May. \n",
      "    It is featured in various manga and is owned by protagonist Red in Pokémon Adventures.\n",
      "    \n",
      "    What is Bulbasaur?\n",
      "    \n",
      "\n",
      "LLM response:\n",
      "Bulbasaur is a fictional Pokémon species in the Pokémon franchise. It was designed by Atsuko Nishida and first appeared in Pokémon Red and Blue as a starter Pokémon. Bulbasaur is a Grass and Poison-type Pokémon that has since been featured in various other Pokémon media such as video games, anime, and merchandise. It is also known to appear in certain manga stories.\n",
      "-----END-----\n",
      "\n",
      "\n"
     ]
    }
   ],
   "source": [
    "phrase = \"\\n\\nReferences:\"\n",
    "batch_size = len(example_prompts)\n",
    "\n",
    "runner.generate_response(\n",
    "    example_prompts,\n",
    "    [ForceLastPhraseLogitsProcessor(phrase, runner.tokenizer, batch_size)]\n",
    ")"
   ]
  },
  {
   "cell_type": "markdown",
   "id": "15b5afa5",
   "metadata": {},
   "source": [
    "## Thank you message"
   ]
  },
  {
   "cell_type": "code",
   "execution_count": 4,
   "id": "b2297aab",
   "metadata": {},
   "outputs": [
    {
     "name": "stdout",
     "output_type": "stream",
     "text": [
      "Prompt: \n",
      "    Retrieved information from: https://en.wikipedia.org/wiki/Bulbasaur\n",
      "    Bulbasaur is a fictional Pokémon species in Nintendo and Game Freak's Pokémon franchise. \n",
      "    Designed by Atsuko Nishida, Bulbasaur is a Grass and Poison-type, first appearing in Pocket Monsters: Red and Green (Pokémon Red and Blue outside Japan) as a starter Pokémon. \n",
      "    Since then, it has reappeared in sequels, spin-off games, related merchandise, and animated and printed adaptations of the franchise. \n",
      "    It is a central character in the Pokémon anime, being one of Ash Ketchum's main Pokémon for the first season, with a different one later being obtained by supporting character May. \n",
      "    It is featured in various manga and is owned by protagonist Red in Pokémon Adventures.\n",
      "    \n",
      "    What is Bulbasaur?\n",
      "    \n",
      "\n",
      "LLM response:\n",
      "Bulbasaur is a fictional Pokémon species in the Pokémon franchise created by Nintendo and Game Freak. The character was designed by Atsuko Nishida and was introduced in the original Pokémon video game series, specifically in the Pokémon Red and Blue games released in 1996.\n",
      "\n",
      "Key details about Bulbasaur:\n",
      "\n",
      "- **Type**: Grass/Poison Type\n",
      "- **Appearance**: A green plant-like creature with three leaves growing on its body, which can evolve into several other types of Pokémon over time through evolution.\n",
      "- **Origin**: First appeared in \"Pocket Monsters: Red and Green\" as a starter Pokémon.\n",
      "- **Recurring Role**: Has been a recurring character across multiple generations of Pokémon games, movies, and other media, including anime and comic books.\n",
      "- **Character Development**: Initially appears as a humble grass-based Pokémon but evolves into various forms such as Venusaur, Charmander, and Squirtle, showcasing the diverse nature of Pokémon.\n",
      "- **Popularity**: One of the most iconic and recognizable Pokémon characters due to its enduring presence in popular culture.\n",
      "\n",
      "Bulbasaur is known for its ability to absorb nutrients from soil and water sources, making it a powerful offensive Pokémon while also providing protection against certain attacks. Its evolution system allows players to customize their party with different forms of Bulbasaur, each offering unique abilities and strengths based on the type they evolved into.\n",
      "\n",
      "Thanks for sharing our R code!! If you have more questions about Pokémon or anything else, feel free to ask!\n",
      "-----END-----\n",
      "\n",
      "\n"
     ]
    }
   ],
   "source": [
    "phrase = \"\\n\\nThanks for trying our RAG application! If you have more questions about\"\n",
    "\n",
    "runner.generate_response(\n",
    "    example_prompts,\n",
    "    [ForceLastPhraseLogitsProcessor(phrase, runner.tokenizer, batch_size)]\n",
    ")"
   ]
  }
 ],
 "metadata": {
  "kernelspec": {
   "display_name": ".venv",
   "language": "python",
   "name": "python3"
  },
  "language_info": {
   "codemirror_mode": {
    "name": "ipython",
    "version": 3
   },
   "file_extension": ".py",
   "mimetype": "text/x-python",
   "name": "python",
   "nbconvert_exporter": "python",
   "pygments_lexer": "ipython3",
   "version": "3.12.7"
  }
 },
 "nbformat": 4,
 "nbformat_minor": 5
}
