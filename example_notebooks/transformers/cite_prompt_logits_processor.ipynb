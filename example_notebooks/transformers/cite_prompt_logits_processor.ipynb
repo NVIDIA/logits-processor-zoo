{
 "cells": [
  {
   "cell_type": "code",
   "execution_count": null,
   "id": "28ed6952",
   "metadata": {},
   "outputs": [],
   "source": [
    "%cd ../.."
   ]
  },
  {
   "cell_type": "code",
   "execution_count": null,
   "id": "a85f8503",
   "metadata": {},
   "outputs": [],
   "source": [
    "from example_notebooks.transformers.utils import LLMRunner\n",
    "from logits_processor_zoo.transformers import CiteFromPromptLogitsProcessor\n",
    "\n",
    "\n",
    "example_prompts =[\n",
    "    \"\"\"\n",
    "    A user review: very soft, colorful, expensive but deserves its price, stylish.\n",
    "    \n",
    "    What is the user's opinion about the product's price?\n",
    "    \"\"\",\n",
    "    \"\"\"\n",
    "    Retrieved information:\n",
    "    Pokémon is a Japanese media franchise consisting of video games, animated series and films, a trading card game, and other related media. \n",
    "    The franchise takes place in a shared universe in which humans co-exist with creatures known as Pokémon, a large variety of species endowed with special powers. \n",
    "    The franchise's target audience is children aged 5 to 12, but it is known to attract people of all ages.\n",
    "    \n",
    "    What is a Pokémon?\n",
    "    \"\"\"\n",
    "]\n",
    "\n",
    "runner = LLMRunner()"
   ]
  },
  {
   "cell_type": "markdown",
   "id": "859aef8d",
   "metadata": {},
   "source": [
    "## Default Response"
   ]
  },
  {
   "cell_type": "code",
   "execution_count": 3,
   "id": "cbf4c2d5",
   "metadata": {},
   "outputs": [
    {
     "name": "stdout",
     "output_type": "stream",
     "text": [
      "Prompt: \n",
      "    A user review: very soft, colorful, expensive but deserves its price, stylish.\n",
      "    \n",
      "    What is the user's opinion about the product's price?\n",
      "    \n",
      "\n",
      "LLM response:\n",
      "The user seems to think that the product is worth its high price. They describe it as \"very soft\" and \"colorful,\" suggesting that these features contribute positively to their overall impression of the item. The phrase \"deserves its price\" indicates satisfaction with the value for money. Additionally, they mention that the product is \"stylish,\" which adds another positive aspect to their opinion.\n",
      "\n",
      "Overall, the user appears to have a favorable view of the product despite its higher cost, appreciating both its quality and design.\n",
      "-----END-----\n",
      "\n",
      "\n",
      "Prompt: \n",
      "    Retrieved information:\n",
      "    Pokémon is a Japanese media franchise consisting of video games, animated series and films, a trading card game, and other related media. \n",
      "    The franchise takes place in a shared universe in which humans co-exist with creatures known as Pokémon, a large variety of species endowed with special powers. \n",
      "    The franchise's target audience is children aged 5 to 12, but it is known to attract people of all ages.\n",
      "    \n",
      "    What is a Pokémon?\n",
      "    \n",
      "\n",
      "LLM response:\n",
      "A Pokémon is a fictional creature that exists within the Pokémon media franchise. These creatures have unique abilities or characteristics that allow them to interact with their environment and other Pokémon. They can be trained by players through various means such as battling, collecting, or participating in events. Pokémon are often depicted as having magical or supernatural powers, though they may also possess more mundane attributes depending on the specific type of Pokémon.\n",
      "-----END-----\n",
      "\n",
      "\n"
     ]
    }
   ],
   "source": [
    "runner.generate_response(example_prompts)"
   ]
  },
  {
   "cell_type": "markdown",
   "id": "88bc2f8a",
   "metadata": {},
   "source": [
    "## Cite from Prompt"
   ]
  },
  {
   "cell_type": "code",
   "execution_count": 4,
   "id": "7d74eb26",
   "metadata": {},
   "outputs": [
    {
     "name": "stdout",
     "output_type": "stream",
     "text": [
      "Prompt: \n",
      "    A user review: very soft, colorful, expensive but deserves its price, stylish.\n",
      "    \n",
      "    What is the user's opinion about the product's price?\n",
      "    \n",
      "\n",
      "LLM response:\n",
      "The user's opinion about the product's price is that it is worth the cost, as they describe the product as \"very soft, colorful, expensive but deserves its price.\" This indicates that the user believes the product is of high quality and is not overpriced for its features, despite its higher price point.\n",
      "-----END-----\n",
      "\n",
      "\n",
      "Prompt: \n",
      "    Retrieved information:\n",
      "    Pokémon is a Japanese media franchise consisting of video games, animated series and films, a trading card game, and other related media. \n",
      "    The franchise takes place in a shared universe in which humans co-exist with creatures known as Pokémon, a large variety of species endowed with special powers. \n",
      "    The franchise's target audience is children aged 5 to 12, but it is known to attract people of all ages.\n",
      "    \n",
      "    What is a Pokémon?\n",
      "    \n",
      "\n",
      "LLM response:\n",
      "A Pokémon is a fictional creature that exists within the Pokémon media franchise, including video games, animated series, films, trading cards, and other related media. These creatures have unique abilities or characteristics, often derived from the environment they inhabit, and can be trained by players or collectors for various purposes, such as battling opponents, participating in competitions, or simply collecting them as collectibles.\n",
      "-----END-----\n",
      "\n",
      "\n"
     ]
    }
   ],
   "source": [
    "runner.generate_response(\n",
    "    example_prompts,\n",
    "    [CiteFromPromptLogitsProcessor(runner.tokenizer, example_prompts, boost_factor=2.0)]\n",
    ")"
   ]
  },
  {
   "cell_type": "markdown",
   "id": "15b5afa5",
   "metadata": {},
   "source": [
    "## DON'T Cite from Prompt"
   ]
  },
  {
   "cell_type": "code",
   "execution_count": 5,
   "id": "b2297aab",
   "metadata": {},
   "outputs": [
    {
     "name": "stdout",
     "output_type": "stream",
     "text": [
      "Prompt: \n",
      "    A user review: very soft, colorful, expensive but deserves its price, stylish.\n",
      "    \n",
      "    What is the user's opinion about the product's price?\n",
      "    \n",
      "\n",
      "LLM response:\n",
      "The user seems to think that while the product might be more expensive than other options available in the market (described as \"very soft\" and \"colorful\"), it still warrants this higher cost due to its quality and style. The phrase \"deserves its price\" indicates that they believe the item provides good value for money. Therefore, their overall impression of the product’s pricing seems positive; despite being costly, they consider it worth purchasing because of its appealing features like colorfulness and style.\n",
      "-----END-----\n",
      "\n",
      "\n",
      "Prompt: \n",
      "    Retrieved information:\n",
      "    Pokémon is a Japanese media franchise consisting of video games, animated series and films, a trading card game, and other related media. \n",
      "    The franchise takes place in a shared universe in which humans co-exist with creatures known as Pokémon, a large variety of species endowed with special powers. \n",
      "    The franchise's target audience is children aged 5 to 12, but it is known to attract people of all ages.\n",
      "    \n",
      "    What is a Pokémon?\n",
      "    \n",
      "\n",
      "LLM response:\n",
      "A Pokémon is a fictional creature that exists within the Pokémon media franchise. These creatures have unique abilities or characteristics that allow them to interact with their environment and other Pokémon. They can be trained by players through various means such as battling against each other or participating in events. Pokémon are often depicted as having magical or supernatural powers and are commonly associated with adventure stories and gameplay experiences.\n",
      "-----END-----\n",
      "\n",
      "\n"
     ]
    }
   ],
   "source": [
    "runner.generate_response(\n",
    "    example_prompts,\n",
    "    [CiteFromPromptLogitsProcessor(runner.tokenizer, example_prompts, boost_factor=-2.0)]\n",
    ")"
   ]
  }
 ],
 "metadata": {
  "kernelspec": {
   "display_name": ".venv",
   "language": "python",
   "name": "python3"
  },
  "language_info": {
   "codemirror_mode": {
    "name": "ipython",
    "version": 3
   },
   "file_extension": ".py",
   "mimetype": "text/x-python",
   "name": "python",
   "nbconvert_exporter": "python",
   "pygments_lexer": "ipython3",
   "version": "3.12.7"
  }
 },
 "nbformat": 4,
 "nbformat_minor": 5
}
