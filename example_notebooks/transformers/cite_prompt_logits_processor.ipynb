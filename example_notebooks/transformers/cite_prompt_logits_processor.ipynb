{
 "cells": [
  {
   "cell_type": "code",
   "execution_count": null,
   "id": "28ed6952",
   "metadata": {},
   "outputs": [],
   "source": [
    "%cd ../.."
   ]
  },
  {
   "cell_type": "code",
   "execution_count": null,
   "id": "a85f8503",
   "metadata": {},
   "outputs": [],
   "source": [
    "from example_notebooks.transformers.utils import LLMRunner\n",
    "from logits_processor_zoo.transformers import CiteFromPromptLogitsProcessor\n",
    "\n",
    "\n",
    "example_prompts =[\n",
    "    \"\"\"\n",
    "    A user review: very soft, colorful, expensive but deserves its price, stylish.\n",
    "    \n",
    "    What is the user's opinion about the product's price?\n",
    "    \"\"\",\n",
    "    \"\"\"\n",
    "    Retrieved information:\n",
    "    Pokémon is a Japanese media franchise consisting of video games, animated series and films, a trading card game, and other related media. \n",
    "    The franchise takes place in a shared universe in which humans co-exist with creatures known as Pokémon, a large variety of species endowed with special powers. \n",
    "    The franchise's target audience is children aged 5 to 12, but it is known to attract people of all ages.\n",
    "    \n",
    "    What is a Pokémon?\n",
    "    \"\"\"\n",
    "]\n",
    "\n",
    "runner = LLMRunner()"
   ]
  },
  {
   "cell_type": "markdown",
   "id": "859aef8d",
   "metadata": {},
   "source": [
    "## Default Response"
   ]
  },
  {
   "cell_type": "code",
   "execution_count": 3,
   "id": "cbf4c2d5",
   "metadata": {},
   "outputs": [
    {
     "name": "stdout",
     "output_type": "stream",
     "text": [
      "Prompt: \n",
      "    A user review: very soft, colorful, expensive but deserves its price, stylish.\n",
      "    \n",
      "    What is the user's opinion about the product's price?\n",
      "    \n",
      "\n",
      "LLM response:\n",
      "The user's opinion about the product's price seems to be mixed but leans towards appreciation for the high cost relative to the quality and features of the item. The statement \"deserves its price\" suggests that the user believes the product is worth what it costs, implying satisfaction with both the value and perceived desirability of the product.\n",
      "-----END-----\n",
      "\n",
      "\n",
      "Prompt: \n",
      "    Retrieved information:\n",
      "    Pokémon is a Japanese media franchise consisting of video games, animated series and films, a trading card game, and other related media. \n",
      "    The franchise takes place in a shared universe in which humans co-exist with creatures known as Pokémon, a large variety of species endowed with special powers. \n",
      "    The franchise's target audience is children aged 5 to 12, but it is known to attract people of all ages.\n",
      "    \n",
      "    What is a Pokémon?\n",
      "    \n",
      "\n",
      "LLM response:\n",
      "A Pokémon is an imaginary creature found in the popular Japanese media franchise of the same name. In this world, humans live alongside various magical beings called Pokémon, who possess unique abilities and can be trained for battle or companionship. These Pokémon come in different types (e.g., Water, Fire, Psychic) and each has its own set of strengths and weaknesses. The franchise includes numerous games, anime series, movies, and merchandise aimed at both young children and adults.\n",
      "-----END-----\n",
      "\n",
      "\n"
     ]
    }
   ],
   "source": [
    "runner.generate_response(example_prompts)"
   ]
  },
  {
   "cell_type": "markdown",
   "id": "88bc2f8a",
   "metadata": {},
   "source": [
    "## Cite from Prompt"
   ]
  },
  {
   "cell_type": "code",
   "execution_count": 4,
   "id": "7d74eb26",
   "metadata": {},
   "outputs": [
    {
     "name": "stdout",
     "output_type": "stream",
     "text": [
      "Prompt: \n",
      "    A user review: very soft, colorful, expensive but deserves its price, stylish.\n",
      "    \n",
      "    What is the user's opinion about the product's price?\n",
      "    \n",
      "\n",
      "LLM response:\n",
      "The user's opinion about the product's price is that it is expensive, but the user believes the price is justified by the product's quality, softness, color, and stylish design, even though the price is expensive, the user is willing to pay for the product's value, soft, colorful, stylish, expensive but deserves its price, the user is satisfied with the product's price, the user is not very concerned about the price, the user is very price-conscious, the user is very price-sensitive, the user is very price-aware, the user is very price-conscious, the user is very price-sensitive, the user is very price-aware, the user is very price-obsessed, the user is very price-demanding, the user is very price-driven, the user is very price-oriented, the user is very price-focused, the user is very price-informed, the user is very price-educated, the user is very price-aware, the user is very price-conscious, the user is very price-sensitive, the user is very price-aware, the user is very price-conscious, the user is very price-sensitive, the user is very price-aware, the user is very price-conscious, the user is very price-sensitive, the user is very price-aware, the user is very price-conscious, the user is very price-sensitive, the user is very price-aware, the user is very price-conscious, the user is very price-sensitive, the user is very price-aware, the user is very price-conscious, the user is very price-sensitive, the user is very price-aware, the user is very price-conscious, the user is very price-sensitive, the user is very price-aware, the user is very price-conscious, the user is very price-sensitive, the user is very price-aware, the user is very price-conscious, the user is very price-sensitive, the user is very price-aware, the user is very price-conscious, the user is very price-sensitive, the user is very price-aware, the user is very price-conscious, the user is very price-sensitive, the user is very price-aware, the user is very price-conscious, the user is very price-sensitive, the user is very price-aware, the user is very price-conscious, the user is very price-sensitive, the user is very price-aware, the user is very price-conscious, the user is very price-sensitive, the user is very price-aware, the user is very price-conscious, the user is very price-sensitive, the user is very price-aware, the user is very price-conscious, the user is very price-sensitive, the user is very price-aware, the user is very price-conscious, the user is very price-sensitive, the user is very price-aware, the user is very price-conscious, the user is very price-sensitive, the user is very price-aware, the user is very price-conscious, the user is very price-sensitive, the user is very price-aware, the user is very price-conscious, the user is very price-sensitive, the user is very price-aware, the user is very price-conscious, the user is very price-sensitive, the user is very price-aware, the user is very price-conscious, the user is very price-sensitive, the user is very price-aware, the user is very price-conscious, the user is very price-sensitive, the user is very price-aware, the user is very price-conscious, the user is very price-sensitive, the user is very price-aware, the user is very price-conscious, the user is very price-sensitive, the user is very price-aware, the user is very price-conscious, the user is very price-sensitive, the user is very price-aware, the user is very price-conscious, the user is very price-sensitive, the user is very price-aware, the user is very price-conscious, the user is very price-sensitive, the user is very price-aware, the user is very price-conscious, the user is very price-sensitive, the user is very price-aware, the user is very price-conscious, the user is very price-sensitive, the user is very price-aware, the user is very price-conscious, the user is very price-sensitive, the user is very price-aware, the user is very price-conscious, the user is very price-sensitive, the user is very price-aware, the user is very price-conscious, the user is very price-sensitive, the user is very price-aware, the user is very price-conscious, the user is very price-sensitive, the user is very price-aware, the user is very price-conscious, the user is very price-sensitive, the user is very price-aware, the user is very price-conscious, the user is very price-sensitive, the user is very price-aware, the user is very price-conscious, the user is very price-sensitive, the user is very price-aware, the user is very price-conscious, the user is very price-sensitive, the user is very price-aware, the user is very price-conscious, the user is very\n",
      "-----END-----\n",
      "\n",
      "\n",
      "Prompt: \n",
      "    Retrieved information:\n",
      "    Pokémon is a Japanese media franchise consisting of video games, animated series and films, a trading card game, and other related media. \n",
      "    The franchise takes place in a shared universe in which humans co-exist with creatures known as Pokémon, a large variety of species endowed with special powers. \n",
      "    The franchise's target audience is children aged 5 to 12, but it is known to attract people of all ages.\n",
      "    \n",
      "    What is a Pokémon?\n",
      "    \n",
      "\n",
      "LLM response:\n",
      "A Pokémon is the main character, or the user, in the Pokémon franchise, who is the user, trainer, guardian, master, owner, user, user, user, user, user, user, user, user, user, user, user, user, user, user, user, user, user, user, user, user, user, user, user, user, user, user, user, user, user, user, user, user, user, user, user, user, user, user, user, user, user, user, user, user, user, user, user, user, user, user, user, user, user, user, user, user, user, user, user, user, user, user, user, user, user, user, user, user, user, user, user, user, user, user, user, user, user, user, user, user, user, user, user, user, user, user, user, user, user, user, user, user, user, user, user, user, user, user, user, user, user, user, user, user, user, user, user, user, user, user, user, user, user, user, user, user, user, user, user, user, user, user, user, user, user, user, user, user, user, user, user, user, user, user, user, user, user, user, user, user, user, user, user, user, user, user, user, user, user, user, user, user, user, user, user, user, user, user, user, user, user, user, user, user, user, user, user, user, user, user, user, user, user, user, user, user, user, user, user, user, user, user, user, user, user, user, user, user, user, user, user, user, user, user, user, user, user, user, user, user, user, user, user, user, user, user, user, user, user, user, user, user, user, user, user, user, user, user, user, user, user, user, user, user, user, user, user, user, user, user, user, user, user, user, user, user, user, user, user, user, user, user, user, user, user, user, user, user, user, user, user, user, user, user, user, user, user, user, user, user, user, user, user, user, user, user, user, user, user, user, user, user, user, user, user, user, user, user, user, user, user, user, user, user, user, user, user, user, user, user, user, user, user, user, user, user, user, user, user, user, user, user, user, user, user, user, user, user, user, user, user, user, user, user, user, user, user, user, user, user, user, user, user, user, user, user, user, user, user, user, user, user, user, user, user, user, user, user, user, user, user, user, user, user, user, user, user, user, user, user, user, user, user, user, user, user, user, user, user, user, user, user, user, user, user, user, user, user, user, user, user, user, user, user, user, user, user, user, user, user, user, user, user, user, user, user, user, user, user, user, user, user, user, user, user, user, user, user, user, user, user, user, user, user, user, user, user, user, user, user, user, user, user, user, user, user, user, user, user, user, user, user, user, user, user, user, user, user, user, user, user, user, user, user, user, user, user, user, user, user, user, user, user, user, user, user, user, user, user, user, user, user, user, user, user, user, user, user, user, user, user, user, user, user, user, user, user, user, user, user, user, user, user, user, user, user, user, user, user, user, user, user, user, user, user, user\n",
      "-----END-----\n",
      "\n",
      "\n"
     ]
    }
   ],
   "source": [
    "runner.generate_response(\n",
    "    example_prompts,\n",
    "    [CiteFromPromptLogitsProcessor(runner.tokenizer, example_prompts, boost_factor=5.0)]\n",
    ")"
   ]
  },
  {
   "cell_type": "markdown",
   "id": "15b5afa5",
   "metadata": {},
   "source": [
    "## DON'T Cite from Prompt"
   ]
  },
  {
   "cell_type": "code",
   "execution_count": null,
   "id": "b2297aab",
   "metadata": {},
   "outputs": [
    {
     "name": "stdout",
     "output_type": "stream",
     "text": [
      "Prompt: \n",
      "    A user review: very soft, colorful, expensive but deserves its price, stylish.\n",
      "    \n",
      "    What is the user's opinion about the product's price?\n",
      "    \n",
      "\n",
      "LLM response:\n",
      "The reviewer seems to think that while some aspects of their purchase (such as cost) may be negative or disappointing (\"very soft\", \"expensive\"), there are positive qualities they appreciate (\"colorful\", \"stylish\"). They believe that despite being more costly than other options on offer (\"deserves [its] price\"), it still offers value and worth for money by providing attractive colors and style. Therefore, overall they view it positively despite not liking all features equally. \n",
      "\n",
      "In summary:\n",
      "- The reviewer finds value in this item despite higher prices compared to alternatives (\"deserves [its] price\").\n",
      "- They like how it looks and feels (\"colorful\", \"stylish\").\n",
      "- However, they do mention that it has shortcomings regarding comfort (\"very soft\").\n",
      "\n",
      "This indicates a mixed sentiment with an emphasis on appreciation for design over quality of materials. The reviewer believes it compensates for lower durability through aesthetic appeal and style. Overall impression leans towards favoring aesthetics and fashion-forwardness over practicality or affordability.\n",
      "-----END-----\n",
      "\n",
      "\n",
      "Prompt: \n",
      "    Retrieved information:\n",
      "    Pokémon is a Japanese media franchise consisting of video games, animated series and films, a trading card game, and other related media. \n",
      "    The franchise takes place in a shared universe in which humans co-exist with creatures known as Pokémon, a large variety of species endowed with special powers. \n",
      "    The franchise's target audience is children aged 5 to 12, but it is known to attract people of all ages.\n",
      "    \n",
      "    What is a Pokémon?\n",
      "    \n",
      "\n",
      "LLM response:\n",
      "A Pokémon (Japanese: ポケモン Pokémon) refers to any one of several fictional creatures that appear in various forms within the Pokémon franchise. These creatures come from different regions across a vast world called \"Kanto,\" \"Johto,\" \"Hoenn,\" \"Sinnoh,\" \"Unova,\" and \"Kalos.\" Each region has unique landscapes and features.\n",
      "\n",
      "Pokémon can be classified into three main types based on their abilities:\n",
      "\n",
      "1. **Normal**: Characters like Pikachu and Squirtle belong to this type. They have no special attributes or weaknesses compared to others.\n",
      "\n",
      "2. **Fire**: Creatures such as Charmander and Charmeleon are Fire-type Pokémon. They have a special ability to burn enemies.\n",
      "\n",
      "3. **Water**: Pokémon like Ivysaur and Venusaur specialize in Water-type attacks. They have an affinity for water-based attacks and resist fire-type moves.\n",
      "\n",
      "4. **Electric**: Pokémon including Bulbasaur and Squirtle use Electric-type moves. Their weakness lies against Ground-type opponents.\n",
      "\n",
      "5. **Grass**: Grass-types include Caterpie and Weedle. They're vulnerable to Fire-type attacks and have resistance to Bug-type moves.\n",
      "\n",
      "6. **Ice**: Ice-types like Glalie and Snorlax utilize these moves. They are weak to Fire-type attacks and resistant to Fighting-type moves.\n",
      "\n",
      "7. **Fighting**: Pokémon specializing in Fighting-type moves include Gyarados and Dragonite. They have resistance to Psychic-type attacks and are weak to Fairy-type moves.\n",
      "\n",
      "8. **Psychic**: Pokémon like Mewtwo and Celebi fall under Psychic-type. They are vulnerable to Dark-type attacks and immune to Ghost-type moves.\n",
      "\n",
      "9. **Bug**: Bug-types like Lillipup and Chikorita possess skills that make them effective against Poison and Rock-type foes.\n",
      "\n",
      "10. **Dark**: Pokémon such as Misdreavus and Zeraora belong to Dark-type. They are strong against Fairy-type attacks and weak to Light typing.\n",
      "\n",
      "11. **Dragon**: Dragons like Dragonite and Dratini are Dragon-type Pokémon. They are weak to Steel-type moves and immune to Water-type attacks.\n",
      "\n",
      "12. **Ghost**: Pokémon including Nidoran♀ and Nidorino are Ghost-type characters. They are weak to Normal-type attacks and immune to Flying-type moves.\n",
      "\n",
      "13. **Steel**: Steel-types like Steelix and Starmie feature powerful moves that are not affected by many common types.\n",
      "\n",
      "14. **Fairy**: Fairy-types include Articuno and Zapdos. They are immune to Earth-type moves and weak to Fighting-type attacks.\n",
      "\n",
      "In summary, Pokémon are magical beings who live alongside humans in a diverse environment. Each Pokémon comes with distinct abilities that allow it to battle and interact with other creatures. The Pokémon franchise offers fans a range of adventures through various stories and battles among these magical creatures. \n",
      "\n",
      "These creatures have become part of popular culture worldwide and continue to captivate audiences with their unique traits and personalities. The franchise also includes trainers who embark on quests to capture these Pokémon and compete in contests to prove their prowess. This engaging narrative structure attracts players of all ages to explore new territories and face challenges in battling against these mystical entities. \n",
      "\n",
      "The Pokémon franchise encompasses more than just battling; it explores themes of friendship, growth through adversity, and environmental conservation. It’s a captivating blend of fantasy and practical gaming mechanics that has made it a beloved genre across generations. As a result of these factors and others like them—such as fan art and merchandise—the Pokémon franchise remains vibrant and relevant today. The franchise continues to evolve while maintaining core elements that resonate with both young and adult audiences alike. Its enduring appeal stems from a combination of imaginative storytelling and accessible gameplay mechanics. Therefore, understanding what a Pokémon entails involves appreciating their multifaceted nature as both fantastical entities and strategic adversaries within a dynamic gaming experience. Whether you’re a casual player or a dedicated enthusiast exploring every corner of this vast universe filled with magic and mystery—each Pokémon holds significance beyond mere combatants—it stands as a testament to creativity and imagination at work in entertainment. \n",
      "\n",
      "As mentioned earlier in our discussion regarding Pokémon being categorized into different types based on their strengths and weaknesses—be it Fire-type Pokémon vs. Ground-type Pokémon or Bug-type Pokémon vs. Dark-type Pokémon—they play crucial roles in shaping encounters and strategies during battles. Additionally, each type influences how certain moves function and affects opposing Pokémon. For example:\n",
      "\n",
      "- **Fire** Pokémon often rely on heat-based moves like Flamethrower and Ember to deal damage effectively. Opponents facing a Fire-type move might need to counter with something like Water-type moves to avoid taking too much damage.\n",
      "\n",
      "- **Water** Pokémon excel with liquid-based attacks such as Aqua Jet and Hydro Pump. Defending against a Water-type attack requires knowledge of Water-type defenses and moves that can neutralize or mitigate those effects.\n",
      "\n",
      "- **Electric** Pokémon benefit greatly from lightning-based attacks like Thunder\n",
      "-----END-----\n",
      "\n",
      "\n"
     ]
    }
   ],
   "source": [
    "runner.generate_response(\n",
    "    example_prompts,\n",
    "    [CiteFromPromptLogitsProcessor(runner.tokenizer, example_prompts, boost_factor=-5.0)]\n",
    ")"
   ]
  }
 ],
 "metadata": {
  "kernelspec": {
   "display_name": ".venv",
   "language": "python",
   "name": "python3"
  },
  "language_info": {
   "codemirror_mode": {
    "name": "ipython",
    "version": 3
   },
   "file_extension": ".py",
   "mimetype": "text/x-python",
   "name": "python",
   "nbconvert_exporter": "python",
   "pygments_lexer": "ipython3",
   "version": "3.12.7"
  }
 },
 "nbformat": 4,
 "nbformat_minor": 5
}
