{
 "cells": [
  {
   "cell_type": "code",
   "execution_count": 1,
   "id": "28ed6952",
   "metadata": {},
   "outputs": [
    {
     "name": "stdout",
     "output_type": "stream",
     "text": [
      "/home/aerdem/projects/logits-processor-zoo\n"
     ]
    }
   ],
   "source": [
    "%cd ../.."
   ]
  },
  {
   "cell_type": "code",
   "execution_count": 2,
   "id": "a85f8503",
   "metadata": {},
   "outputs": [
    {
     "data": {
      "application/vnd.jupyter.widget-view+json": {
       "model_id": "ccc2c897273a437db58b0fb5a90820eb",
       "version_major": 2,
       "version_minor": 0
      },
      "text/plain": [
       "Loading checkpoint shards:   0%|          | 0/2 [00:00<?, ?it/s]"
      ]
     },
     "metadata": {},
     "output_type": "display_data"
    }
   ],
   "source": [
    "from example_notebooks.transformers.utils import LLMRunner\n",
    "from logits_processor_zoo.transformers import CiteFromPromptLogitsProcessor\n",
    "\n",
    "\n",
    "example_prompts =[\n",
    "    \"\"\"\n",
    "    A user review: very soft, colorful, expensive but deserves its price, stylish.\n",
    "    \n",
    "    What is the user's opinion about the product's price?\n",
    "    \"\"\",\n",
    "    \"\"\"\n",
    "    Retrieved information:\n",
    "    Pokémon is a Japanese media franchise consisting of video games, animated series and films, a trading card game, and other related media. \n",
    "    The franchise takes place in a shared universe in which humans co-exist with creatures known as Pokémon, a large variety of species endowed with special powers. \n",
    "    The franchise's target audience is children aged 5 to 12, but it is known to attract people of all ages.\n",
    "    \n",
    "    What is a Pokémon?\n",
    "    \"\"\"\n",
    "]\n",
    "\n",
    "runner = LLMRunner()"
   ]
  },
  {
   "cell_type": "markdown",
   "id": "859aef8d",
   "metadata": {},
   "source": [
    "## Default Response"
   ]
  },
  {
   "cell_type": "code",
   "execution_count": 3,
   "id": "cbf4c2d5",
   "metadata": {},
   "outputs": [
    {
     "name": "stdout",
     "output_type": "stream",
     "text": [
      "Prompt: \n",
      "    A user review: very soft, colorful, expensive but deserves its price, stylish.\n",
      "    \n",
      "    What is the user's opinion about the product's price?\n",
      "    \n",
      "    Answer:\n",
      "    \n",
      "\n",
      "LLM response:\n",
      "The user expresses that the product is expensive but justifies its price due to its stylish design and quality materials.\n",
      "-----END-----\n",
      "\n",
      "\n",
      "Prompt: \n",
      "    Retrieved information:\n",
      "    Pokémon is a Japanese media franchise consisting of video games, animated series and films, a trading card game, and other related media. \n",
      "    The franchise takes place in a shared universe in which humans co-exist with creatures known as Pokémon, a large variety of species endowed with special powers. \n",
      "    The franchise's target audience is children aged 5 to 12, but it is known to attract people of all ages.\n",
      "    \n",
      "    What is a Pokémon?\n",
      "    \n",
      "    Answer:\n",
      "    \n",
      "\n",
      "LLM response:\n",
      "A Pokémon is a large variety of species endowed with special powers that inhabit the shared universe in which humans co-exist with creatures known as Pokémon.\n",
      "-----END-----\n",
      "\n",
      "\n"
     ]
    }
   ],
   "source": [
    "runner.generate_response(example_prompts)"
   ]
  },
  {
   "cell_type": "markdown",
   "id": "88bc2f8a",
   "metadata": {},
   "source": [
    "## Cite from Prompt"
   ]
  },
  {
   "cell_type": "code",
   "execution_count": 4,
   "id": "7d74eb26",
   "metadata": {},
   "outputs": [
    {
     "name": "stdout",
     "output_type": "stream",
     "text": [
      "Prompt: \n",
      "    A user review: very soft, colorful, expensive but deserves its price, stylish.\n",
      "    \n",
      "    What is the user's opinion about the product's price?\n",
      "    \n",
      "    Answer:\n",
      "    \n",
      "\n",
      "LLM response:\n",
      "The user is opinionated about the product's price. They believe it is expensive but deserves its price, stylish.\n",
      "-----END-----\n",
      "\n",
      "\n",
      "Prompt: \n",
      "    Retrieved information:\n",
      "    Pokémon is a Japanese media franchise consisting of video games, animated series and films, a trading card game, and other related media. \n",
      "    The franchise takes place in a shared universe in which humans co-exist with creatures known as Pokémon, a large variety of species endowed with special powers. \n",
      "    The franchise's target audience is children aged 5 to 12, but it is known to attract people of all ages.\n",
      "    \n",
      "    What is a Pokémon?\n",
      "    \n",
      "    Answer:\n",
      "    \n",
      "\n",
      "LLM response:\n",
      "A Pokémon is a large variety of species endowed with special powers, which co-exist with humans in a shared universe.\n",
      "-----END-----\n",
      "\n",
      "\n"
     ]
    }
   ],
   "source": [
    "runner.generate_response(example_prompts,\n",
    "                  [CiteFromPromptLogitsProcessor(runner.tokenizer, example_prompts, boost_factor=5.0)])"
   ]
  },
  {
   "cell_type": "markdown",
   "id": "15b5afa5",
   "metadata": {},
   "source": [
    "## DON'T Cite from Prompt"
   ]
  },
  {
   "cell_type": "code",
   "execution_count": 5,
   "id": "b2297aab",
   "metadata": {},
   "outputs": [
    {
     "name": "stdout",
     "output_type": "stream",
     "text": [
      "Prompt: \n",
      "    A user review: very soft, colorful, expensive but deserves its price, stylish.\n",
      "    \n",
      "    What is the user's opinion about the product's price?\n",
      "    \n",
      "    Answer:\n",
      "    \n",
      "\n",
      "LLM response:\n",
      "The user expresses that they believe the product is worth their money due to its quality and style. They acknowledge that it is on the higher end of pricing, but they believe it justifies the quality and design they experience.\n",
      "-----END-----\n",
      "\n",
      "\n",
      "Prompt: \n",
      "    Retrieved information:\n",
      "    Pokémon is a Japanese media franchise consisting of video games, animated series and films, a trading card game, and other related media. \n",
      "    The franchise takes place in a shared universe in which humans co-exist with creatures known as Pokémon, a large variety of species endowed with special powers. \n",
      "    The franchise's target audience is children aged 5 to 12, but it is known to attract people of all ages.\n",
      "    \n",
      "    What is a Pokémon?\n",
      "    \n",
      "    Answer:\n",
      "    \n",
      "\n",
      "LLM response:\n",
      "A Pokémon is a creature from the Pokémon franchise that possesses special powers.\n",
      "-----END-----\n",
      "\n",
      "\n"
     ]
    }
   ],
   "source": [
    "runner.generate_response(example_prompts,\n",
    "                  [CiteFromPromptLogitsProcessor(runner.tokenizer, example_prompts, boost_factor=-5.0)])"
   ]
  },
  {
   "cell_type": "code",
   "execution_count": null,
   "id": "afeeef2c",
   "metadata": {},
   "outputs": [],
   "source": []
  }
 ],
 "metadata": {
  "kernelspec": {
   "display_name": "Python 3 (ipykernel)",
   "language": "python",
   "name": "python3"
  },
  "language_info": {
   "codemirror_mode": {
    "name": "ipython",
    "version": 3
   },
   "file_extension": ".py",
   "mimetype": "text/x-python",
   "name": "python",
   "nbconvert_exporter": "python",
   "pygments_lexer": "ipython3",
   "version": "3.10.13"
  }
 },
 "nbformat": 4,
 "nbformat_minor": 5
}
