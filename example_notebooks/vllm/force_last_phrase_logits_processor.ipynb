{
 "cells": [
  {
   "cell_type": "code",
   "execution_count": 1,
   "id": "28ed6952",
   "metadata": {},
   "outputs": [
    {
     "name": "stdout",
     "output_type": "stream",
     "text": [
      "/home/aerdem/projects/nvidia/logits-processor-zoo\n"
     ]
    }
   ],
   "source": [
    "%cd ../.."
   ]
  },
  {
   "cell_type": "code",
   "execution_count": 2,
   "id": "b89279fe",
   "metadata": {},
   "outputs": [
    {
     "name": "stdout",
     "output_type": "stream",
     "text": [
      "WARNING 03-18 13:40:54 cuda.py:22] You are using a deprecated `pynvml` package. Please install `nvidia-ml-py` instead. See https://pypi.org/project/pynvml for more information.\n",
      "WARNING 03-18 13:40:58 config.py:1563] Casting torch.bfloat16 to torch.float16.\n",
      "INFO 03-18 13:40:58 llm_engine.py:184] Initializing an LLM engine (v0.5.5) with config: model='google/gemma-1.1-2b-it', speculative_config=None, tokenizer='google/gemma-1.1-2b-it', skip_tokenizer_init=False, tokenizer_mode=auto, revision=None, rope_scaling=None, rope_theta=None, tokenizer_revision=None, trust_remote_code=True, dtype=torch.float16, max_seq_len=8192, download_dir=None, load_format=LoadFormat.AUTO, tensor_parallel_size=1, pipeline_parallel_size=1, disable_custom_all_reduce=False, quantization=None, enforce_eager=True, kv_cache_dtype=auto, quantization_param_path=None, device_config=cuda, decoding_config=DecodingConfig(guided_decoding_backend='outlines'), observability_config=ObservabilityConfig(otlp_traces_endpoint=None, collect_model_forward_time=False, collect_model_execute_time=False), seed=0, served_model_name=google/gemma-1.1-2b-it, use_v2_block_manager=False, enable_prefix_caching=False)\n",
      "INFO 03-18 13:40:59 model_runner.py:879] Starting to load model google/gemma-1.1-2b-it...\n",
      "INFO 03-18 13:41:00 weight_utils.py:236] Using model weights format ['*.safetensors']\n"
     ]
    },
    {
     "data": {
      "application/vnd.jupyter.widget-view+json": {
       "model_id": "ebad9294acfd4e15aa9272a1aac448df",
       "version_major": 2,
       "version_minor": 0
      },
      "text/plain": [
       "Loading safetensors checkpoint shards:   0% Completed | 0/2 [00:00<?, ?it/s]\n"
      ]
     },
     "metadata": {},
     "output_type": "display_data"
    },
    {
     "name": "stdout",
     "output_type": "stream",
     "text": [
      "INFO 03-18 13:41:02 model_runner.py:890] Loading model weights took 4.6720 GB\n",
      "INFO 03-18 13:41:05 gpu_executor.py:121] # GPU blocks: 49742, # CPU blocks: 14563\n"
     ]
    }
   ],
   "source": [
    "from example_notebooks.vllm.utils import vLLMRunner\n",
    "from logits_processor_zoo.vllm import ForceLastPhraseLogitsProcessor\n",
    "\n",
    "\n",
    "example_prompts = [\n",
    "    \"\"\"\n",
    "    Retrieved information from: https://en.wikipedia.org/wiki/Bulbasaur\n",
    "    Bulbasaur is a fictional Pokémon species in Nintendo and Game Freak's Pokémon franchise. \n",
    "    Designed by Atsuko Nishida, Bulbasaur is a Grass and Poison-type, first appearing in Pocket Monsters: Red and Green (Pokémon Red and Blue outside Japan) as a starter Pokémon. \n",
    "    Since then, it has reappeared in sequels, spin-off games, related merchandise, and animated and printed adaptations of the franchise. \n",
    "    It is a central character in the Pokémon anime, being one of Ash Ketchum's main Pokémon for the first season, with a different one later being obtained by supporting character May. \n",
    "    It is featured in various manga and is owned by protagonist Red in Pokémon Adventures.\n",
    "    \n",
    "    What is Bulbasaur?\n",
    "    \"\"\",\n",
    "]\n",
    "\n",
    "runner = vLLMRunner()"
   ]
  },
  {
   "cell_type": "markdown",
   "id": "859aef8d",
   "metadata": {},
   "source": [
    "## Default Response"
   ]
  },
  {
   "cell_type": "code",
   "execution_count": 3,
   "id": "cbf4c2d5",
   "metadata": {},
   "outputs": [
    {
     "name": "stdout",
     "output_type": "stream",
     "text": [
      "Prompt: \n",
      "    Retrieved information from: https://en.wikipedia.org/wiki/Bulbasaur\n",
      "    Bulbasaur is a fictional Pokémon species in Nintendo and Game Freak's Pokémon franchise. \n",
      "    Designed by Atsuko Nishida, Bulbasaur is a Grass and Poison-type, first appearing in Pocket Monsters: Red and Green (Pokémon Red and Blue outside Japan) as a starter Pokémon. \n",
      "    Since then, it has reappeared in sequels, spin-off games, related merchandise, and animated and printed adaptations of the franchise. \n",
      "    It is a central character in the Pokémon anime, being one of Ash Ketchum's main Pokémon for the first season, with a different one later being obtained by supporting character May. \n",
      "    It is featured in various manga and is owned by protagonist Red in Pokémon Adventures.\n",
      "    \n",
      "    What is Bulbasaur?\n",
      "    \n",
      "Bulbasaur is a fictional Pokémon species that is a Grass and Poison-type.\n",
      "-----END-----\n",
      "\n"
     ]
    }
   ],
   "source": [
    "runner.generate_response(example_prompts)"
   ]
  },
  {
   "cell_type": "markdown",
   "id": "88bc2f8a",
   "metadata": {},
   "source": [
    "## Provide references"
   ]
  },
  {
   "cell_type": "code",
   "execution_count": 4,
   "id": "7d74eb26",
   "metadata": {},
   "outputs": [
    {
     "name": "stdout",
     "output_type": "stream",
     "text": [
      "Prompt: \n",
      "    Retrieved information from: https://en.wikipedia.org/wiki/Bulbasaur\n",
      "    Bulbasaur is a fictional Pokémon species in Nintendo and Game Freak's Pokémon franchise. \n",
      "    Designed by Atsuko Nishida, Bulbasaur is a Grass and Poison-type, first appearing in Pocket Monsters: Red and Green (Pokémon Red and Blue outside Japan) as a starter Pokémon. \n",
      "    Since then, it has reappeared in sequels, spin-off games, related merchandise, and animated and printed adaptations of the franchise. \n",
      "    It is a central character in the Pokémon anime, being one of Ash Ketchum's main Pokémon for the first season, with a different one later being obtained by supporting character May. \n",
      "    It is featured in various manga and is owned by protagonist Red in Pokémon Adventures.\n",
      "    \n",
      "    What is Bulbasaur?\n",
      "    \n",
      "Bulbasaur is a fictional Pokémon species that is a Grass and Poison-type.\n",
      "\n",
      "References:\n",
      "- Wikipedia article on Bulbasaur\n",
      "- The provided text from the Wikipedia article\n",
      "-----END-----\n",
      "\n"
     ]
    }
   ],
   "source": [
    "reference = ForceLastPhraseLogitsProcessor(\"\\n\\nReferences:\", runner.tokenizer)\n",
    "\n",
    "runner.generate_response(example_prompts,\n",
    "                         [reference])"
   ]
  },
  {
   "cell_type": "markdown",
   "id": "b69f3b52",
   "metadata": {},
   "source": [
    "## Thank you message"
   ]
  },
  {
   "cell_type": "code",
   "execution_count": 5,
   "id": "40bfa98f",
   "metadata": {},
   "outputs": [
    {
     "name": "stdout",
     "output_type": "stream",
     "text": [
      "Prompt: \n",
      "    Retrieved information from: https://en.wikipedia.org/wiki/Bulbasaur\n",
      "    Bulbasaur is a fictional Pokémon species in Nintendo and Game Freak's Pokémon franchise. \n",
      "    Designed by Atsuko Nishida, Bulbasaur is a Grass and Poison-type, first appearing in Pocket Monsters: Red and Green (Pokémon Red and Blue outside Japan) as a starter Pokémon. \n",
      "    Since then, it has reappeared in sequels, spin-off games, related merchandise, and animated and printed adaptations of the franchise. \n",
      "    It is a central character in the Pokémon anime, being one of Ash Ketchum's main Pokémon for the first season, with a different one later being obtained by supporting character May. \n",
      "    It is featured in various manga and is owned by protagonist Red in Pokémon Adventures.\n",
      "    \n",
      "    What is Bulbasaur?\n",
      "    \n",
      "Bulbasaur is a fictional Pokémon species that is a Grass and Poison-type.\n",
      "\n",
      "Thanks for trying our RAG application! If you have more questions about Bulbasaur or anything else, please let me know.\n",
      "-----END-----\n",
      "\n"
     ]
    }
   ],
   "source": [
    "thank = ForceLastPhraseLogitsProcessor(\"\\n\\nThanks for trying our RAG application! If you have more questions about\",\n",
    "                                       runner.tokenizer)\n",
    "\n",
    "runner.generate_response(example_prompts,\n",
    "                         [thank])"
   ]
  },
  {
   "cell_type": "markdown",
   "id": "34735f41",
   "metadata": {},
   "source": [
    "## Both"
   ]
  },
  {
   "cell_type": "code",
   "execution_count": 6,
   "id": "88032bf3",
   "metadata": {},
   "outputs": [
    {
     "name": "stdout",
     "output_type": "stream",
     "text": [
      "Prompt: \n",
      "    Retrieved information from: https://en.wikipedia.org/wiki/Bulbasaur\n",
      "    Bulbasaur is a fictional Pokémon species in Nintendo and Game Freak's Pokémon franchise. \n",
      "    Designed by Atsuko Nishida, Bulbasaur is a Grass and Poison-type, first appearing in Pocket Monsters: Red and Green (Pokémon Red and Blue outside Japan) as a starter Pokémon. \n",
      "    Since then, it has reappeared in sequels, spin-off games, related merchandise, and animated and printed adaptations of the franchise. \n",
      "    It is a central character in the Pokémon anime, being one of Ash Ketchum's main Pokémon for the first season, with a different one later being obtained by supporting character May. \n",
      "    It is featured in various manga and is owned by protagonist Red in Pokémon Adventures.\n",
      "    \n",
      "    What is Bulbasaur?\n",
      "    \n",
      "Bulbasaur is a fictional Pokémon species that is a Grass and Poison-type.\n",
      "\n",
      "Thanks for trying our RAG application! If you have more questions about Bulbasaur or anything else, please let me know.\n",
      "\n",
      "References:\n",
      "\n",
      "* Wikipedia: Bulbasaur\n",
      "* Pokémon franchise website\n",
      "-----END-----\n",
      "\n"
     ]
    }
   ],
   "source": [
    "runner.generate_response(example_prompts,\n",
    "                         [thank, reference])"
   ]
  }
 ],
 "metadata": {
  "kernelspec": {
   "display_name": "Python 3 (ipykernel)",
   "language": "python",
   "name": "python3"
  },
  "language_info": {
   "codemirror_mode": {
    "name": "ipython",
    "version": 3
   },
   "file_extension": ".py",
   "mimetype": "text/x-python",
   "name": "python",
   "nbconvert_exporter": "python",
   "pygments_lexer": "ipython3",
   "version": "3.10.13"
  }
 },
 "nbformat": 4,
 "nbformat_minor": 5
}
