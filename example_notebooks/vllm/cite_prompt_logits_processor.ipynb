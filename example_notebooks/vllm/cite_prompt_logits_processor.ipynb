{
 "cells": [
  {
   "cell_type": "code",
   "execution_count": 1,
   "id": "28ed6952",
   "metadata": {},
   "outputs": [
    {
     "name": "stdout",
     "output_type": "stream",
     "text": [
      "/home/aerdem/projects/nvidia/logits-processor-zoo\n"
     ]
    }
   ],
   "source": [
    "%cd ../.."
   ]
  },
  {
   "cell_type": "code",
   "execution_count": 2,
   "id": "b89279fe",
   "metadata": {},
   "outputs": [
    {
     "name": "stdout",
     "output_type": "stream",
     "text": [
      "WARNING 04-29 15:38:10 cuda.py:22] You are using a deprecated `pynvml` package. Please install `nvidia-ml-py` instead. See https://pypi.org/project/pynvml for more information.\n"
     ]
    },
    {
     "name": "stderr",
     "output_type": "stream",
     "text": [
      "/home/aerdem/projects/LLM/llmenv/lib/python3.10/site-packages/huggingface_hub/file_download.py:1132: FutureWarning: `resume_download` is deprecated and will be removed in version 1.0.0. Downloads always resume when possible. If you want to force a new download, use `force_download=True`.\n",
      "  warnings.warn(\n"
     ]
    },
    {
     "name": "stdout",
     "output_type": "stream",
     "text": [
      "WARNING 04-29 15:38:13 config.py:1563] Casting torch.bfloat16 to torch.float16.\n",
      "INFO 04-29 15:38:13 llm_engine.py:184] Initializing an LLM engine (v0.5.5) with config: model='Qwen/Qwen2.5-1.5B-Instruct', speculative_config=None, tokenizer='Qwen/Qwen2.5-1.5B-Instruct', skip_tokenizer_init=False, tokenizer_mode=auto, revision=None, rope_scaling=None, rope_theta=None, tokenizer_revision=None, trust_remote_code=True, dtype=torch.float16, max_seq_len=32768, download_dir=None, load_format=LoadFormat.AUTO, tensor_parallel_size=1, pipeline_parallel_size=1, disable_custom_all_reduce=False, quantization=None, enforce_eager=True, kv_cache_dtype=auto, quantization_param_path=None, device_config=cuda, decoding_config=DecodingConfig(guided_decoding_backend='outlines'), observability_config=ObservabilityConfig(otlp_traces_endpoint=None, collect_model_forward_time=False, collect_model_execute_time=False), seed=0, served_model_name=Qwen/Qwen2.5-1.5B-Instruct, use_v2_block_manager=False, enable_prefix_caching=False)\n"
     ]
    },
    {
     "name": "stderr",
     "output_type": "stream",
     "text": [
      "Special tokens have been added in the vocabulary, make sure the associated word embeddings are fine-tuned or trained.\n"
     ]
    },
    {
     "name": "stdout",
     "output_type": "stream",
     "text": [
      "INFO 04-29 15:38:14 model_runner.py:879] Starting to load model Qwen/Qwen2.5-1.5B-Instruct...\n",
      "INFO 04-29 15:38:15 weight_utils.py:236] Using model weights format ['*.safetensors']\n",
      "INFO 04-29 15:38:15 weight_utils.py:280] No model.safetensors.index.json found in remote.\n"
     ]
    },
    {
     "data": {
      "application/vnd.jupyter.widget-view+json": {
       "model_id": "ec8e95e203c148d4b882e5a21f8d6134",
       "version_major": 2,
       "version_minor": 0
      },
      "text/plain": [
       "Loading safetensors checkpoint shards:   0% Completed | 0/1 [00:00<?, ?it/s]\n"
      ]
     },
     "metadata": {},
     "output_type": "display_data"
    },
    {
     "name": "stdout",
     "output_type": "stream",
     "text": [
      "INFO 04-29 15:38:16 model_runner.py:890] Loading model weights took 2.8875 GB\n",
      "INFO 04-29 15:38:18 gpu_executor.py:121] # GPU blocks: 37605, # CPU blocks: 9362\n"
     ]
    }
   ],
   "source": [
    "from example_notebooks.vllm.utils import vLLMRunner\n",
    "from logits_processor_zoo.vllm import CiteFromPromptLogitsProcessor\n",
    "\n",
    "\n",
    "example_prompts =[\n",
    "    \"\"\"\n",
    "    A user review: very soft, colorful, expensive but deserves its price, stylish.\n",
    "    \n",
    "    What is the user's opinion about the product's price?\n",
    "    \"\"\",\n",
    "    \"\"\"\n",
    "    Retrieved information:\n",
    "    Pokémon is a Japanese media franchise consisting of video games, animated series and films, a trading card game, and other related media. \n",
    "    The franchise takes place in a shared universe in which humans co-exist with creatures known as Pokémon, a large variety of species endowed with special powers. \n",
    "    The franchise's target audience is children aged 5 to 12, but it is known to attract people of all ages.\n",
    "    \n",
    "    Based on the retrieved information, what is a Pokémon?\n",
    "    \"\"\"\n",
    "]\n",
    "\n",
    "runner = vLLMRunner()"
   ]
  },
  {
   "cell_type": "markdown",
   "id": "859aef8d",
   "metadata": {},
   "source": [
    "## Default Response"
   ]
  },
  {
   "cell_type": "code",
   "execution_count": 3,
   "id": "cbf4c2d5",
   "metadata": {},
   "outputs": [
    {
     "name": "stdout",
     "output_type": "stream",
     "text": [
      "Prompt: \n",
      "    A user review: very soft, colorful, expensive but deserves its price, stylish.\n",
      "    \n",
      "    What is the user's opinion about the product's price?\n",
      "    \n",
      "The user's opinion about the product's price is that it is expensive, but they believe it is worth the price due to its softness, colorfulness, and stylish design.\n",
      "-----END-----\n",
      "\n",
      "Prompt: \n",
      "    Retrieved information:\n",
      "    Pokémon is a Japanese media franchise consisting of video games, animated series and films, a trading card game, and other related media. \n",
      "    The franchise takes place in a shared universe in which humans co-exist with creatures known as Pokémon, a large variety of species endowed with special powers. \n",
      "    The franchise's target audience is children aged 5 to 12, but it is known to attract people of all ages.\n",
      "    \n",
      "    Based on the retrieved information, what is a Pokémon?\n",
      "    \n",
      "A Pokémon is a fictional creature in the Pokémon franchise, which is a Japanese media franchise consisting of video games, animated series, films, a trading card game, and other related media. The franchise takes place in a shared universe where humans coexist with Pokémon, a large variety of species endowed with special powers. The target audience for the franchise is children aged 5 to 12, but it is known to attract people of all ages.\n",
      "-----END-----\n",
      "\n"
     ]
    }
   ],
   "source": [
    "runner.generate_response(example_prompts)"
   ]
  },
  {
   "cell_type": "markdown",
   "id": "88bc2f8a",
   "metadata": {},
   "source": [
    "## Cite from Prompt"
   ]
  },
  {
   "cell_type": "code",
   "execution_count": 4,
   "id": "7d74eb26",
   "metadata": {},
   "outputs": [
    {
     "name": "stdout",
     "output_type": "stream",
     "text": [
      "Prompt: \n",
      "    A user review: very soft, colorful, expensive but deserves its price, stylish.\n",
      "    \n",
      "    What is the user's opinion about the product's price?\n",
      "    \n",
      "The user's opinion about the product's price is that the product is expensive, but the user believes the price is justified by the product's soft, colorful, stylish, and expensive.\n",
      "-----END-----\n",
      "\n",
      "Prompt: \n",
      "    Retrieved information:\n",
      "    Pokémon is a Japanese media franchise consisting of video games, animated series and films, a trading card game, and other related media. \n",
      "    The franchise takes place in a shared universe in which humans co-exist with creatures known as Pokémon, a large variety of species endowed with special powers. \n",
      "    The franchise's target audience is children aged 5 to 12, but it is known to attract people of all ages.\n",
      "    \n",
      "    Based on the retrieved information, what is a Pokémon?\n",
      "    \n",
      "A Pokémon is a large variety of species endowed with special powers, which co-exist with humans in a shared universe in the media franchise of Pokémon.\n",
      "-----END-----\n",
      "\n"
     ]
    }
   ],
   "source": [
    "runner.generate_response(example_prompts,\n",
    "                         [CiteFromPromptLogitsProcessor(runner.tokenizer, boost_factor=5.0)])"
   ]
  },
  {
   "cell_type": "markdown",
   "id": "b69f3b52",
   "metadata": {},
   "source": [
    "## DON'T Cite from Prompt"
   ]
  },
  {
   "cell_type": "code",
   "execution_count": 5,
   "id": "40bfa98f",
   "metadata": {},
   "outputs": [
    {
     "name": "stdout",
     "output_type": "stream",
     "text": [
      "Prompt: \n",
      "    A user review: very soft, colorful, expensive but deserves its price, stylish.\n",
      "    \n",
      "    What is the user's opinion about the product's price?\n",
      "    \n",
      "The user seems to have mixed feelings regarding the product's price:\n",
      "\n",
      "1. **Positive**: The phrase \"deserves its price\" suggests that they believe the high cost of the item is justified and that it provides good value for money.\n",
      "\n",
      "2. **Neutral**: The word \"expensive\" indicates that they find it to be costly.\n",
      "\n",
      "3. **Positive**: The phrase \"stylish\" suggests that they appreciate how well-designed or fashionable the item is.\n",
      "\n",
      "Overall, while they acknowledge that it costs more than they might expect (the \"expensive\" part), they also seem to value it enough to believe that it \"deserves\" this high cost and that it meets their expectations in terms of style and quality (\"stylish\"). The use of \"very\" in describing how \"soft\" it feels further emphasizes their positive perception of both comfort and quality of the item despite being more costly than they anticipated. Therefore, their overall impression leans more towards appreciation and satisfaction with their purchase despite it being more pricey than they initially thought it would be.\n",
      "-----END-----\n",
      "\n",
      "Prompt: \n",
      "    Retrieved information:\n",
      "    Pokémon is a Japanese media franchise consisting of video games, animated series and films, a trading card game, and other related media. \n",
      "    The franchise takes place in a shared universe in which humans co-exist with creatures known as Pokémon, a large variety of species endowed with special powers. \n",
      "    The franchise's target audience is children aged 5 to 12, but it is known to attract people of all ages.\n",
      "    \n",
      "    Based on the retrieved information, what is a Pokémon?\n",
      "    \n",
      "A Pokémon is an imaginary creature that exists within the fictional world of the Pokémon franchise. These characters have unique abilities or characteristics that allow them to interact or battle against each other within this imaginary world.\n",
      "\n",
      "Pokémon can be categorized into different types based on their abilities:\n",
      "\n",
      "- **Fire**: Creatures that can use fire-based attacks or resist fire-based attacks.\n",
      "\n",
      "- **Water**: Creatures that can use water-based attacks or resist water-based attacks.\n",
      "\n",
      "- **Grass**: Creatures that can use grass-based attacks or resist grass-based attacks.\n",
      "\n",
      "- **Electric**: Creatures that can use electric-based attacks or resist electric-based attacks.\n",
      "\n",
      "- **Ice**: Creatures that can use ice-based attacks or resist ice-based attacks.\n",
      "\n",
      "- **Fighting**: Creatures that can use physical attacks or resist physical attacks.\n",
      "\n",
      "- **Poison**: Creatures that can use poison-based attacks or resist poison-based attacks.\n",
      "\n",
      "- **Ground**: Creatures that can use ground-based attacks or resist ground-based attacks.\n",
      "\n",
      "- **Flying**: Creatures that can use flying-based attacks or resist flying-based attacks.\n",
      "\n",
      "- **Psychic**: Creatures that can use psychic-based attacks or resist psychic-based attacks.\n",
      "\n",
      "- **Bug**: Creatures that can use bug-based attacks or resist bug-based attacks.\n",
      "\n",
      "- **Dark**: Creatures that can use dark-based attacks or resist dark-based attacks.\n",
      "\n",
      "- **Dragon**: Creatures that can use dragon-based attacks or resist dragon-based attacks.\n",
      "\n",
      "- **Ghost**: Creatures that can use ghost-based attacks or resist ghost-based attacks.\n",
      "\n",
      "- **Steel**: Creatures that can use steel-based attacks or resist steel-based attacks.\n",
      "\n",
      "- **Fairy**: Creatures that can use fairy-based attacks or resist fairy-based attacks.\n",
      "\n",
      "Pokémon can also be classified into different types based on their abilities:\n",
      "\n",
      "- **Normal**: Creatures that can use normal-based attacks or resist normal-based attacks.\n",
      "\n",
      "- **Fairy**: Creatures that can use fairy-based attacks or resist fairy-based attacks.\n",
      "\n",
      "- **Fairy**: Creatures that can use fairy-based attacks or resist fairy-based attacks.\n",
      "\n",
      "- **Fairy**: Creatures that can use fairy-based attacks or resist fairy-based attacks.\n",
      "\n",
      "- **Fairy**: Creatures that can use fairy-based attacks or resist fairy-based attacks.\n",
      "\n",
      "- **Fairy**: Creatures that can use fairy-based attacks or resist fairy-based attacks.\n",
      "\n",
      "- **Fairy**: Creatures that can use fairy-based attacks or resist fairy-based attacks.\n",
      "\n",
      "- **Fairy**: Creatures that can use fairy-based attacks or resist fairy-based attacks.\n",
      "\n",
      "- **Fairy**: Creatures that can use fairy-based attacks or resist fairy-based attacks.\n",
      "\n",
      "- **Fairy**: Creatures that can use fairy-based attacks or resist fairy-based attacks.\n",
      "\n",
      "- **Fairy**: Creatures that can use fairy-based attacks or resist fairy-based attacks.\n",
      "\n",
      "- **Fairy**: Creatures that can use fairy-based attacks or resist fairy-based attacks.\n",
      "\n",
      "- **Fairy**: Creatures that can use fairy-based attacks or resist fairy-based attacks.\n",
      "\n",
      "- **Fairy**: Creatures that can use fairy-based attacks or resist fairy-based attacks.\n",
      "\n",
      "- **Fairy**: Creatures that can use fairy-based attacks or resist fairy-based attacks.\n",
      "\n",
      "- **Fairy**: Creatures that can use fairy-based attacks or resist fairy-based attacks.\n",
      "\n",
      "- **Fairy**: Creatures that can use fairy-based attacks or resist fairy-based attacks.\n",
      "\n",
      "- **Fairy**: Creatures that can use fairy-based attacks or resist fairy-based attacks.\n",
      "\n",
      "- **Fairy**: Creatures that can use fairy-based attacks or resist fairy-based attacks.\n",
      "\n",
      "- **Fairy**: Creatures that can use fairy-based attacks or resist fairy-based attacks.\n",
      "\n",
      "- **Fairy**: Creatures that can use fairy-based attacks or resist fairy-based attacks.\n",
      "\n",
      "- **Fairy**: Creatures that can use fairy-based attacks or resist fairy-based attacks.\n",
      "\n",
      "- **Fairy**: Creatures that can use fairy-based attacks or resist fairy-based attacks.\n",
      "\n",
      "- **Fairy**: Creatures that can use fairy-based attacks or resist fairy-based attacks.\n",
      "\n",
      "- **Fairy**: Creatures that can use fairy-based attacks or resist fairy-based attacks.\n",
      "\n",
      "- **Fairy**: Creatures that can use fairy-based attacks or resist fairy-based attacks.\n",
      "\n",
      "- **Fairy**: Creatures that can use fairy-based attacks or resist fairy-based attacks.\n",
      "\n",
      "- **Fairy**: Creatures that can use fairy-based attacks or resist fairy-based attacks.\n",
      "\n",
      "- **Fairy**: Creatures that can use fairy-based attacks or resist fairy-based attacks.\n",
      "\n",
      "- **Fairy**: Creatures that can use fairy-based attacks or resist fairy-based attacks.\n",
      "\n",
      "- **Fairy**: Creatures that can use fairy-based attacks or resist fairy-based attacks.\n",
      "\n",
      "- **Fairy**: Creatures that can use fairy-based attacks or resist fairy-based attacks.\n",
      "\n",
      "- **Fairy**: Creatures that can use fairy-based attacks or resist fairy-based attacks.\n",
      "\n",
      "- **Fairy**: Creatures that can use fairy-based attacks or resist fairy-based attacks.\n",
      "\n",
      "- **Fairy**: Creatures that can use fairy-based attacks or resist fairy-based attacks.\n",
      "\n",
      "- **Fairy**: Creatures that can use fairy-based attacks or resist fairy-based attacks.\n",
      "\n",
      "- **Fairy**: Creatures that can use fairy-based attacks\n",
      "-----END-----\n",
      "\n"
     ]
    }
   ],
   "source": [
    "runner.generate_response(example_prompts,\n",
    "                         [CiteFromPromptLogitsProcessor(runner.tokenizer, boost_factor=-5.0)])"
   ]
  },
  {
   "cell_type": "code",
   "execution_count": null,
   "id": "88032bf3",
   "metadata": {},
   "outputs": [],
   "source": []
  }
 ],
 "metadata": {
  "kernelspec": {
   "display_name": "Python 3 (ipykernel)",
   "language": "python",
   "name": "python3"
  },
  "language_info": {
   "codemirror_mode": {
    "name": "ipython",
    "version": 3
   },
   "file_extension": ".py",
   "mimetype": "text/x-python",
   "name": "python",
   "nbconvert_exporter": "python",
   "pygments_lexer": "ipython3",
   "version": "3.10.17"
  }
 },
 "nbformat": 4,
 "nbformat_minor": 5
}
