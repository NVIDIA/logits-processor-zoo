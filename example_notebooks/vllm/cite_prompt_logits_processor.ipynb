{
 "cells": [
  {
   "cell_type": "code",
   "execution_count": 1,
   "id": "28ed6952",
   "metadata": {},
   "outputs": [
    {
     "name": "stdout",
     "output_type": "stream",
     "text": [
      "/home/aerdem/projects/logits-processor-zoo\n"
     ]
    }
   ],
   "source": [
    "%cd ../.."
   ]
  },
  {
   "cell_type": "code",
   "execution_count": 2,
   "id": "b89279fe",
   "metadata": {},
   "outputs": [
    {
     "name": "stderr",
     "output_type": "stream",
     "text": [
      "/home/aerdem/projects/LLM/llmenv/lib/python3.10/site-packages/huggingface_hub/file_download.py:1132: FutureWarning: `resume_download` is deprecated and will be removed in version 1.0.0. Downloads always resume when possible. If you want to force a new download, use `force_download=True`.\n",
      "  warnings.warn(\n"
     ]
    },
    {
     "name": "stdout",
     "output_type": "stream",
     "text": [
      "WARNING 07-09 11:59:32 config.py:1222] Casting torch.bfloat16 to torch.float16.\n",
      "INFO 07-09 11:59:32 llm_engine.py:161] Initializing an LLM engine (v0.5.0.post1) with config: model='google/gemma-1.1-2b-it', speculative_config=None, tokenizer='google/gemma-1.1-2b-it', skip_tokenizer_init=False, tokenizer_mode=auto, revision=None, rope_scaling=None, rope_theta=None, tokenizer_revision=None, trust_remote_code=True, dtype=torch.float16, max_seq_len=8192, download_dir=None, load_format=LoadFormat.AUTO, tensor_parallel_size=1, disable_custom_all_reduce=False, quantization=None, enforce_eager=True, kv_cache_dtype=auto, quantization_param_path=None, device_config=cuda, decoding_config=DecodingConfig(guided_decoding_backend='outlines'), seed=0, served_model_name=google/gemma-1.1-2b-it)\n",
      "INFO 07-09 11:59:34 weight_utils.py:218] Using model weights format ['*.safetensors']\n",
      "INFO 07-09 11:59:35 model_runner.py:160] Loading model weights took 4.6720 GB\n",
      "INFO 07-09 11:59:36 gpu_executor.py:83] # GPU blocks: 52872, # CPU blocks: 14563\n"
     ]
    }
   ],
   "source": [
    "from example_notebooks.vllm.utils import vLLMRunner\n",
    "from logits_processor_zoo.vllm import CiteFromPromptLogitsProcessor\n",
    "\n",
    "\n",
    "example_prompts =[\n",
    "    \"\"\"\n",
    "    A user review: very soft, colorful, expensive but deserves its price, stylish.\n",
    "    \n",
    "    What is the user's opinion about the product's price?\n",
    "    \n",
    "    Answer:\n",
    "    \"\"\",\n",
    "    \"\"\"\n",
    "    Retrieved information:\n",
    "    Pokémon is a Japanese media franchise consisting of video games, animated series and films, a trading card game, and other related media. \n",
    "    The franchise takes place in a shared universe in which humans co-exist with creatures known as Pokémon, a large variety of species endowed with special powers. \n",
    "    The franchise's target audience is children aged 5 to 12, but it is known to attract people of all ages.\n",
    "    \n",
    "    What is a Pokémon?\n",
    "    \n",
    "    Answer:\n",
    "    \"\"\"\n",
    "]\n",
    "\n",
    "runner = vLLMRunner()"
   ]
  },
  {
   "cell_type": "markdown",
   "id": "859aef8d",
   "metadata": {},
   "source": [
    "## Default Response"
   ]
  },
  {
   "cell_type": "code",
   "execution_count": 3,
   "id": "cbf4c2d5",
   "metadata": {},
   "outputs": [
    {
     "name": "stdout",
     "output_type": "stream",
     "text": [
      "Prompt: \n",
      "    A user review: very soft, colorful, expensive but deserves its price, stylish.\n",
      "    \n",
      "    What is the user's opinion about the product's price?\n",
      "    \n",
      "    Answer:\n",
      "    \n",
      "\n",
      "    The user expresses that the product is expensive but justifies its price due to its stylish design and colorfulness.\n",
      "-----END-----\n",
      "\n",
      "Prompt: \n",
      "    Retrieved information:\n",
      "    Pokémon is a Japanese media franchise consisting of video games, animated series and films, a trading card game, and other related media. \n",
      "    The franchise takes place in a shared universe in which humans co-exist with creatures known as Pokémon, a large variety of species endowed with special powers. \n",
      "    The franchise's target audience is children aged 5 to 12, but it is known to attract people of all ages.\n",
      "    \n",
      "    What is a Pokémon?\n",
      "    \n",
      "    Answer:\n",
      "    \n",
      "A Pokémon is a large variety of species endowed with special powers that inhabit the shared universe in which humans co-exist with creatures known as Pokémon.\n",
      "-----END-----\n",
      "\n"
     ]
    }
   ],
   "source": [
    "runner.generate_response(example_prompts)"
   ]
  },
  {
   "cell_type": "markdown",
   "id": "88bc2f8a",
   "metadata": {},
   "source": [
    "## Cite from Prompt"
   ]
  },
  {
   "cell_type": "code",
   "execution_count": 4,
   "id": "7d74eb26",
   "metadata": {},
   "outputs": [
    {
     "name": "stdout",
     "output_type": "stream",
     "text": [
      "Prompt: \n",
      "    A user review: very soft, colorful, expensive but deserves its price, stylish.\n",
      "    \n",
      "    What is the user's opinion about the product's price?\n",
      "    \n",
      "    Answer:\n",
      "    \n",
      "\n",
      "    The user is opinionated about the product's price. They believe it is expensive but deserves its price, stylish.\n",
      "-----END-----\n",
      "\n",
      "Prompt: \n",
      "    Retrieved information:\n",
      "    Pokémon is a Japanese media franchise consisting of video games, animated series and films, a trading card game, and other related media. \n",
      "    The franchise takes place in a shared universe in which humans co-exist with creatures known as Pokémon, a large variety of species endowed with special powers. \n",
      "    The franchise's target audience is children aged 5 to 12, but it is known to attract people of all ages.\n",
      "    \n",
      "    What is a Pokémon?\n",
      "    \n",
      "    Answer:\n",
      "    \n",
      "A Pokémon is a large variety of species endowed with special powers, which co-exist with humans in a shared universe.\n",
      "-----END-----\n",
      "\n"
     ]
    }
   ],
   "source": [
    "runner.generate_response(example_prompts,\n",
    "                         [CiteFromPromptLogitsProcessor(runner.tokenizer, boost_factor=5.0)])"
   ]
  },
  {
   "cell_type": "markdown",
   "id": "b69f3b52",
   "metadata": {},
   "source": [
    "## DON'T Cite from Prompt"
   ]
  },
  {
   "cell_type": "code",
   "execution_count": 5,
   "id": "40bfa98f",
   "metadata": {},
   "outputs": [
    {
     "name": "stdout",
     "output_type": "stream",
     "text": [
      "Prompt: \n",
      "    A user review: very soft, colorful, expensive but deserves its price, stylish.\n",
      "    \n",
      "    What is the user's opinion about the product's price?\n",
      "    \n",
      "    Answer:\n",
      "    \n",
      "The user expresses that they believe the product is worth their money due to its quality and style. They acknowledge that it is on the higher end of pricing, but they believe it justifies the quality and design they experience.\n",
      "-----END-----\n",
      "\n",
      "Prompt: \n",
      "    Retrieved information:\n",
      "    Pokémon is a Japanese media franchise consisting of video games, animated series and films, a trading card game, and other related media. \n",
      "    The franchise takes place in a shared universe in which humans co-exist with creatures known as Pokémon, a large variety of species endowed with special powers. \n",
      "    The franchise's target audience is children aged 5 to 12, but it is known to attract people of all ages.\n",
      "    \n",
      "    What is a Pokémon?\n",
      "    \n",
      "    Answer:\n",
      "    \n",
      "A Pokémon is a creature from the Pokémon franchise that possesses special powers.\n",
      "-----END-----\n",
      "\n"
     ]
    }
   ],
   "source": [
    "runner.generate_response(example_prompts,\n",
    "                         [CiteFromPromptLogitsProcessor(runner.tokenizer, boost_factor=-5.0)])"
   ]
  },
  {
   "cell_type": "code",
   "execution_count": null,
   "id": "88032bf3",
   "metadata": {},
   "outputs": [],
   "source": []
  }
 ],
 "metadata": {
  "kernelspec": {
   "display_name": "Python 3 (ipykernel)",
   "language": "python",
   "name": "python3"
  },
  "language_info": {
   "codemirror_mode": {
    "name": "ipython",
    "version": 3
   },
   "file_extension": ".py",
   "mimetype": "text/x-python",
   "name": "python",
   "nbconvert_exporter": "python",
   "pygments_lexer": "ipython3",
   "version": "3.10.13"
  }
 },
 "nbformat": 4,
 "nbformat_minor": 5
}
