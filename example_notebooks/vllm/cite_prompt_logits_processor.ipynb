{
 "cells": [
  {
   "cell_type": "code",
   "execution_count": 1,
   "id": "28ed6952",
   "metadata": {},
   "outputs": [
    {
     "name": "stdout",
     "output_type": "stream",
     "text": [
      "/home/aerdem/projects/nvidia/logits-processor-zoo\n"
     ]
    }
   ],
   "source": [
    "%cd ../.."
   ]
  },
  {
   "cell_type": "code",
   "execution_count": 2,
   "id": "b89279fe",
   "metadata": {},
   "outputs": [
    {
     "name": "stdout",
     "output_type": "stream",
     "text": [
      "WARNING 02-12 13:41:31 cuda.py:22] You are using a deprecated `pynvml` package. Please install `nvidia-ml-py` instead. See https://pypi.org/project/pynvml for more information.\n",
      "WARNING 02-12 13:41:34 config.py:1563] Casting torch.bfloat16 to torch.float16.\n",
      "INFO 02-12 13:41:34 llm_engine.py:184] Initializing an LLM engine (v0.5.5) with config: model='google/gemma-1.1-2b-it', speculative_config=None, tokenizer='google/gemma-1.1-2b-it', skip_tokenizer_init=False, tokenizer_mode=auto, revision=None, rope_scaling=None, rope_theta=None, tokenizer_revision=None, trust_remote_code=True, dtype=torch.float16, max_seq_len=8192, download_dir=None, load_format=LoadFormat.AUTO, tensor_parallel_size=1, pipeline_parallel_size=1, disable_custom_all_reduce=False, quantization=None, enforce_eager=True, kv_cache_dtype=auto, quantization_param_path=None, device_config=cuda, decoding_config=DecodingConfig(guided_decoding_backend='outlines'), observability_config=ObservabilityConfig(otlp_traces_endpoint=None, collect_model_forward_time=False, collect_model_execute_time=False), seed=0, served_model_name=google/gemma-1.1-2b-it, use_v2_block_manager=False, enable_prefix_caching=False)\n",
      "INFO 02-12 13:41:35 model_runner.py:879] Starting to load model google/gemma-1.1-2b-it...\n",
      "INFO 02-12 13:41:35 weight_utils.py:236] Using model weights format ['*.safetensors']\n"
     ]
    },
    {
     "data": {
      "application/vnd.jupyter.widget-view+json": {
       "model_id": "afb66bd12b4148bdb3021b4229dd5a23",
       "version_major": 2,
       "version_minor": 0
      },
      "text/plain": [
       "Loading safetensors checkpoint shards:   0% Completed | 0/2 [00:00<?, ?it/s]\n"
      ]
     },
     "metadata": {},
     "output_type": "display_data"
    },
    {
     "name": "stdout",
     "output_type": "stream",
     "text": [
      "INFO 02-12 13:41:37 model_runner.py:890] Loading model weights took 4.6720 GB\n",
      "INFO 02-12 13:41:39 gpu_executor.py:121] # GPU blocks: 49685, # CPU blocks: 14563\n"
     ]
    }
   ],
   "source": [
    "from example_notebooks.vllm.utils import vLLMRunner\n",
    "from logits_processor_zoo.vllm import CiteFromPromptLogitsProcessor\n",
    "\n",
    "\n",
    "example_prompts =[\n",
    "    \"\"\"\n",
    "    A user review: very soft, colorful, expensive but deserves its price, stylish.\n",
    "    \n",
    "    What is the user's opinion about the product's price?\n",
    "    \"\"\",\n",
    "    \"\"\"\n",
    "    Retrieved information:\n",
    "    Pokémon is a Japanese media franchise consisting of video games, animated series and films, a trading card game, and other related media. \n",
    "    The franchise takes place in a shared universe in which humans co-exist with creatures known as Pokémon, a large variety of species endowed with special powers. \n",
    "    The franchise's target audience is children aged 5 to 12, but it is known to attract people of all ages.\n",
    "    \n",
    "    Based on the retrieved information, what is a Pokémon?\n",
    "    \"\"\"\n",
    "]\n",
    "\n",
    "runner = vLLMRunner()"
   ]
  },
  {
   "cell_type": "markdown",
   "id": "859aef8d",
   "metadata": {},
   "source": [
    "## Default Response"
   ]
  },
  {
   "cell_type": "code",
   "execution_count": 3,
   "id": "cbf4c2d5",
   "metadata": {},
   "outputs": [
    {
     "name": "stdout",
     "output_type": "stream",
     "text": [
      "Prompt: \n",
      "    A user review: very soft, colorful, expensive but deserves its price, stylish.\n",
      "    \n",
      "    What is the user's opinion about the product's price?\n",
      "    \n",
      "**User Review: Soft, Colorful, Expensive but Deserving**\n",
      "\n",
      "The user expresses overall satisfaction with the product, highlighting its soft texture, vibrant colors, and stylish design. They acknowledge that the price point is high, but they believe it is justified given the product's quality and aesthetics.\n",
      "-----END-----\n",
      "\n",
      "Prompt: \n",
      "    Retrieved information:\n",
      "    Pokémon is a Japanese media franchise consisting of video games, animated series and films, a trading card game, and other related media. \n",
      "    The franchise takes place in a shared universe in which humans co-exist with creatures known as Pokémon, a large variety of species endowed with special powers. \n",
      "    The franchise's target audience is children aged 5 to 12, but it is known to attract people of all ages.\n",
      "    \n",
      "    Based on the retrieved information, what is a Pokémon?\n",
      "    \n",
      "The provided text does not specify what a Pokémon is, so I am unable to answer this question from the provided context.\n",
      "-----END-----\n",
      "\n"
     ]
    }
   ],
   "source": [
    "runner.generate_response(example_prompts)"
   ]
  },
  {
   "cell_type": "markdown",
   "id": "88bc2f8a",
   "metadata": {},
   "source": [
    "## Cite from Prompt"
   ]
  },
  {
   "cell_type": "code",
   "execution_count": 4,
   "id": "7d74eb26",
   "metadata": {},
   "outputs": [
    {
     "name": "stdout",
     "output_type": "stream",
     "text": [
      "Prompt: \n",
      "    A user review: very soft, colorful, expensive but deserves its price, stylish.\n",
      "    \n",
      "    What is the user's opinion about the product's price?\n",
      "    \n",
      "**User review: very soft, colorful, expensive but deserves its price, stylish.**\n",
      "\n",
      "The user expresses a positive opinion about the product, highlighting its soft, colorful, and stylish qualities. However, the price is a concern, but the user is willing to pay the price for the product's quality and design.\n",
      "-----END-----\n",
      "\n",
      "Prompt: \n",
      "    Retrieved information:\n",
      "    Pokémon is a Japanese media franchise consisting of video games, animated series and films, a trading card game, and other related media. \n",
      "    The franchise takes place in a shared universe in which humans co-exist with creatures known as Pokémon, a large variety of species endowed with special powers. \n",
      "    The franchise's target audience is children aged 5 to 12, but it is known to attract people of all ages.\n",
      "    \n",
      "    Based on the retrieved information, what is a Pokémon?\n",
      "    \n",
      "The retrieved information states that Pokémon is a Japanese media franchise consisting of creatures known as Pokémon, endowed with special powers.\n",
      "-----END-----\n",
      "\n"
     ]
    }
   ],
   "source": [
    "runner.generate_response(example_prompts,\n",
    "                         [CiteFromPromptLogitsProcessor(runner.tokenizer, boost_factor=5.0)])"
   ]
  },
  {
   "cell_type": "markdown",
   "id": "b69f3b52",
   "metadata": {},
   "source": [
    "## DON'T Cite from Prompt"
   ]
  },
  {
   "cell_type": "code",
   "execution_count": 5,
   "id": "40bfa98f",
   "metadata": {},
   "outputs": [
    {
     "name": "stdout",
     "output_type": "stream",
     "text": [
      "Prompt: \n",
      "    A user review: very soft, colorful, expensive but deserves its price, stylish.\n",
      "    \n",
      "    What is the user's opinion about the product's price?\n",
      "    \n",
      "**User Review:**\n",
      "\n",
      "\"The quality of this scarf is exceptional. The fabric is incredibly soft and luxurious, and it feels amazing against my skin. The colors are vibrant and eye-catching, adding a touch of elegance to my outfit.\n",
      "\n",
      "While it may be on the pricey side, the exceptional quality and style justify the cost for me. The scarf is a statement piece that I can dress up or down depending on my mood.\"\n",
      "-----END-----\n",
      "\n",
      "Prompt: \n",
      "    Retrieved information:\n",
      "    Pokémon is a Japanese media franchise consisting of video games, animated series and films, a trading card game, and other related media. \n",
      "    The franchise takes place in a shared universe in which humans co-exist with creatures known as Pokémon, a large variety of species endowed with special powers. \n",
      "    The franchise's target audience is children aged 5 to 12, but it is known to attract people of all ages.\n",
      "    \n",
      "    Based on the retrieved information, what is a Pokémon?\n",
      "    \n",
      "According to the provided text, a Pokémon is a creature that possesses special powers and belongs to a group called Pokémon.\n",
      "-----END-----\n",
      "\n"
     ]
    }
   ],
   "source": [
    "runner.generate_response(example_prompts,\n",
    "                         [CiteFromPromptLogitsProcessor(runner.tokenizer, boost_factor=-5.0)])"
   ]
  },
  {
   "cell_type": "code",
   "execution_count": null,
   "id": "88032bf3",
   "metadata": {},
   "outputs": [],
   "source": []
  }
 ],
 "metadata": {
  "kernelspec": {
   "display_name": "Python 3 (ipykernel)",
   "language": "python",
   "name": "python3"
  },
  "language_info": {
   "codemirror_mode": {
    "name": "ipython",
    "version": 3
   },
   "file_extension": ".py",
   "mimetype": "text/x-python",
   "name": "python",
   "nbconvert_exporter": "python",
   "pygments_lexer": "ipython3",
   "version": "3.10.13"
  }
 },
 "nbformat": 4,
 "nbformat_minor": 5
}
