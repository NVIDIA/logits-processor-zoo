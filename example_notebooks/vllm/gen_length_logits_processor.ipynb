{
 "cells": [
  {
   "cell_type": "code",
   "execution_count": 1,
   "id": "28ed6952",
   "metadata": {},
   "outputs": [
    {
     "name": "stdout",
     "output_type": "stream",
     "text": [
      "/home/aerdem/projects/logits-processor-zoo\n"
     ]
    }
   ],
   "source": [
    "%cd ../.."
   ]
  },
  {
   "cell_type": "code",
   "execution_count": 2,
   "id": "0ea01217",
   "metadata": {},
   "outputs": [
    {
     "name": "stderr",
     "output_type": "stream",
     "text": [
      "/home/aerdem/projects/LLM/llmenv/lib/python3.10/site-packages/huggingface_hub/file_download.py:1132: FutureWarning: `resume_download` is deprecated and will be removed in version 1.0.0. Downloads always resume when possible. If you want to force a new download, use `force_download=True`.\n",
      "  warnings.warn(\n"
     ]
    },
    {
     "name": "stdout",
     "output_type": "stream",
     "text": [
      "WARNING 07-09 11:59:01 config.py:1222] Casting torch.bfloat16 to torch.float16.\n",
      "INFO 07-09 11:59:01 llm_engine.py:161] Initializing an LLM engine (v0.5.0.post1) with config: model='google/gemma-1.1-2b-it', speculative_config=None, tokenizer='google/gemma-1.1-2b-it', skip_tokenizer_init=False, tokenizer_mode=auto, revision=None, rope_scaling=None, rope_theta=None, tokenizer_revision=None, trust_remote_code=True, dtype=torch.float16, max_seq_len=8192, download_dir=None, load_format=LoadFormat.AUTO, tensor_parallel_size=1, disable_custom_all_reduce=False, quantization=None, enforce_eager=True, kv_cache_dtype=auto, quantization_param_path=None, device_config=cuda, decoding_config=DecodingConfig(guided_decoding_backend='outlines'), seed=0, served_model_name=google/gemma-1.1-2b-it)\n",
      "INFO 07-09 11:59:02 weight_utils.py:218] Using model weights format ['*.safetensors']\n",
      "INFO 07-09 11:59:04 model_runner.py:160] Loading model weights took 4.6720 GB\n",
      "INFO 07-09 11:59:04 gpu_executor.py:83] # GPU blocks: 52883, # CPU blocks: 14563\n"
     ]
    }
   ],
   "source": [
    "from example_notebooks.vllm.utils import vLLMRunner\n",
    "from logits_processor_zoo.vllm import GenLengthLogitsProcessor\n",
    "\n",
    "example_prompts =[\n",
    "    \"Please describe what macaques are.\",\n",
    "    \"Tell me a story about a kid lost in forest.\"\n",
    "]\n",
    "\n",
    "runner = vLLMRunner()"
   ]
  },
  {
   "cell_type": "markdown",
   "id": "859aef8d",
   "metadata": {},
   "source": [
    "## Default Response"
   ]
  },
  {
   "cell_type": "code",
   "execution_count": 3,
   "id": "cbf4c2d5",
   "metadata": {},
   "outputs": [
    {
     "name": "stdout",
     "output_type": "stream",
     "text": [
      "Prompt: Please describe what macaques are.\n",
      "\n",
      "\n",
      "**Characteristics of Macaques:**\n",
      "\n",
      "- Small to medium-sized primates\n",
      "- Short, curved tails\n",
      "- Hairless or lightly haired bodies\n",
      "- Large eyes and ears\n",
      "- Sharp teeth and claws\n",
      "- Social animals that live in groups\n",
      "- Diverse diet of fruits, leaves, and insects\n",
      "\n",
      "**Additional Information:**\n",
      "\n",
      "- Macaques are native to tropical forests in Southeast Asia\n",
      "- They are closely related to humans and share a significant amount of our DNA\n",
      "- Macaques are considered to be intelligent animals, capable of learning and problem-solving\n",
      "\n",
      "-----END-----\n",
      "\n",
      "Prompt: Tell me a story about a kid lost in forest.\n",
      "\n",
      "\n",
      "The sun beat down relentlessly, casting long shadows across the tangled undergrowth. Ten-year-old Maya shivered, her bare feet sinking into the damp earth. She had wandered away from the familiar path, lured by the promise of adventure in the whispering woods. Now, the path was nowhere in sight.\n",
      "\n",
      "Panic gnawed at her stomach. She called out for her mother, but only the rustling leaves answered her. The dense forest swallowed her whole, the sunlight fading into an oppressive gloom. Fear turned her legs to lead, and she stumbled, falling and scraping her knees.\n",
      "\n",
      "Suddenly, a flicker of green caught her eye. A small clearing, bathed in sunlight. A girl lay there, her face pale and drawn. Maya knelt beside her, her heart pounding.\n",
      "\n",
      "\"Are you lost?\" she asked softly.\n",
      "\n",
      "The girl looked up, her eyes wide and filled with confusion. \"I... I don't know.\"\n",
      "\n",
      "Together, they sat under a shady tree, sipping on water. Maya told the girl about her house and her mother, while the girl shared her dreams of traveling the world. As the sun began to set, casting long shadows once more, a sense of calm settled over Maya.\n",
      "\n",
      "\"Thank you,\" the girl whispered. \"You helped me find my way home.\"\n",
      "\n",
      "With a smile, Maya replied, \"You helped me find myself.\"\n",
      "\n",
      "As darkness enveloped the forest, Maya knew she had learned more valuable lessons than any map could ever hold. She had learned the strength of her own spirit, the power of kindness, and the magic that can be found in the most unexpected places.\n",
      "-----END-----\n",
      "\n"
     ]
    }
   ],
   "source": [
    "runner.generate_response(example_prompts)"
   ]
  },
  {
   "cell_type": "markdown",
   "id": "88bc2f8a",
   "metadata": {},
   "source": [
    "## Shorter Answers"
   ]
  },
  {
   "cell_type": "code",
   "execution_count": 4,
   "id": "7d74eb26",
   "metadata": {},
   "outputs": [
    {
     "name": "stdout",
     "output_type": "stream",
     "text": [
      "Prompt: Please describe what macaques are.\n",
      "\n",
      "\n",
      "**Characteristics of Macaques:**\n",
      "\n",
      "- Small to medium-sized primates\n",
      "- Short, curved tails\n",
      "- Hairless or lightly haired bodies\n",
      "- Large eyes and ears\n",
      "- Sharp teeth and claws\n",
      "- Social animals that live in groups\n",
      "- Diverse diet of fruits, leaves, and insects\n",
      "\n",
      "**Additional Information:**\n",
      "\n",
      "- Macaques are native to tropical forests in Southeast Asia\n",
      "- They are closely related to humans and share a significant amount of our DNA\n",
      "\n",
      "-----END-----\n",
      "\n",
      "Prompt: Tell me a story about a kid lost in forest.\n",
      "\n",
      "\n",
      "The sun beat down relentlessly, casting long shadows across the tangled undergrowth. Ten-year-old Maya shivered, her bare feet sinking into the damp earth. She had wandered away from the familiar path, lured by the promise of adventure in the whispering woods. Now, the path was nowhere in sight.\n",
      "\n",
      "Panic gnawed at her stomach. She called out for her mother, but only the rustling leaves answered her. The dense forest swallowed her whole, the sunlight fading into an oppressive gloom. Fear turned her legs to lead, and she stumbled, falling and scraping her knees.\n",
      "\n",
      "Suddenly, a flicker of green caught her eye. A small clearing, bathed in sunlight. A girl lay there, her face pale and drawn.\n",
      "-----END-----\n",
      "\n"
     ]
    }
   ],
   "source": [
    "runner.generate_response(example_prompts,\n",
    "                         [GenLengthLogitsProcessor(runner.tokenizer, boost_factor=0.1, p=2, \n",
    "                                                   complete_sentences=True)])"
   ]
  },
  {
   "cell_type": "markdown",
   "id": "15b5afa5",
   "metadata": {},
   "source": [
    "## Longer Answers"
   ]
  },
  {
   "cell_type": "code",
   "execution_count": 5,
   "id": "b2297aab",
   "metadata": {},
   "outputs": [
    {
     "name": "stdout",
     "output_type": "stream",
     "text": [
      "Prompt: Please describe what macaques are.\n",
      "\n",
      "\n",
      "**Characteristics of Macaques:**\n",
      "\n",
      "- Small to medium-sized primates\n",
      "- Short, curved tails\n",
      "- Hairless or lightly haired bodies\n",
      "- Large eyes and ears\n",
      "- Sharp teeth and claws\n",
      "- Social animals that live in groups\n",
      "- Diverse diet of fruits, leaves, and insects\n",
      "\n",
      "**Additional Information:**\n",
      "\n",
      "- Macaques are native to tropical forests in Southeast Asia\n",
      "- They are closely related to humans and share a significant amount of our DNA\n",
      "- Macaques are considered to be intelligent animals, capable of learning and problem-solving\n",
      "* Macaques are often kept as pets due to their friendly and playful nature.\n",
      "\n",
      "**What are macaques used for?**\n",
      "\n",
      "Macaques are not mentioned in the provided text, so I am unable to provide information on their uses.\n",
      "-----END-----\n",
      "\n",
      "Prompt: Tell me a story about a kid lost in forest.\n",
      "\n",
      "\n",
      "The sun beat down relentlessly, casting long shadows across the tangled undergrowth. Ten-year-old Maya shivered, her bare feet sinking into the damp earth. She had wandered away from the familiar path, lured by the promise of adventure in the whispering woods. Now, the path was nowhere in sight.\n",
      "\n",
      "Panic gnawed at her stomach. She called out for her mother, but only the rustling leaves answered her. The dense forest swallowed her whole, the sunlight fading into an oppressive gloom. Fear turned her legs to lead, and she stumbled, falling and scraping her knees.\n",
      "\n",
      "Suddenly, a flicker of green caught her eye. A small clearing, bathed in sunlight. A girl lay there, her face pale and drawn. Maya knelt beside her, her heart pounding.\n",
      "\n",
      "\"Are you lost?\" she asked softly.\n",
      "\n",
      "The girl looked up, her eyes wide and filled with confusion. \"I... I don't know.\"\n",
      "\n",
      "Together, they sat under a shady tree, sipping on a dew-kissed leaf. Maya told the girl about her lost shoes and her fear of the dark. The girl, whose name was Anya, listened patiently.\n",
      "\n",
      "As the sun began to set, casting long shadows again, Anya told Maya about the forest. She spoke of ancient spirits and hidden paths. She even showed Maya a magical trick, making a leaf appear to dance.\n",
      "\n",
      "By the time the first stars emerged, Maya felt a sense of calm wash over her. Anya helped her find her way back to the familiar path, and together, they walked home, hand in hand.\n",
      "\n",
      "As they walked, Maya looked back at the forest, no longer with fear, but with wonder. She had learned that even the most daunting of places could hold kindness and magic. And she knew that she would never forget the day she got lost in the forest.\n",
      "\n",
      "**Moral of the story:**\n",
      "\n",
      "Sometimes, getting lost can lead to unexpected adventures and the discovery of hidden strengths. It is important to stay calm and seek help when needed. And most importantly, remember that even in the darkest of places, there is always hope and kindness to be found.\n",
      "-----END-----\n",
      "\n"
     ]
    }
   ],
   "source": [
    "runner.generate_response(example_prompts,\n",
    "                         [GenLengthLogitsProcessor(runner.tokenizer, boost_factor=-10.0, p=0, \n",
    "                                                   complete_sentences=False)])"
   ]
  },
  {
   "cell_type": "code",
   "execution_count": null,
   "id": "aab7ed04",
   "metadata": {},
   "outputs": [],
   "source": []
  }
 ],
 "metadata": {
  "kernelspec": {
   "display_name": "Python 3 (ipykernel)",
   "language": "python",
   "name": "python3"
  },
  "language_info": {
   "codemirror_mode": {
    "name": "ipython",
    "version": 3
   },
   "file_extension": ".py",
   "mimetype": "text/x-python",
   "name": "python",
   "nbconvert_exporter": "python",
   "pygments_lexer": "ipython3",
   "version": "3.10.13"
  }
 },
 "nbformat": 4,
 "nbformat_minor": 5
}
