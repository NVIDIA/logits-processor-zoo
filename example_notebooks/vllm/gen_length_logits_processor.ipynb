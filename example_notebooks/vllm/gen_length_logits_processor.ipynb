{
 "cells": [
  {
   "cell_type": "code",
   "execution_count": 1,
   "id": "28ed6952",
   "metadata": {},
   "outputs": [
    {
     "name": "stdout",
     "output_type": "stream",
     "text": [
      "/home/aerdem/projects/nvidia/logits-processor-zoo\n"
     ]
    }
   ],
   "source": [
    "%cd ../.."
   ]
  },
  {
   "cell_type": "code",
   "execution_count": 2,
   "id": "0ea01217",
   "metadata": {},
   "outputs": [
    {
     "name": "stdout",
     "output_type": "stream",
     "text": [
      "WARNING 02-12 13:43:11 cuda.py:22] You are using a deprecated `pynvml` package. Please install `nvidia-ml-py` instead. See https://pypi.org/project/pynvml for more information.\n",
      "WARNING 02-12 13:43:14 config.py:1563] Casting torch.bfloat16 to torch.float16.\n",
      "INFO 02-12 13:43:14 llm_engine.py:184] Initializing an LLM engine (v0.5.5) with config: model='google/gemma-1.1-2b-it', speculative_config=None, tokenizer='google/gemma-1.1-2b-it', skip_tokenizer_init=False, tokenizer_mode=auto, revision=None, rope_scaling=None, rope_theta=None, tokenizer_revision=None, trust_remote_code=True, dtype=torch.float16, max_seq_len=8192, download_dir=None, load_format=LoadFormat.AUTO, tensor_parallel_size=1, pipeline_parallel_size=1, disable_custom_all_reduce=False, quantization=None, enforce_eager=True, kv_cache_dtype=auto, quantization_param_path=None, device_config=cuda, decoding_config=DecodingConfig(guided_decoding_backend='outlines'), observability_config=ObservabilityConfig(otlp_traces_endpoint=None, collect_model_forward_time=False, collect_model_execute_time=False), seed=0, served_model_name=google/gemma-1.1-2b-it, use_v2_block_manager=False, enable_prefix_caching=False)\n",
      "INFO 02-12 13:43:15 model_runner.py:879] Starting to load model google/gemma-1.1-2b-it...\n",
      "INFO 02-12 13:43:15 weight_utils.py:236] Using model weights format ['*.safetensors']\n"
     ]
    },
    {
     "data": {
      "application/vnd.jupyter.widget-view+json": {
       "model_id": "4a41ebb76ae6476baa832be7e7abb5b3",
       "version_major": 2,
       "version_minor": 0
      },
      "text/plain": [
       "Loading safetensors checkpoint shards:   0% Completed | 0/2 [00:00<?, ?it/s]\n"
      ]
     },
     "metadata": {},
     "output_type": "display_data"
    },
    {
     "name": "stdout",
     "output_type": "stream",
     "text": [
      "INFO 02-12 13:43:17 model_runner.py:890] Loading model weights took 4.6720 GB\n",
      "INFO 02-12 13:43:19 gpu_executor.py:121] # GPU blocks: 49718, # CPU blocks: 14563\n"
     ]
    }
   ],
   "source": [
    "from example_notebooks.vllm.utils import vLLMRunner\n",
    "from logits_processor_zoo.vllm import GenLengthLogitsProcessor\n",
    "\n",
    "example_prompts =[\n",
    "    \"Please describe what macaques are.\",\n",
    "    \"Tell me a story about a kid lost in forest.\"\n",
    "]\n",
    "\n",
    "runner = vLLMRunner()"
   ]
  },
  {
   "cell_type": "markdown",
   "id": "859aef8d",
   "metadata": {},
   "source": [
    "## Default Response"
   ]
  },
  {
   "cell_type": "code",
   "execution_count": 3,
   "id": "cbf4c2d5",
   "metadata": {},
   "outputs": [
    {
     "name": "stdout",
     "output_type": "stream",
     "text": [
      "Prompt: Please describe what macaques are.\n",
      "**Macaca** is a genus of small to medium-sized primates that are native to tropical forests of Southeast Asia. They are known for their distinctive black and white fur, small size, and playful nature.\n",
      "\n",
      "**Characteristics of macaques:**\n",
      "\n",
      "- Small to medium-sized primates, typically ranging from 15 to 50 cm in length.\n",
      "- Black and white fur, often with a black cap, white cheeks, and a black tail.\n",
      "- Agile and playful nature, often seen engaging in social interactions and acrobatics.\n",
      "- Active during the day, spending most of their time in trees and undergrowth.\n",
      "- Omnivorous diet, feeding on fruits, leaves, insects, and small animals.\n",
      "- Live in social groups called troops, typically consisting of related females and their offspring.\n",
      "-----END-----\n",
      "\n",
      "Prompt: Tell me a story about a kid lost in forest.\n",
      "The sun dipped below the horizon, casting long shadows across the gnarled branches of the ancient forest. Ten-year-old Finn, his laughter trailing behind him, ventured deeper into the woods, lured by the promise of adventure. He had never ventured this far from home, and the unfamiliar sounds and smells filled him with a sense of wonder.\n",
      "\n",
      "As the moon replaced the sun, the forest transformed into a different world. The path he had followed vanished, replaced by tangled undergrowth and towering trees. Panic prickled his skin. He was lost.\n",
      "\n",
      "His legs felt heavy, his eyes wide with fear. The rustling leaves and chirping crickets became his only companions. Hunger gnawed at his stomach, and thirst parched his throat. The darkness felt oppressive, swallowing the light of the moon and plunging him into an unsettling gloom.\n",
      "\n",
      "Suddenly, a faint flicker of light caught his eye. He followed it to a clearing, where a small cabin stood, its windows glowing warmly. With renewed hope, Finn stumbled towards it.\n",
      "\n",
      "As he approached, he heard a soft voice calling his name. He turned to see an old woman sitting by a flickering fire, her face etched with concern. She recognized him. Her name was Martha, and she had lived in the forest all her life.\n",
      "\n",
      "With trembling hands, Finn explained his predicament. Martha listened patiently, then smiled. \"The forest has a way of testing those who wander too far,\" she said, her voice warm and knowing. \"But you are strong, and you will find your way home.\"\n",
      "\n",
      "She led him inside, where a warm fire awaited him, along with a steaming bowl of soup. As he ate, Finn told Martha about his adventure. She listened intently, her eyes twinkling with understanding.\n",
      "\n",
      "When the first rays of dawn pierced the darkness, Martha helped Finn pack his things. With a final hug, she sent him on his way, promising to help him find his way back.\n",
      "\n",
      "As the sun rose, casting its golden glow over the forest, Finn felt a sense of peace wash over him. He had learned a valuable lesson: even in the most daunting of places, kindness and the wisdom of those who care can guide the way home.\n",
      "-----END-----\n",
      "\n"
     ]
    }
   ],
   "source": [
    "runner.generate_response(example_prompts)"
   ]
  },
  {
   "cell_type": "markdown",
   "id": "88bc2f8a",
   "metadata": {},
   "source": [
    "## Shorter Answers"
   ]
  },
  {
   "cell_type": "code",
   "execution_count": 4,
   "id": "7d74eb26",
   "metadata": {},
   "outputs": [
    {
     "name": "stdout",
     "output_type": "stream",
     "text": [
      "Prompt: Please describe what macaques are.\n",
      "**Macaca** is a genus of small to medium-sized primates that are native to tropical forests of Southeast Asia. They are known for their distinctive black and white fur, small size, and playful nature.\n",
      "\n",
      "**Characteristics of macaques:**\n",
      "\n",
      "- Small to medium-sized primates, typically ranging from 15 to 50 cm in length.\n",
      "- Black and white fur, often with a black cap, white cheeks, and a black tail.\n",
      "- Agile and playful nature, often seen engaging in social interactions and acrobatics.\n",
      "-----END-----\n",
      "\n",
      "Prompt: Tell me a story about a kid lost in forest.\n",
      "The sun dipped below the horizon, casting long shadows across the gnarled branches of the ancient forest. Ten-year-old Finn, his laughter trailing behind him, ventured deeper into the woods, lured by the promise of adventure. He had never ventured this far from home, and the unfamiliar sounds and smells filled him with a sense of wonder.\n",
      "\n",
      "As the moon replaced the sun, the forest transformed into a different world. The path he had followed vanished, replaced by tangled undergrowth and towering trees. Panic prickled his skin. He was lost.\n",
      "\n",
      "His legs felt heavy, his eyes wide with fear. The rustling leaves and chirping crickets became his only companions. Hunger gnawed at his stomach, and thirst parched his throat.\n",
      "-----END-----\n",
      "\n"
     ]
    }
   ],
   "source": [
    "runner.generate_response(example_prompts,\n",
    "                         [GenLengthLogitsProcessor(runner.tokenizer, boost_factor=0.1, p=2, \n",
    "                                                   complete_sentences=True)])"
   ]
  },
  {
   "cell_type": "markdown",
   "id": "15b5afa5",
   "metadata": {},
   "source": [
    "## Longer Answers"
   ]
  },
  {
   "cell_type": "code",
   "execution_count": 5,
   "id": "b2297aab",
   "metadata": {},
   "outputs": [
    {
     "name": "stdout",
     "output_type": "stream",
     "text": [
      "Prompt: Please describe what macaques are.\n",
      "**Macaca** is a genus of small to medium-sized primates that are native to tropical forests of Southeast Asia. They are known for their distinctive black and white fur, small size, and playful nature.\n",
      "\n",
      "**Characteristics of macaques:**\n",
      "\n",
      "- Small to medium-sized primates, typically ranging from 15 to 50 cm in length.\n",
      "- Black and white fur, often with a black cap, white cheeks, and a black tail.\n",
      "- Agile and playful nature, often seen engaging in social interactions and acrobatics.\n",
      "- Active during the day, spending most of their time in trees and undergrowth.\n",
      "- Omnivorous diet, feeding on fruits, leaves, insects, and small animals.\n",
      "- Live in social groups called troops, typically consisting of related females and their offspring.\n",
      "- Communicate through vocalizations, including calls and gestures.\n",
      "- Highly intelligent and capable of problem-solving and tool use.\n",
      "- Vulnerable to habitat loss and poaching for their fur and medicinal properties.\n",
      "-----END-----\n",
      "\n",
      "Prompt: Tell me a story about a kid lost in forest.\n",
      "The sun dipped below the horizon, casting long shadows across the gnarled branches of the ancient forest. Ten-year-old Finn, his laughter trailing behind him, ventured deeper into the woods, lured by the promise of adventure. He had never ventured this far from home, and the unfamiliar sounds and smells filled him with a sense of wonder.\n",
      "\n",
      "As the moon replaced the sun, the forest transformed into a different world. The path he had followed vanished, replaced by tangled undergrowth and towering trees. Panic prickled his skin. He was lost.\n",
      "\n",
      "His legs felt heavy, his eyes wide with fear. The rustling leaves and chirping crickets became his only companions. Hunger gnawed at his stomach, and thirst parched his throat. The darkness felt oppressive, swallowing the light of the moon and plunging him into an unsettling gloom.\n",
      "\n",
      "Suddenly, a faint flicker of light caught his eye. He followed it to a clearing, where a small cabin stood, its windows glowing warmly. With renewed hope, Finn stumbled towards it.\n",
      "\n",
      "As he approached, he heard a soft voice calling his name. He turned to see an old woman sitting by a flickering fire, her face etched with concern. She recognized him. Her name was Martha, and she had lived in the forest all her life.\n",
      "\n",
      "With trembling hands, Finn explained his predicament. Martha listened patiently, then smiled. \"The forest has a way of testing those who wander too far,\" she said, her voice warm and knowing. \"But you are strong, and you will find your way home.\"\n",
      "\n",
      "She led him inside, where a warm fire awaited him, along with a steaming bowl of soup. As he ate, Finn told Martha about his adventure. She listened intently, her eyes twinkling with understanding.\n",
      "\n",
      "When the first rays of dawn pierced the darkness, Martha helped Finn pack his things. With a final hug, she sent him on his way, promising to help him find his way back.\n",
      "\n",
      "As the sun rose, casting its golden glow over the forest, Finn felt a sense of peace wash over him. He had learned a valuable lesson: even in the most daunting of places, kindness and the wisdom of those who care can guide the way home.\n",
      "\n",
      "And so, with a newfound sense of courage, Finn set off, his heart filled with gratitude for the old woman who had helped him find his way. He knew that the forest would always hold a special place in his heart, a reminder of the day he learned the true meaning of courage and the kindness of strangers.\n",
      "-----END-----\n",
      "\n"
     ]
    }
   ],
   "source": [
    "runner.generate_response(example_prompts,\n",
    "                         [GenLengthLogitsProcessor(runner.tokenizer, boost_factor=-10.0, p=0, \n",
    "                                                   complete_sentences=False)])"
   ]
  },
  {
   "cell_type": "code",
   "execution_count": null,
   "id": "aab7ed04",
   "metadata": {},
   "outputs": [],
   "source": []
  }
 ],
 "metadata": {
  "kernelspec": {
   "display_name": "Python 3 (ipykernel)",
   "language": "python",
   "name": "python3"
  },
  "language_info": {
   "codemirror_mode": {
    "name": "ipython",
    "version": 3
   },
   "file_extension": ".py",
   "mimetype": "text/x-python",
   "name": "python",
   "nbconvert_exporter": "python",
   "pygments_lexer": "ipython3",
   "version": "3.10.13"
  }
 },
 "nbformat": 4,
 "nbformat_minor": 5
}
