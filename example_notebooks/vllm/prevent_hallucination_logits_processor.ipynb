{
 "cells": [
  {
   "cell_type": "code",
   "execution_count": 1,
   "id": "28ed6952",
   "metadata": {},
   "outputs": [
    {
     "name": "stdout",
     "output_type": "stream",
     "text": [
      "/home/aerdem/projects/nvidia/logits-processor-zoo\n"
     ]
    }
   ],
   "source": [
    "%cd ../.."
   ]
  },
  {
   "cell_type": "code",
   "execution_count": 2,
   "id": "0ea01217",
   "metadata": {},
   "outputs": [
    {
     "name": "stdout",
     "output_type": "stream",
     "text": [
      "INFO 06-18 10:43:23 [__init__.py:243] Automatically detected platform cuda.\n",
      "INFO 06-18 10:43:25 [__init__.py:31] Available plugins for group vllm.general_plugins:\n",
      "INFO 06-18 10:43:25 [__init__.py:33] - lora_filesystem_resolver -> vllm.plugins.lora_resolvers.filesystem_resolver:register_filesystem_resolver\n",
      "INFO 06-18 10:43:25 [__init__.py:36] All plugins in this group will be loaded. Set `VLLM_PLUGINS` to control which plugins to load.\n",
      "WARNING 06-18 10:43:26 [config.py:3135] Casting torch.bfloat16 to torch.float16.\n",
      "INFO 06-18 10:43:31 [config.py:793] This model supports multiple tasks: {'classify', 'score', 'generate', 'embed', 'reward'}. Defaulting to 'generate'.\n",
      "WARNING 06-18 10:43:31 [cuda.py:87] To see benefits of async output processing, enable CUDA graph. Since, enforce-eager is enabled, async output processor cannot be used\n",
      "INFO 06-18 10:43:31 [llm_engine.py:230] Initializing a V0 LLM engine (v0.9.0) with config: model='Qwen/Qwen2.5-1.5B-Instruct', speculative_config=None, tokenizer='Qwen/Qwen2.5-1.5B-Instruct', skip_tokenizer_init=False, tokenizer_mode=auto, revision=None, override_neuron_config={}, tokenizer_revision=None, trust_remote_code=True, dtype=torch.float16, max_seq_len=32768, download_dir=None, load_format=auto, tensor_parallel_size=1, pipeline_parallel_size=1, disable_custom_all_reduce=False, quantization=None, enforce_eager=True, kv_cache_dtype=auto,  device_config=cuda, decoding_config=DecodingConfig(backend='auto', disable_fallback=False, disable_any_whitespace=False, disable_additional_properties=False, reasoning_backend=''), observability_config=ObservabilityConfig(show_hidden_metrics_for_version=None, otlp_traces_endpoint=None, collect_detailed_traces=None), seed=None, served_model_name=Qwen/Qwen2.5-1.5B-Instruct, num_scheduler_steps=1, multi_step_stream_outputs=True, enable_prefix_caching=None, chunked_prefill_enabled=False, use_async_output_proc=False, pooler_config=None, compilation_config={\"compile_sizes\": [], \"inductor_compile_config\": {\"enable_auto_functionalized_v2\": false}, \"cudagraph_capture_sizes\": [], \"max_capture_size\": 0}, use_cached_outputs=False, \n",
      "INFO 06-18 10:43:33 [cuda.py:292] Using Flash Attention backend.\n",
      "INFO 06-18 10:43:33 [parallel_state.py:1064] rank 0 in world size 1 is assigned as DP rank 0, PP rank 0, TP rank 0, EP rank 0\n",
      "INFO 06-18 10:43:33 [model_runner.py:1170] Starting to load model Qwen/Qwen2.5-1.5B-Instruct...\n",
      "INFO 06-18 10:43:34 [weight_utils.py:291] Using model weights format ['*.safetensors']\n",
      "INFO 06-18 10:43:35 [weight_utils.py:344] No model.safetensors.index.json found in remote.\n"
     ]
    },
    {
     "data": {
      "application/vnd.jupyter.widget-view+json": {
       "model_id": "",
       "version_major": 2,
       "version_minor": 0
      },
      "text/plain": [
       "Loading safetensors checkpoint shards:   0% Completed | 0/1 [00:00<?, ?it/s]\n"
      ]
     },
     "metadata": {},
     "output_type": "display_data"
    },
    {
     "name": "stdout",
     "output_type": "stream",
     "text": [
      "INFO 06-18 10:43:35 [default_loader.py:280] Loading weights took 0.57 seconds\n",
      "INFO 06-18 10:43:35 [model_runner.py:1202] Model loading took 2.8876 GiB and 1.636910 seconds\n",
      "INFO 06-18 10:43:37 [worker.py:291] Memory profiling takes 1.58 seconds\n",
      "INFO 06-18 10:43:37 [worker.py:291] the current vLLM instance can use total_gpu_memory (23.56GiB) x gpu_memory_utilization (0.90) = 21.20GiB\n",
      "INFO 06-18 10:43:37 [worker.py:291] model weights take 2.89GiB; non_torch_memory takes 0.07GiB; PyTorch activation peak memory takes 2.02GiB; the rest of the memory reserved for KV Cache is 16.22GiB.\n",
      "INFO 06-18 10:43:37 [executor_base.py:112] # cuda blocks: 37953, # CPU blocks: 9362\n",
      "INFO 06-18 10:43:37 [executor_base.py:117] Maximum concurrency for 32768 tokens per request: 18.53x\n",
      "INFO 06-18 10:43:38 [llm_engine.py:428] init engine (profile, create kv cache, warmup model) took 3.09 seconds\n"
     ]
    }
   ],
   "source": [
    "from example_notebooks.vllm.utils import vLLMRunner\n",
    "from logits_processor_zoo.vllm import PreventHallucinationLogitsProcessor\n",
    "\n",
    "runner = vLLMRunner()"
   ]
  },
  {
   "cell_type": "markdown",
   "id": "859aef8d",
   "metadata": {},
   "source": [
    "## Default Response"
   ]
  },
  {
   "cell_type": "code",
   "execution_count": 3,
   "id": "cbf4c2d5",
   "metadata": {},
   "outputs": [
    {
     "name": "stdout",
     "output_type": "stream",
     "text": [
      "Prompt: Tell me the Nobel Prizes in 1977\n",
      "The Nobel Prizes were awarded in 1977 for the following categories:\n",
      "\n",
      "1. Physics: Robert Boyle, Jr. (USA) and Robert C. Richardson (USA) were awarded the Nobel Prize in Physics for their work on the structure of the atom.\n",
      "\n",
      "2. Chemistry: Robert Burns Woodward (USA) and Jean-Marie Lehn (France) were awarded the Nobel Prize in Chemistry for their work on the structure and reactivity of organic molecules.\n",
      "\n",
      "3. Physiology or Medicine: Walter G. Kossel (USA) and George B. Smalley (USA) were awarded the Nobel Prize in Physiology or Medicine for their work on the structure and function of the cell.\n",
      "\n",
      "4. Literature: William Faulkner (USA) was awarded the Nobel Prize in Literature for his mastery of the novel form, and his ability to present in great depth and poignancy human experience in the broadest possible manner.\n",
      "\n",
      "5. Peace: The Nobel Peace Prize was awarded to the United Nations for its work in maintaining international peace and security.\n",
      "\n",
      "6. Economic Sciences: Paul Samuelson (USA) was awarded the Nobel Prize in Economic Sciences for his work on the theory of economic equilibrium and welfare.\n",
      "-----END-----\n",
      "\n",
      "Prompt: \n",
      "    Retrieved information:\n",
      "    Pokémon is a Japanese media franchise consisting of video games, animated series and films, a trading card game, and other related media. \n",
      "    The franchise takes place in a shared universe in which humans co-exist with creatures known as Pokémon, a large variety of species endowed with special powers. \n",
      "    The franchise's target audience is children aged 5 to 12, but it is known to attract people of all ages.\n",
      "    \n",
      "    Can you shortly describe what Pokémon is?\n",
      "    \n",
      "Pokémon is a Japanese media franchise that includes video games, animated series, films, trading card games, and other related media. It features a shared universe where humans coexist with Pokémon, a diverse group of creatures with special powers. The franchise is aimed at children aged 5 to 12, but it has a broad appeal across all ages.\n",
      "-----END-----\n",
      "\n"
     ]
    }
   ],
   "source": [
    "example_prompts =[\n",
    "    \"Tell me the Nobel Prizes in 1977\",\n",
    "    \"\"\"\n",
    "    Retrieved information:\n",
    "    Pokémon is a Japanese media franchise consisting of video games, animated series and films, a trading card game, and other related media. \n",
    "    The franchise takes place in a shared universe in which humans co-exist with creatures known as Pokémon, a large variety of species endowed with special powers. \n",
    "    The franchise's target audience is children aged 5 to 12, but it is known to attract people of all ages.\n",
    "    \n",
    "    Can you shortly describe what Pokémon is?\n",
    "    \"\"\"\n",
    "]\n",
    "\n",
    "runner.generate_response(example_prompts)"
   ]
  },
  {
   "cell_type": "markdown",
   "id": "88bc2f8a",
   "metadata": {},
   "source": [
    "## Prevent Hallucinations"
   ]
  },
  {
   "cell_type": "code",
   "execution_count": 4,
   "id": "7d74eb26",
   "metadata": {},
   "outputs": [
    {
     "name": "stdout",
     "output_type": "stream",
     "text": [
      "Prompt: Tell me the Nobel Prizes in 1977\n",
      "The Nobel Prizes were awarded in 1977 for the following categories:\n",
      "\n",
      "1. Physics: Robert...I don't know actually.\n",
      "2. Chemistry: Robert...I don't know actually.\n",
      "3. Physiology or Medicine:...I don't know actually.\n",
      "4. Literature:...I don't know actually.\n",
      "5. Peace:...I don't know actually.\n",
      "6. Economic Sciences:...I don't know actually.\n",
      "\n",
      "...I don't know actually.\n",
      "I'm sorry, but I don't have enough information to provide the specific winners for each category. The Nobel Prizes are awarded annually by the Nobel Foundation, and the winners are announced in the spring of the year following the awarding of the prizes.\n",
      "-----END-----\n",
      "\n",
      "Prompt: \n",
      "    Retrieved information:\n",
      "    Pokémon is a Japanese media franchise consisting of video games, animated series and films, a trading card game, and other related media. \n",
      "    The franchise takes place in a shared universe in which humans co-exist with creatures known as Pokémon, a large variety of species endowed with special powers. \n",
      "    The franchise's target audience is children aged 5 to 12, but it is known to attract people of all ages.\n",
      "    \n",
      "    Can you shortly describe what Pokémon is?\n",
      "    \n",
      "Pokémon is a Japanese media franchise that includes video games, animated series, films, trading card games, and other related media. It features a shared universe where humans coexist with Pokémon, a diverse group of creatures with special powers. The franchise is aimed at children aged 5 to 12, but it has a broad appeal across all ages.\n",
      "-----END-----\n",
      "\n"
     ]
    }
   ],
   "source": [
    "runner.generate_response(example_prompts,\n",
    "                         [PreventHallucinationLogitsProcessor(runner.tokenizer, minp=0.25, tolerate=1)])"
   ]
  },
  {
   "cell_type": "code",
   "execution_count": null,
   "id": "aab7ed04",
   "metadata": {},
   "outputs": [],
   "source": []
  }
 ],
 "metadata": {
  "kernelspec": {
   "display_name": "Python 3 (ipykernel)",
   "language": "python",
   "name": "python3"
  },
  "language_info": {
   "codemirror_mode": {
    "name": "ipython",
    "version": 3
   },
   "file_extension": ".py",
   "mimetype": "text/x-python",
   "name": "python",
   "nbconvert_exporter": "python",
   "pygments_lexer": "ipython3",
   "version": "3.10.17"
  }
 },
 "nbformat": 4,
 "nbformat_minor": 5
}
